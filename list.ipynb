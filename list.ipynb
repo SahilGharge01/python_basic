{
 "cells": [
  {
   "cell_type": "markdown",
   "id": "fd0f79ef-6ceb-49fe-8e85-87ed5b542b20",
   "metadata": {},
   "source": [
    "# list "
   ]
  },
  {
   "cell_type": "raw",
   "id": "5d288abd-14cd-4f34-9d6b-51e795c076dd",
   "metadata": {},
   "source": [
    "list writing squar bracket []"
   ]
  },
  {
   "cell_type": "code",
   "execution_count": null,
   "id": "7d2bf52f-fb52-465d-ba93-a0578f2453d0",
   "metadata": {},
   "outputs": [],
   "source": []
  },
  {
   "cell_type": "code",
   "execution_count": 3,
   "id": "acbc69f8-a682-4e46-9e8e-69f36fa7a21f",
   "metadata": {},
   "outputs": [],
   "source": [
    "numbers = [1,2,3,4,5] "
   ]
  },
  {
   "cell_type": "code",
   "execution_count": 5,
   "id": "5ba98e5e-cb87-411a-b8d1-c30ebfd335a9",
   "metadata": {},
   "outputs": [
    {
     "data": {
      "text/plain": [
       "[1, 2, 3, 4, 5]"
      ]
     },
     "execution_count": 5,
     "metadata": {},
     "output_type": "execute_result"
    }
   ],
   "source": [
    "numbers"
   ]
  },
  {
   "cell_type": "code",
   "execution_count": 7,
   "id": "3b37414b-50f0-49b4-a579-bd4bed8a1291",
   "metadata": {},
   "outputs": [
    {
     "data": {
      "text/plain": [
       "list"
      ]
     },
     "execution_count": 7,
     "metadata": {},
     "output_type": "execute_result"
    }
   ],
   "source": [
    "type(numbers)"
   ]
  },
  {
   "cell_type": "code",
   "execution_count": 13,
   "id": "ee7509b9-b065-4e6f-986d-31aedf60f8c8",
   "metadata": {},
   "outputs": [],
   "source": [
    "name = ['sahil','sumit', 'adity',' harsh']"
   ]
  },
  {
   "cell_type": "code",
   "execution_count": 15,
   "id": "75d79662-6d16-4854-9fdd-ac96140febe7",
   "metadata": {},
   "outputs": [
    {
     "data": {
      "text/plain": [
       "['sahil', 'sumit', 'adity', ' harsh']"
      ]
     },
     "execution_count": 15,
     "metadata": {},
     "output_type": "execute_result"
    }
   ],
   "source": [
    "name"
   ]
  },
  {
   "cell_type": "code",
   "execution_count": 41,
   "id": "c3a618df-ae58-4ee0-b5a7-33dbe6f53442",
   "metadata": {},
   "outputs": [],
   "source": [
    "mix_data =[1,10.5,10+5j,'hello',True]"
   ]
  },
  {
   "cell_type": "code",
   "execution_count": 43,
   "id": "c3f9030e-330f-4044-a4db-3a34e24f6778",
   "metadata": {},
   "outputs": [
    {
     "data": {
      "text/plain": [
       "[1, 10.5, (10+5j), 'hello', True]"
      ]
     },
     "execution_count": 43,
     "metadata": {},
     "output_type": "execute_result"
    }
   ],
   "source": [
    "mix_data"
   ]
  },
  {
   "cell_type": "code",
   "execution_count": 45,
   "id": "41c2b381-df4d-4029-81d3-aa7db3aef9b8",
   "metadata": {},
   "outputs": [],
   "source": [
    "#indexing"
   ]
  },
  {
   "cell_type": "code",
   "execution_count": 47,
   "id": "3d4443fd-8cf5-48ab-931e-44dc5feaca02",
   "metadata": {},
   "outputs": [
    {
     "data": {
      "text/plain": [
       "[1, 2, 3, 4, 5]"
      ]
     },
     "execution_count": 47,
     "metadata": {},
     "output_type": "execute_result"
    }
   ],
   "source": [
    "numbers"
   ]
  },
  {
   "cell_type": "code",
   "execution_count": 49,
   "id": "77f9d318-da3a-4f43-a465-ffb414df4a0f",
   "metadata": {},
   "outputs": [
    {
     "data": {
      "text/plain": [
       "3"
      ]
     },
     "execution_count": 49,
     "metadata": {},
     "output_type": "execute_result"
    }
   ],
   "source": [
    "numbers[2]"
   ]
  },
  {
   "cell_type": "code",
   "execution_count": 62,
   "id": "217d9271-d7cb-43b3-968e-79f3b2975b67",
   "metadata": {},
   "outputs": [
    {
     "data": {
      "text/plain": [
       "[1, 10.5, (10+5j), 'hello', True]"
      ]
     },
     "execution_count": 62,
     "metadata": {},
     "output_type": "execute_result"
    }
   ],
   "source": [
    "mix_data"
   ]
  },
  {
   "cell_type": "code",
   "execution_count": 64,
   "id": "824f2703-10cf-4d99-a5e5-9152dbf0635a",
   "metadata": {},
   "outputs": [
    {
     "data": {
      "text/plain": [
       "'hello'"
      ]
     },
     "execution_count": 64,
     "metadata": {},
     "output_type": "execute_result"
    }
   ],
   "source": [
    "mix_data[3]"
   ]
  },
  {
   "cell_type": "code",
   "execution_count": null,
   "id": "215744d2-c364-4e84-bfde-480fc11ce73a",
   "metadata": {},
   "outputs": [],
   "source": []
  }
 ],
 "metadata": {
  "kernelspec": {
   "display_name": "Python 3 (ipykernel)",
   "language": "python",
   "name": "python3"
  },
  "language_info": {
   "codemirror_mode": {
    "name": "ipython",
    "version": 3
   },
   "file_extension": ".py",
   "mimetype": "text/x-python",
   "name": "python",
   "nbconvert_exporter": "python",
   "pygments_lexer": "ipython3",
   "version": "3.12.7"
  }
 },
 "nbformat": 4,
 "nbformat_minor": 5
}
