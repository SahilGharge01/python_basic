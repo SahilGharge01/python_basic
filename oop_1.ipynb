{
 "cells": [
  {
   "cell_type": "code",
   "execution_count": 5,
   "id": "86ade32b-6bad-4bf2-8b6b-0a1d6982e85a",
   "metadata": {},
   "outputs": [],
   "source": [
    "class test():\n",
    "    def __init__(self, a,b):\n",
    "        self.a = a\n",
    "        self.b = b"
   ]
  },
  {
   "cell_type": "code",
   "execution_count": 9,
   "id": "a71dc070-e4c5-48b7-a6bd-87d9d6265325",
   "metadata": {},
   "outputs": [],
   "source": [
    "obj = test(10,5)"
   ]
  },
  {
   "cell_type": "code",
   "execution_count": 13,
   "id": "4d3280e8-d8e3-4c81-a4d6-259423ca0e2c",
   "metadata": {},
   "outputs": [
    {
     "data": {
      "text/plain": [
       "10"
      ]
     },
     "execution_count": 13,
     "metadata": {},
     "output_type": "execute_result"
    }
   ],
   "source": [
    "obj.a"
   ]
  },
  {
   "cell_type": "code",
   "execution_count": 15,
   "id": "450b8e90-a018-4727-a9c5-251542ea4291",
   "metadata": {},
   "outputs": [
    {
     "data": {
      "text/plain": [
       "5"
      ]
     },
     "execution_count": 15,
     "metadata": {},
     "output_type": "execute_result"
    }
   ],
   "source": [
    "obj.b"
   ]
  },
  {
   "cell_type": "code",
   "execution_count": 36,
   "id": "49c8c2c5-ef72-43cc-a0d4-2c3b53155f7a",
   "metadata": {},
   "outputs": [],
   "source": [
    "class car():\n",
    "    def __init__(self, Model, Engine, Color): #constructor : way to data to class\n",
    "        self.Model = Model\n",
    "        self.Engine = Engine\n",
    "        self.color = Color"
   ]
  },
  {
   "cell_type": "code",
   "execution_count": 38,
   "id": "ff27aba6-25e2-4145-873c-0bf459759bd6",
   "metadata": {},
   "outputs": [],
   "source": [
    "Fortuner =car('SUV', 2000, 'black')"
   ]
  },
  {
   "cell_type": "code",
   "execution_count": 40,
   "id": "78be2511-96f1-4482-8453-eaed5f7ab6f5",
   "metadata": {},
   "outputs": [
    {
     "data": {
      "text/plain": [
       "'black'"
      ]
     },
     "execution_count": 40,
     "metadata": {},
     "output_type": "execute_result"
    }
   ],
   "source": [
    "Fortuner.color"
   ]
  },
  {
   "cell_type": "code",
   "execution_count": 44,
   "id": "d1540b42-b883-498f-b02f-2c28a4116038",
   "metadata": {},
   "outputs": [
    {
     "data": {
      "text/plain": [
       "2000"
      ]
     },
     "execution_count": 44,
     "metadata": {},
     "output_type": "execute_result"
    }
   ],
   "source": [
    "Fortuner.Engine"
   ]
  },
  {
   "cell_type": "code",
   "execution_count": 48,
   "id": "5dbfec88-56ea-4952-83b3-8599bfe3f60f",
   "metadata": {},
   "outputs": [
    {
     "data": {
      "text/plain": [
       "'SUV'"
      ]
     },
     "execution_count": 48,
     "metadata": {},
     "output_type": "execute_result"
    }
   ],
   "source": [
    "Fortuner.Model"
   ]
  },
  {
   "cell_type": "code",
   "execution_count": 50,
   "id": "1bd8086b-9684-4cae-9247-73c2334502fa",
   "metadata": {},
   "outputs": [],
   "source": [
    "ford =car('SUV', 1000, 'black')"
   ]
  },
  {
   "cell_type": "code",
   "execution_count": 52,
   "id": "b09fa880-231b-4ed5-a7b7-b551ec870389",
   "metadata": {},
   "outputs": [
    {
     "data": {
      "text/plain": [
       "'black'"
      ]
     },
     "execution_count": 52,
     "metadata": {},
     "output_type": "execute_result"
    }
   ],
   "source": [
    "ford.color\n"
   ]
  },
  {
   "cell_type": "code",
   "execution_count": 54,
   "id": "64a39812-f07d-448d-8110-7da99c90bcbd",
   "metadata": {},
   "outputs": [
    {
     "data": {
      "text/plain": [
       "'SUV'"
      ]
     },
     "execution_count": 54,
     "metadata": {},
     "output_type": "execute_result"
    }
   ],
   "source": [
    "ford.Model"
   ]
  },
  {
   "cell_type": "code",
   "execution_count": 56,
   "id": "3f40a5d0-5a77-435d-8a0e-9420ad492d0d",
   "metadata": {},
   "outputs": [
    {
     "data": {
      "text/plain": [
       "1000"
      ]
     },
     "execution_count": 56,
     "metadata": {},
     "output_type": "execute_result"
    }
   ],
   "source": [
    "ford.Engine"
   ]
  },
  {
   "cell_type": "code",
   "execution_count": null,
   "id": "ddf364b8-c4d1-4c36-a946-2a0dc320696d",
   "metadata": {},
   "outputs": [],
   "source": []
  }
 ],
 "metadata": {
  "kernelspec": {
   "display_name": "Python 3 (ipykernel)",
   "language": "python",
   "name": "python3"
  },
  "language_info": {
   "codemirror_mode": {
    "name": "ipython",
    "version": 3
   },
   "file_extension": ".py",
   "mimetype": "text/x-python",
   "name": "python",
   "nbconvert_exporter": "python",
   "pygments_lexer": "ipython3",
   "version": "3.12.7"
  }
 },
 "nbformat": 4,
 "nbformat_minor": 5
}
