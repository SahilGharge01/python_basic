{
 "cells": [
  {
   "cell_type": "code",
   "execution_count": 1,
   "id": "aa97f237-3027-4790-8c1b-cdb1ba4485fc",
   "metadata": {},
   "outputs": [],
   "source": [
    "l=[1,2,3,4,5,6,7,8]"
   ]
  },
  {
   "cell_type": "code",
   "execution_count": 3,
   "id": "6801cec5-283e-4f35-97a8-18936e368ca3",
   "metadata": {},
   "outputs": [
    {
     "data": {
      "text/plain": [
       "[1, 2, 3, 4]"
      ]
     },
     "execution_count": 3,
     "metadata": {},
     "output_type": "execute_result"
    }
   ],
   "source": [
    "l[0:4]\n"
   ]
  },
  {
   "cell_type": "code",
   "execution_count": 14,
   "id": "4a9b5e94-4e4f-4a22-85aa-b5b5362c3c04",
   "metadata": {},
   "outputs": [],
   "source": [
    "names = ['om','sahil','sumit','raj','king']"
   ]
  },
  {
   "cell_type": "code",
   "execution_count": 16,
   "id": "da456c47-bb01-4e1f-a778-33db3a44783e",
   "metadata": {},
   "outputs": [
    {
     "data": {
      "text/plain": [
       "['om', 'sahil', 'sumit']"
      ]
     },
     "execution_count": 16,
     "metadata": {},
     "output_type": "execute_result"
    }
   ],
   "source": [
    "names[0:3]"
   ]
  },
  {
   "cell_type": "code",
   "execution_count": 18,
   "id": "f056da6a-c012-4256-b89b-0b2dcfcbd289",
   "metadata": {},
   "outputs": [
    {
     "data": {
      "text/plain": [
       "[1, 2, 3, 4, 5, 6, 7, 8]"
      ]
     },
     "execution_count": 18,
     "metadata": {},
     "output_type": "execute_result"
    }
   ],
   "source": [
    "l"
   ]
  },
  {
   "cell_type": "code",
   "execution_count": 20,
   "id": "d2e96da2-560b-4f33-83f8-b89a62f97f16",
   "metadata": {},
   "outputs": [
    {
     "data": {
      "text/plain": [
       "[3, 4, 5, 6]"
      ]
     },
     "execution_count": 20,
     "metadata": {},
     "output_type": "execute_result"
    }
   ],
   "source": [
    "l[2:6]"
   ]
  },
  {
   "cell_type": "code",
   "execution_count": 22,
   "id": "7a00bad9-2052-4a40-98c2-bce26f064d1f",
   "metadata": {},
   "outputs": [
    {
     "data": {
      "text/plain": [
       "[1, 2, 3, 4, 5, 6, 7, 8]"
      ]
     },
     "execution_count": 22,
     "metadata": {},
     "output_type": "execute_result"
    }
   ],
   "source": [
    "l"
   ]
  },
  {
   "cell_type": "code",
   "execution_count": 28,
   "id": "2d6105e6-6510-4a94-9257-f91d6703c595",
   "metadata": {},
   "outputs": [
    {
     "data": {
      "text/plain": [
       "[1, 2, 3, 4]"
      ]
     },
     "execution_count": 28,
     "metadata": {},
     "output_type": "execute_result"
    }
   ],
   "source": [
    "l[0:4:1] #start point:end point:jump size"
   ]
  },
  {
   "cell_type": "code",
   "execution_count": 26,
   "id": "aa12d617-ef87-4106-91f6-aafafb62203e",
   "metadata": {},
   "outputs": [
    {
     "data": {
      "text/plain": [
       "[1, 2, 3, 4, 5, 6, 7, 8]"
      ]
     },
     "execution_count": 26,
     "metadata": {},
     "output_type": "execute_result"
    }
   ],
   "source": [
    "l"
   ]
  },
  {
   "cell_type": "code",
   "execution_count": 30,
   "id": "311b8df6-80bf-4e0d-b632-80c09e10d200",
   "metadata": {},
   "outputs": [
    {
     "data": {
      "text/plain": [
       "[1, 2, 3, 4, 5, 6, 7, 8]"
      ]
     },
     "execution_count": 30,
     "metadata": {},
     "output_type": "execute_result"
    }
   ],
   "source": [
    "l[:]#start to all end all"
   ]
  },
  {
   "cell_type": "code",
   "execution_count": 34,
   "id": "aeb73505-9cd7-4ac9-90e9-b32ab859a5f7",
   "metadata": {},
   "outputs": [
    {
     "data": {
      "text/plain": [
       "[1, 3, 5, 7]"
      ]
     },
     "execution_count": 34,
     "metadata": {},
     "output_type": "execute_result"
    }
   ],
   "source": [
    "l[::2]"
   ]
  },
  {
   "cell_type": "code",
   "execution_count": 36,
   "id": "375c4325-5ccb-4284-a2b7-e04c72090a93",
   "metadata": {},
   "outputs": [
    {
     "data": {
      "text/plain": [
       "[1, 3, 5, 7]"
      ]
     },
     "execution_count": 36,
     "metadata": {},
     "output_type": "execute_result"
    }
   ],
   "source": [
    "l[0:8:2]"
   ]
  },
  {
   "cell_type": "code",
   "execution_count": 38,
   "id": "5d78b25c-d60e-4fee-93f3-5630613899a4",
   "metadata": {},
   "outputs": [
    {
     "data": {
      "text/plain": [
       "[2, 3, 4, 5, 6, 7, 8]"
      ]
     },
     "execution_count": 38,
     "metadata": {},
     "output_type": "execute_result"
    }
   ],
   "source": [
    "l[1::]"
   ]
  },
  {
   "cell_type": "code",
   "execution_count": 40,
   "id": "77be6bb7-cae4-4dae-91b0-cb523fed15fd",
   "metadata": {},
   "outputs": [
    {
     "data": {
      "text/plain": [
       "[4, 5, 6, 7, 8]"
      ]
     },
     "execution_count": 40,
     "metadata": {},
     "output_type": "execute_result"
    }
   ],
   "source": [
    "l[3:]"
   ]
  },
  {
   "cell_type": "code",
   "execution_count": 42,
   "id": "70c19a63-fb76-40fb-9151-3cb36496b01b",
   "metadata": {},
   "outputs": [
    {
     "data": {
      "text/plain": [
       "[3, 5, 7]"
      ]
     },
     "execution_count": 42,
     "metadata": {},
     "output_type": "execute_result"
    }
   ],
   "source": [
    "l[2::2]"
   ]
  },
  {
   "cell_type": "code",
   "execution_count": 44,
   "id": "c14a1b55-aad0-40f6-89e7-aa0dc1c3e30f",
   "metadata": {},
   "outputs": [
    {
     "data": {
      "text/plain": [
       "[1, 4, 7]"
      ]
     },
     "execution_count": 44,
     "metadata": {},
     "output_type": "execute_result"
    }
   ],
   "source": [
    "l[::3]"
   ]
  },
  {
   "cell_type": "code",
   "execution_count": 46,
   "id": "8e1ae46b-7a6c-421f-810f-e2b89567f838",
   "metadata": {},
   "outputs": [
    {
     "data": {
      "text/plain": [
       "[8, 7, 6, 5, 4, 3, 2]"
      ]
     },
     "execution_count": 46,
     "metadata": {},
     "output_type": "execute_result"
    }
   ],
   "source": [
    "l[7:0:-1]"
   ]
  },
  {
   "cell_type": "code",
   "execution_count": 50,
   "id": "a04d2b64-28f7-497b-91d2-d6a109107e4d",
   "metadata": {},
   "outputs": [
    {
     "data": {
      "text/plain": [
       "[8, 7, 6, 5, 4, 3, 2, 1]"
      ]
     },
     "execution_count": 50,
     "metadata": {},
     "output_type": "execute_result"
    }
   ],
   "source": [
    "l[::-1] #all data in reverse order"
   ]
  },
  {
   "cell_type": "code",
   "execution_count": 52,
   "id": "44e5bdab-d2c1-4f0f-b5a1-418d67a50ab0",
   "metadata": {},
   "outputs": [
    {
     "data": {
      "text/plain": [
       "[8, 5, 2]"
      ]
     },
     "execution_count": 52,
     "metadata": {},
     "output_type": "execute_result"
    }
   ],
   "source": [
    "l[::-3]"
   ]
  },
  {
   "cell_type": "code",
   "execution_count": 54,
   "id": "0285edba-c130-47be-b360-1f30d01828a7",
   "metadata": {},
   "outputs": [
    {
     "data": {
      "text/plain": [
       "[1, 2, 3, 4, 5, 6, 7, 8]"
      ]
     },
     "execution_count": 54,
     "metadata": {},
     "output_type": "execute_result"
    }
   ],
   "source": [
    "l"
   ]
  },
  {
   "cell_type": "code",
   "execution_count": 56,
   "id": "c526815a-8456-4df6-83a0-bba01c29d267",
   "metadata": {},
   "outputs": [
    {
     "data": {
      "text/plain": [
       "[8, 7, 6, 5]"
      ]
     },
     "execution_count": 56,
     "metadata": {},
     "output_type": "execute_result"
    }
   ],
   "source": [
    "l[7:3:-1]"
   ]
  },
  {
   "cell_type": "code",
   "execution_count": 58,
   "id": "2ba48c2c-a396-45dc-ab95-8630c6f97eca",
   "metadata": {},
   "outputs": [
    {
     "data": {
      "text/plain": [
       "8"
      ]
     },
     "execution_count": 58,
     "metadata": {},
     "output_type": "execute_result"
    }
   ],
   "source": [
    "l[-1]"
   ]
  },
  {
   "cell_type": "raw",
   "id": "4d1c1f4e-a51b-4fbf-8d4c-1ac9ae53b1ba",
   "metadata": {},
   "source": [
    "#--> reverse this list by using sliceing operation\n",
    "-->l[::-1]"
   ]
  },
  {
   "cell_type": "code",
   "execution_count": 62,
   "id": "757be286-bb31-48b0-ad43-6392986d2a77",
   "metadata": {},
   "outputs": [
    {
     "data": {
      "text/plain": [
       "['om', 'sahil', 'sumit', 'raj', 'king']"
      ]
     },
     "execution_count": 62,
     "metadata": {},
     "output_type": "execute_result"
    }
   ],
   "source": [
    "names"
   ]
  },
  {
   "cell_type": "code",
   "execution_count": 64,
   "id": "8d961b85-0241-4365-a47e-f661de553fac",
   "metadata": {},
   "outputs": [
    {
     "data": {
      "text/plain": [
       "['king', 'raj', 'sumit', 'sahil', 'om']"
      ]
     },
     "execution_count": 64,
     "metadata": {},
     "output_type": "execute_result"
    }
   ],
   "source": [
    "names[::-1]"
   ]
  },
  {
   "cell_type": "raw",
   "id": "ce1cefb1-9eae-4955-8e89-bcfcce57be09",
   "metadata": {},
   "source": [
    "d=['a','b','c','d','e']\n",
    "--> write data only from a to b"
   ]
  },
  {
   "cell_type": "code",
   "execution_count": 68,
   "id": "458caf4f-5cbb-4815-a2c1-c65dd6c89f9b",
   "metadata": {},
   "outputs": [],
   "source": [
    "d=['a','b','c','d','e']"
   ]
  },
  {
   "cell_type": "code",
   "execution_count": 72,
   "id": "be22d399-f814-409f-af08-bb16da2227c8",
   "metadata": {},
   "outputs": [
    {
     "data": {
      "text/plain": [
       "['a', 'b']"
      ]
     },
     "execution_count": 72,
     "metadata": {},
     "output_type": "execute_result"
    }
   ],
   "source": [
    "d[0:2]"
   ]
  },
  {
   "cell_type": "code",
   "execution_count": 74,
   "id": "661a6f13-f81b-4311-bc74-fdf21cffb2a3",
   "metadata": {},
   "outputs": [
    {
     "data": {
      "text/plain": [
       "['d', 'e']"
      ]
     },
     "execution_count": 74,
     "metadata": {},
     "output_type": "execute_result"
    }
   ],
   "source": [
    "d[3:5]"
   ]
  },
  {
   "cell_type": "code",
   "execution_count": 78,
   "id": "b61780c9-45e9-4c4e-b9cb-d802bc585cf7",
   "metadata": {},
   "outputs": [
    {
     "data": {
      "text/plain": [
       "['a', 'b', 'c']"
      ]
     },
     "execution_count": 78,
     "metadata": {},
     "output_type": "execute_result"
    }
   ],
   "source": [
    "d[:3]"
   ]
  },
  {
   "cell_type": "code",
   "execution_count": 80,
   "id": "a4db8693-b3a6-4ac1-b675-a8c426dc7230",
   "metadata": {},
   "outputs": [
    {
     "data": {
      "text/plain": [
       "['b', 'c', 'd', 'e']"
      ]
     },
     "execution_count": 80,
     "metadata": {},
     "output_type": "execute_result"
    }
   ],
   "source": [
    "d[-4:]"
   ]
  },
  {
   "cell_type": "code",
   "execution_count": null,
   "id": "c14a4c1a-cb1b-4b56-b069-e26a32784ec7",
   "metadata": {},
   "outputs": [],
   "source": [
    "S"
   ]
  }
 ],
 "metadata": {
  "kernelspec": {
   "display_name": "Python 3 (ipykernel)",
   "language": "python",
   "name": "python3"
  },
  "language_info": {
   "codemirror_mode": {
    "name": "ipython",
    "version": 3
   },
   "file_extension": ".py",
   "mimetype": "text/x-python",
   "name": "python",
   "nbconvert_exporter": "python",
   "pygments_lexer": "ipython3",
   "version": "3.12.7"
  }
 },
 "nbformat": 4,
 "nbformat_minor": 5
}
