{
 "cells": [
  {
   "cell_type": "code",
   "execution_count": 1,
   "id": "bbb7d6bd-c300-4806-a95a-f32abf3962b3",
   "metadata": {},
   "outputs": [],
   "source": [
    "mix_data = (1,2,3,4,(10.5,20.5,30.5,),True,'hello',)"
   ]
  },
  {
   "cell_type": "code",
   "execution_count": 3,
   "id": "b8f2e0f7-6c57-4693-a746-c30acdc545bd",
   "metadata": {},
   "outputs": [
    {
     "data": {
      "text/plain": [
       "(1, 2, 3, 4, (10.5, 20.5, 30.5), True, 'hello')"
      ]
     },
     "execution_count": 3,
     "metadata": {},
     "output_type": "execute_result"
    }
   ],
   "source": [
    "mix_data"
   ]
  },
  {
   "cell_type": "code",
   "execution_count": 5,
   "id": "8fef83f1-ff73-46bd-9a21-f0d2377775f1",
   "metadata": {},
   "outputs": [
    {
     "data": {
      "text/plain": [
       "tuple"
      ]
     },
     "execution_count": 5,
     "metadata": {},
     "output_type": "execute_result"
    }
   ],
   "source": [
    "type(mix_data)"
   ]
  },
  {
   "cell_type": "code",
   "execution_count": 9,
   "id": "c7943367-8ba2-46d6-9788-27b916873632",
   "metadata": {},
   "outputs": [
    {
     "data": {
      "text/plain": [
       "(1, 2, 3)"
      ]
     },
     "execution_count": 9,
     "metadata": {},
     "output_type": "execute_result"
    }
   ],
   "source": [
    "mix_data[0:3] #if i have filiter operation manily we are going to use[start_point: end point]bracket"
   ]
  },
  {
   "cell_type": "code",
   "execution_count": 11,
   "id": "47d4eadb-8748-4eb4-b231-53ad314f04d2",
   "metadata": {},
   "outputs": [],
   "source": [
    "#concatination operation b/w two tuple"
   ]
  },
  {
   "cell_type": "code",
   "execution_count": 13,
   "id": "bfffad9e-8269-4ab3-8d95-ac7bf985febe",
   "metadata": {},
   "outputs": [],
   "source": [
    "a = (10,20,30)"
   ]
  },
  {
   "cell_type": "code",
   "execution_count": 19,
   "id": "2fe5ade9-602c-4f4d-8bb0-7cc52b524fc1",
   "metadata": {},
   "outputs": [],
   "source": [
    "b = ('hello','python')"
   ]
  },
  {
   "cell_type": "code",
   "execution_count": 24,
   "id": "34a36ffe-7fd6-41b5-af63-b53de5307215",
   "metadata": {},
   "outputs": [
    {
     "data": {
      "text/plain": [
       "tuple"
      ]
     },
     "execution_count": 24,
     "metadata": {},
     "output_type": "execute_result"
    }
   ],
   "source": [
    "type(b)"
   ]
  },
  {
   "cell_type": "code",
   "execution_count": 27,
   "id": "2d971eb4-7018-43ff-b018-b71d993177ce",
   "metadata": {},
   "outputs": [
    {
     "data": {
      "text/plain": [
       "(10, 20, 30, 'hello', 'python')"
      ]
     },
     "execution_count": 27,
     "metadata": {},
     "output_type": "execute_result"
    }
   ],
   "source": [
    "a+b"
   ]
  },
  {
   "cell_type": "code",
   "execution_count": 29,
   "id": "c122924c-19b9-4131-a7d6-2f3333079b66",
   "metadata": {},
   "outputs": [
    {
     "data": {
      "text/plain": [
       "(10, 20, 30, 10, 20, 30, 10, 20, 30)"
      ]
     },
     "execution_count": 29,
     "metadata": {},
     "output_type": "execute_result"
    }
   ],
   "source": [
    "a*3"
   ]
  },
  {
   "cell_type": "code",
   "execution_count": 31,
   "id": "604e4ce2-81cc-4b64-9e9e-6ca34a2ff073",
   "metadata": {},
   "outputs": [],
   "source": [
    "#not possible in tuple  immutable"
   ]
  },
  {
   "cell_type": "code",
   "execution_count": 33,
   "id": "33c9faee-1b0f-40bd-a2a2-8bffb87b6cf5",
   "metadata": {},
   "outputs": [
    {
     "data": {
      "text/plain": [
       "(10, 20, 30)"
      ]
     },
     "execution_count": 33,
     "metadata": {},
     "output_type": "execute_result"
    }
   ],
   "source": [
    "a"
   ]
  },
  {
   "cell_type": "code",
   "execution_count": 35,
   "id": "1b651a86-065b-431d-80ab-941aa5225e3a",
   "metadata": {},
   "outputs": [
    {
     "ename": "SyntaxError",
     "evalue": "cannot assign to literal (3240783694.py, line 1)",
     "output_type": "error",
     "traceback": [
      "\u001b[1;36m  Cell \u001b[1;32mIn[35], line 1\u001b[1;36m\u001b[0m\n\u001b[1;33m    a = [1] =100\u001b[0m\n\u001b[1;37m         ^\u001b[0m\n\u001b[1;31mSyntaxError\u001b[0m\u001b[1;31m:\u001b[0m cannot assign to literal\n"
     ]
    }
   ],
   "source": [
    "a = [1] =100"
   ]
  },
  {
   "cell_type": "code",
   "execution_count": 37,
   "id": "c61fd7f2-234f-4354-a93a-bdd8c5eb28bc",
   "metadata": {},
   "outputs": [],
   "source": [
    "# if we have to chane /update tuple"
   ]
  },
  {
   "cell_type": "code",
   "execution_count": 39,
   "id": "6be5dbe0-50e8-401a-928b-9d8e2757dd55",
   "metadata": {},
   "outputs": [],
   "source": [
    "a = list(a)"
   ]
  },
  {
   "cell_type": "code",
   "execution_count": 41,
   "id": "a49a63ea-4623-4578-a82f-bdcb72b1b611",
   "metadata": {},
   "outputs": [
    {
     "data": {
      "text/plain": [
       "[10, 20, 30]"
      ]
     },
     "execution_count": 41,
     "metadata": {},
     "output_type": "execute_result"
    }
   ],
   "source": [
    "a"
   ]
  },
  {
   "cell_type": "code",
   "execution_count": 68,
   "id": "869113a9-6f35-4021-ba2a-9212f329a164",
   "metadata": {},
   "outputs": [
    {
     "data": {
      "text/plain": [
       "tuple"
      ]
     },
     "execution_count": 68,
     "metadata": {},
     "output_type": "execute_result"
    }
   ],
   "source": [
    "a"
   ]
  },
  {
   "cell_type": "code",
   "execution_count": 72,
   "id": "08276949-a30b-4faf-aff6-142a7e7f861a",
   "metadata": {},
   "outputs": [],
   "source": [
    "a = [10,20,30]"
   ]
  },
  {
   "cell_type": "code",
   "execution_count": 74,
   "id": "c7f99625-3b94-4972-a28d-57f9f53abf6d",
   "metadata": {},
   "outputs": [],
   "source": [
    "a = tuple (a)"
   ]
  },
  {
   "cell_type": "code",
   "execution_count": 77,
   "id": "3b54afb0-85e0-4ba8-afb0-902ab7fd77df",
   "metadata": {},
   "outputs": [
    {
     "data": {
      "text/plain": [
       "(10, 20, 30)"
      ]
     },
     "execution_count": 77,
     "metadata": {},
     "output_type": "execute_result"
    }
   ],
   "source": [
    "a"
   ]
  },
  {
   "cell_type": "code",
   "execution_count": 80,
   "id": "7c345e3c-0ea8-4d13-950c-e94f1942f70f",
   "metadata": {},
   "outputs": [],
   "source": [
    "mix_data = (1,2,3,4,(10.5,20.5,30.5,),True,'hello',)"
   ]
  },
  {
   "cell_type": "code",
   "execution_count": 82,
   "id": "86a3c97f-31f3-4e08-a0ce-920bcbb8b44f",
   "metadata": {},
   "outputs": [
    {
     "data": {
      "text/plain": [
       "(1, 2, 3, 4, (10.5, 20.5, 30.5), True, 'hello')"
      ]
     },
     "execution_count": 82,
     "metadata": {},
     "output_type": "execute_result"
    }
   ],
   "source": [
    "mix_data"
   ]
  },
  {
   "cell_type": "code",
   "execution_count": 84,
   "id": "7cb24ca2-2f63-41b3-99f0-8565898a3740",
   "metadata": {},
   "outputs": [
    {
     "data": {
      "text/plain": [
       "2"
      ]
     },
     "execution_count": 84,
     "metadata": {},
     "output_type": "execute_result"
    }
   ],
   "source": [
    "mix_data[1]"
   ]
  },
  {
   "cell_type": "code",
   "execution_count": 86,
   "id": "58bb8215-0b3f-4f11-b918-3c239a0fcd92",
   "metadata": {},
   "outputs": [
    {
     "ename": "TypeError",
     "evalue": "'tuple' object does not support item assignment",
     "output_type": "error",
     "traceback": [
      "\u001b[1;31m---------------------------------------------------------------------------\u001b[0m",
      "\u001b[1;31mTypeError\u001b[0m                                 Traceback (most recent call last)",
      "Cell \u001b[1;32mIn[86], line 1\u001b[0m\n\u001b[1;32m----> 1\u001b[0m mix_data[\u001b[38;5;241m1\u001b[39m] \u001b[38;5;241m=\u001b[39m\u001b[38;5;241m200\u001b[39m\n",
      "\u001b[1;31mTypeError\u001b[0m: 'tuple' object does not support item assignment"
     ]
    }
   ],
   "source": [
    "mix_data[1] =200"
   ]
  },
  {
   "cell_type": "code",
   "execution_count": 88,
   "id": "95c37594-3f56-496e-b42b-0c103c33f798",
   "metadata": {},
   "outputs": [],
   "source": [
    "mix_data = list(mix_data)"
   ]
  },
  {
   "cell_type": "code",
   "execution_count": 90,
   "id": "9db411e8-e543-4bcf-b262-3b7e2f382bc8",
   "metadata": {},
   "outputs": [
    {
     "data": {
      "text/plain": [
       "[1, 2, 3, 4, (10.5, 20.5, 30.5), True, 'hello']"
      ]
     },
     "execution_count": 90,
     "metadata": {},
     "output_type": "execute_result"
    }
   ],
   "source": [
    "mix_data"
   ]
  },
  {
   "cell_type": "code",
   "execution_count": 92,
   "id": "e9bcab35-3726-4f0f-b327-0cd124c36418",
   "metadata": {},
   "outputs": [
    {
     "data": {
      "text/plain": [
       "2"
      ]
     },
     "execution_count": 92,
     "metadata": {},
     "output_type": "execute_result"
    }
   ],
   "source": [
    "mix_data[1]"
   ]
  },
  {
   "cell_type": "code",
   "execution_count": 94,
   "id": "6b9a9450-d40d-4874-86a6-2585e01b52fc",
   "metadata": {},
   "outputs": [],
   "source": [
    "mix_data[1] =200"
   ]
  },
  {
   "cell_type": "code",
   "execution_count": 96,
   "id": "34bcb40c-3646-45ab-a774-99aa4c3e2013",
   "metadata": {},
   "outputs": [
    {
     "data": {
      "text/plain": [
       "[1, 200, 3, 4, (10.5, 20.5, 30.5), True, 'hello']"
      ]
     },
     "execution_count": 96,
     "metadata": {},
     "output_type": "execute_result"
    }
   ],
   "source": [
    "mix_data"
   ]
  },
  {
   "cell_type": "code",
   "execution_count": 98,
   "id": "494d2c42-f906-416d-b75c-8ee75e648b93",
   "metadata": {},
   "outputs": [
    {
     "data": {
      "text/plain": [
       "(1, 200, 3, 4, (10.5, 20.5, 30.5), True, 'hello')"
      ]
     },
     "execution_count": 98,
     "metadata": {},
     "output_type": "execute_result"
    }
   ],
   "source": [
    "tuple(mix_data)"
   ]
  },
  {
   "cell_type": "code",
   "execution_count": 100,
   "id": "0b852365-75b4-49c8-8bcc-71ca4019de21",
   "metadata": {},
   "outputs": [],
   "source": [
    "# tuple--.list-->change--> tuple"
   ]
  },
  {
   "cell_type": "markdown",
   "id": "816aa944-98ad-4a39-9eb4-8c8df554e14c",
   "metadata": {},
   "source": [
    "# set"
   ]
  },
  {
   "cell_type": "code",
   "execution_count": 103,
   "id": "467ca452-56ac-49a7-915d-57467c2730d4",
   "metadata": {},
   "outputs": [],
   "source": [
    "a={1,2,3,4}"
   ]
  },
  {
   "cell_type": "code",
   "execution_count": 105,
   "id": "f7eba226-5845-4e05-adfa-60387484a961",
   "metadata": {},
   "outputs": [
    {
     "data": {
      "text/plain": [
       "{1, 2, 3, 4}"
      ]
     },
     "execution_count": 105,
     "metadata": {},
     "output_type": "execute_result"
    }
   ],
   "source": [
    "a"
   ]
  },
  {
   "cell_type": "code",
   "execution_count": 107,
   "id": "f4c0d3ef-296c-4851-aaec-47a1e9a84aeb",
   "metadata": {},
   "outputs": [
    {
     "data": {
      "text/plain": [
       "set"
      ]
     },
     "execution_count": 107,
     "metadata": {},
     "output_type": "execute_result"
    }
   ],
   "source": [
    "type(a)"
   ]
  },
  {
   "cell_type": "code",
   "execution_count": 113,
   "id": "55c5cc87-8b69-47b2-82a4-155801169eaf",
   "metadata": {},
   "outputs": [],
   "source": [
    "b = {1,1,1,2,2,2,3,3,3} #doesn't allow doubleket value"
   ]
  },
  {
   "cell_type": "code",
   "execution_count": 111,
   "id": "d455138d-e9ce-45bd-8e25-0ff53309c44c",
   "metadata": {},
   "outputs": [
    {
     "data": {
      "text/plain": [
       "{1, 2, 3}"
      ]
     },
     "execution_count": 111,
     "metadata": {},
     "output_type": "execute_result"
    }
   ],
   "source": [
    "b"
   ]
  },
  {
   "cell_type": "code",
   "execution_count": 115,
   "id": "8e98a2d4-a602-41b9-9960-85c82aa3de2f",
   "metadata": {},
   "outputs": [],
   "source": [
    "# add and remove element"
   ]
  },
  {
   "cell_type": "code",
   "execution_count": 117,
   "id": "5dd147e4-67e8-4178-8891-f83dbbd4c30b",
   "metadata": {},
   "outputs": [],
   "source": [
    "b.add(10)"
   ]
  },
  {
   "cell_type": "code",
   "execution_count": 119,
   "id": "e2187e00-2ea9-47f9-a427-ce08bbe45a3f",
   "metadata": {},
   "outputs": [
    {
     "data": {
      "text/plain": [
       "{1, 2, 3, 10}"
      ]
     },
     "execution_count": 119,
     "metadata": {},
     "output_type": "execute_result"
    }
   ],
   "source": [
    "b"
   ]
  },
  {
   "cell_type": "code",
   "execution_count": 121,
   "id": "ec938af2-1614-40c5-a07e-04f04bf42349",
   "metadata": {},
   "outputs": [],
   "source": [
    "b.add(12)"
   ]
  },
  {
   "cell_type": "code",
   "execution_count": 123,
   "id": "55ea5b30-34e7-484a-a78f-6fa367334d72",
   "metadata": {},
   "outputs": [
    {
     "data": {
      "text/plain": [
       "{1, 2, 3, 10, 12}"
      ]
     },
     "execution_count": 123,
     "metadata": {},
     "output_type": "execute_result"
    }
   ],
   "source": [
    "b"
   ]
  },
  {
   "cell_type": "code",
   "execution_count": 125,
   "id": "5543bf00-3976-40c5-9071-135eb831ab48",
   "metadata": {},
   "outputs": [],
   "source": [
    "b.remove(12)"
   ]
  },
  {
   "cell_type": "code",
   "execution_count": 127,
   "id": "7b6423b4-226d-43ed-87ca-30d1a910527b",
   "metadata": {},
   "outputs": [
    {
     "data": {
      "text/plain": [
       "{1, 2, 3, 10}"
      ]
     },
     "execution_count": 127,
     "metadata": {},
     "output_type": "execute_result"
    }
   ],
   "source": [
    "b"
   ]
  },
  {
   "cell_type": "code",
   "execution_count": 129,
   "id": "2aae43cf-d5cd-41e9-ae9b-0f19956aab3b",
   "metadata": {},
   "outputs": [
    {
     "data": {
      "text/plain": [
       "1"
      ]
     },
     "execution_count": 129,
     "metadata": {},
     "output_type": "execute_result"
    }
   ],
   "source": [
    "b.pop()"
   ]
  },
  {
   "cell_type": "code",
   "execution_count": 131,
   "id": "5683e01e-03fb-43f8-9699-a71ee657ebe9",
   "metadata": {},
   "outputs": [
    {
     "data": {
      "text/plain": [
       "{2, 3, 10}"
      ]
     },
     "execution_count": 131,
     "metadata": {},
     "output_type": "execute_result"
    }
   ],
   "source": [
    "b"
   ]
  },
  {
   "cell_type": "code",
   "execution_count": 133,
   "id": "152011c4-326e-444e-8500-08f3f6b6880f",
   "metadata": {},
   "outputs": [],
   "source": [
    "set_1 ={1,2,3,4,5,6}"
   ]
  },
  {
   "cell_type": "code",
   "execution_count": 135,
   "id": "8ee3e662-d0d5-4c4b-93ae-d3874dd03a7a",
   "metadata": {},
   "outputs": [
    {
     "data": {
      "text/plain": [
       "{1, 2, 3, 4, 5, 6}"
      ]
     },
     "execution_count": 135,
     "metadata": {},
     "output_type": "execute_result"
    }
   ],
   "source": [
    "set_1"
   ]
  },
  {
   "cell_type": "code",
   "execution_count": 137,
   "id": "6cd72c1c-b27a-456f-b0d4-138321e1f3db",
   "metadata": {},
   "outputs": [],
   "source": [
    "set_2 = {4,5,6,7,8,9}"
   ]
  },
  {
   "cell_type": "code",
   "execution_count": 139,
   "id": "5f7ee23d-e051-4cc4-93f7-73dfb64b52e9",
   "metadata": {},
   "outputs": [
    {
     "data": {
      "text/plain": [
       "{4, 5, 6, 7, 8, 9}"
      ]
     },
     "execution_count": 139,
     "metadata": {},
     "output_type": "execute_result"
    }
   ],
   "source": [
    "set_2"
   ]
  },
  {
   "cell_type": "code",
   "execution_count": 141,
   "id": "bcfe3db5-201a-492c-826e-82b39ad8c263",
   "metadata": {},
   "outputs": [],
   "source": [
    "#union"
   ]
  },
  {
   "cell_type": "code",
   "execution_count": 143,
   "id": "9798efc5-c305-40b7-b69b-e241a24c63d8",
   "metadata": {},
   "outputs": [
    {
     "data": {
      "text/plain": [
       "{1, 2, 3, 4, 5, 6, 7, 8, 9}"
      ]
     },
     "execution_count": 143,
     "metadata": {},
     "output_type": "execute_result"
    }
   ],
   "source": [
    "set_1.union(set_2)"
   ]
  },
  {
   "cell_type": "code",
   "execution_count": 145,
   "id": "e224db9b-2df0-4f63-9b30-20266ad75583",
   "metadata": {},
   "outputs": [],
   "source": [
    "#intersection"
   ]
  },
  {
   "cell_type": "code",
   "execution_count": 147,
   "id": "d85e1f99-9b67-4a4d-8d97-5ef166dd334b",
   "metadata": {},
   "outputs": [
    {
     "data": {
      "text/plain": [
       "{4, 5, 6}"
      ]
     },
     "execution_count": 147,
     "metadata": {},
     "output_type": "execute_result"
    }
   ],
   "source": [
    "set_1.intersection(set_2)"
   ]
  },
  {
   "cell_type": "code",
   "execution_count": 149,
   "id": "cb1d61fb-fbdc-4c54-bf29-4dd52406d6e4",
   "metadata": {},
   "outputs": [
    {
     "data": {
      "text/plain": [
       "{1, 2, 3}"
      ]
     },
     "execution_count": 149,
     "metadata": {},
     "output_type": "execute_result"
    }
   ],
   "source": [
    "set_1.difference(set_2)"
   ]
  },
  {
   "cell_type": "code",
   "execution_count": 151,
   "id": "129326eb-51b8-43c7-beeb-15badae843fb",
   "metadata": {},
   "outputs": [],
   "source": [
    "#symmetric difference"
   ]
  },
  {
   "cell_type": "code",
   "execution_count": 153,
   "id": "fe34d65a-c5dc-4628-ad51-0ec74da0b8f9",
   "metadata": {},
   "outputs": [
    {
     "data": {
      "text/plain": [
       "{1, 2, 3, 7, 8, 9}"
      ]
     },
     "execution_count": 153,
     "metadata": {},
     "output_type": "execute_result"
    }
   ],
   "source": [
    "set_1.symmetric_difference(set_2)"
   ]
  },
  {
   "cell_type": "markdown",
   "id": "640e2f3c-50c2-418f-97c8-3a14294dda00",
   "metadata": {},
   "source": []
  },
  {
   "cell_type": "markdown",
   "id": "a58dd842-3063-4d5f-8606-109044490e58",
   "metadata": {},
   "source": [
    "# dictionary"
   ]
  },
  {
   "cell_type": "code",
   "execution_count": 161,
   "id": "aed0ceb5-50b5-492e-8533-361fa2fc9f68",
   "metadata": {},
   "outputs": [],
   "source": [
    "student ={'name':'sahil','age':21,'class':8}"
   ]
  },
  {
   "cell_type": "code",
   "execution_count": 163,
   "id": "bc7dbec6-ce38-4926-9e4b-180d65ddde39",
   "metadata": {},
   "outputs": [
    {
     "data": {
      "text/plain": [
       "{'name': 'sahil', 'age': 21, 'class': 8}"
      ]
     },
     "execution_count": 163,
     "metadata": {},
     "output_type": "execute_result"
    }
   ],
   "source": [
    "student"
   ]
  },
  {
   "cell_type": "code",
   "execution_count": 165,
   "id": "8f93c436-6ffc-4f7c-ba3d-abb62dabcb8f",
   "metadata": {},
   "outputs": [
    {
     "data": {
      "text/plain": [
       "dict"
      ]
     },
     "execution_count": 165,
     "metadata": {},
     "output_type": "execute_result"
    }
   ],
   "source": [
    "type(student)"
   ]
  },
  {
   "cell_type": "code",
   "execution_count": 167,
   "id": "dc6630e0-183d-47c8-b8af-91bace4342c9",
   "metadata": {},
   "outputs": [
    {
     "data": {
      "text/plain": [
       "dict_keys(['name', 'age', 'class'])"
      ]
     },
     "execution_count": 167,
     "metadata": {},
     "output_type": "execute_result"
    }
   ],
   "source": [
    "student.keys()"
   ]
  },
  {
   "cell_type": "code",
   "execution_count": 169,
   "id": "9689b8c4-9f91-40a2-9747-1bf0602b95b9",
   "metadata": {},
   "outputs": [
    {
     "data": {
      "text/plain": [
       "dict_values(['sahil', 21, 8])"
      ]
     },
     "execution_count": 169,
     "metadata": {},
     "output_type": "execute_result"
    }
   ],
   "source": [
    "student.values()"
   ]
  },
  {
   "cell_type": "code",
   "execution_count": 171,
   "id": "47cb185c-6741-41a2-9cb6-c68fc9a442af",
   "metadata": {},
   "outputs": [],
   "source": [
    "# fillter operation in dict"
   ]
  },
  {
   "cell_type": "code",
   "execution_count": 173,
   "id": "0f2647fc-9de4-431f-93fb-eb1cbaadc5e8",
   "metadata": {},
   "outputs": [
    {
     "data": {
      "text/plain": [
       "'sahil'"
      ]
     },
     "execution_count": 173,
     "metadata": {},
     "output_type": "execute_result"
    }
   ],
   "source": [
    "student['name']"
   ]
  },
  {
   "cell_type": "code",
   "execution_count": 175,
   "id": "28334156-d19a-400d-bfd3-b30b8491862a",
   "metadata": {},
   "outputs": [
    {
     "data": {
      "text/plain": [
       "21"
      ]
     },
     "execution_count": 175,
     "metadata": {},
     "output_type": "execute_result"
    }
   ],
   "source": [
    "student['age']"
   ]
  },
  {
   "cell_type": "code",
   "execution_count": 177,
   "id": "60700606-465d-4f19-b196-8436a64bf82c",
   "metadata": {},
   "outputs": [],
   "source": [
    "# accesing by using get()"
   ]
  },
  {
   "cell_type": "code",
   "execution_count": 179,
   "id": "2d25e393-0f45-4b20-bb9e-d05a79aa59dd",
   "metadata": {},
   "outputs": [
    {
     "data": {
      "text/plain": [
       "21"
      ]
     },
     "execution_count": 179,
     "metadata": {},
     "output_type": "execute_result"
    }
   ],
   "source": [
    "student.get('age')"
   ]
  },
  {
   "cell_type": "code",
   "execution_count": 181,
   "id": "95110b22-fb6f-4227-867e-5d6e68f98b1e",
   "metadata": {},
   "outputs": [],
   "source": [
    "#update dict"
   ]
  },
  {
   "cell_type": "code",
   "execution_count": 183,
   "id": "b1dd3cfe-9b78-43da-bc51-a24784bc9103",
   "metadata": {},
   "outputs": [
    {
     "data": {
      "text/plain": [
       "21"
      ]
     },
     "execution_count": 183,
     "metadata": {},
     "output_type": "execute_result"
    }
   ],
   "source": [
    "student['age']"
   ]
  },
  {
   "cell_type": "code",
   "execution_count": null,
   "id": "4a7bfff5-375a-4080-a08d-85d123d607f1",
   "metadata": {},
   "outputs": [],
   "source": []
  },
  {
   "cell_type": "code",
   "execution_count": 185,
   "id": "13f94f08-d197-4fc7-b8cf-8b75685df6b9",
   "metadata": {},
   "outputs": [],
   "source": [
    "student['age'] =25"
   ]
  },
  {
   "cell_type": "code",
   "execution_count": 187,
   "id": "cd1b897f-3897-4008-a4eb-344b481a9954",
   "metadata": {},
   "outputs": [
    {
     "data": {
      "text/plain": [
       "{'name': 'sahil', 'age': 25, 'class': 8}"
      ]
     },
     "execution_count": 187,
     "metadata": {},
     "output_type": "execute_result"
    }
   ],
   "source": [
    "student"
   ]
  },
  {
   "cell_type": "code",
   "execution_count": null,
   "id": "83388812-c867-43fc-84c0-bac7253437da",
   "metadata": {},
   "outputs": [],
   "source": []
  }
 ],
 "metadata": {
  "kernelspec": {
   "display_name": "Python 3 (ipykernel)",
   "language": "python",
   "name": "python3"
  },
  "language_info": {
   "codemirror_mode": {
    "name": "ipython",
    "version": 3
   },
   "file_extension": ".py",
   "mimetype": "text/x-python",
   "name": "python",
   "nbconvert_exporter": "python",
   "pygments_lexer": "ipython3",
   "version": "3.12.7"
  }
 },
 "nbformat": 4,
 "nbformat_minor": 5
}
