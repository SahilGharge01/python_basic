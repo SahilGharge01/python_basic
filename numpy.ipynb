{
 "cells": [
  {
   "cell_type": "code",
   "execution_count": 5,
   "id": "6069a9a5-3c3c-4d83-b5d7-ad845f9b09dd",
   "metadata": {},
   "outputs": [
    {
     "name": "stdout",
     "output_type": "stream",
     "text": [
      "Requirement already satisfied: numpy in c:\\users\\hp\\anaconda3\\lib\\site-packages (1.26.4)\n",
      "Note: you may need to restart the kernel to use updated packages.\n"
     ]
    }
   ],
   "source": [
    "pip install numpy"
   ]
  },
  {
   "cell_type": "code",
   "execution_count": 9,
   "id": "37e2e6bc-c4fd-4f77-b9e2-b3a554f212b0",
   "metadata": {},
   "outputs": [],
   "source": [
    "import numpy as np"
   ]
  },
  {
   "cell_type": "code",
   "execution_count": 17,
   "id": "43341d51-f4ee-4576-a2f0-6102b6700eb5",
   "metadata": {},
   "outputs": [],
   "source": [
    "l = [76,,54,65,34,87]"
   ]
  },
  {
   "cell_type": "code",
   "execution_count": 19,
   "id": "d0ffc044-d211-409c-b763-47bfbf4f535b",
   "metadata": {},
   "outputs": [
    {
     "data": {
      "text/plain": [
       "63.2"
      ]
     },
     "execution_count": 19,
     "metadata": {},
     "output_type": "execute_result"
    }
   ],
   "source": [
    "np.mean(l)"
   ]
  },
  {
   "cell_type": "code",
   "execution_count": 21,
   "id": "8ea34959-2d84-4b64-808b-cb2b66714812",
   "metadata": {},
   "outputs": [
    {
     "data": {
      "text/plain": [
       "67.0"
      ]
     },
     "execution_count": 21,
     "metadata": {},
     "output_type": "execute_result"
    }
   ],
   "source": [
    "np.mean([64,65,34,87,98,54])"
   ]
  },
  {
   "cell_type": "code",
   "execution_count": 23,
   "id": "8d7a0f2f-e23c-40f4-a96f-31a1978527dd",
   "metadata": {},
   "outputs": [
    {
     "data": {
      "text/plain": [
       "240"
      ]
     },
     "execution_count": 23,
     "metadata": {},
     "output_type": "execute_result"
    }
   ],
   "source": [
    "np.sum([54,6,5,76,34,65])"
   ]
  },
  {
   "cell_type": "code",
   "execution_count": 25,
   "id": "4fe524dd-a06d-4206-bf3a-cd4a3bb225a7",
   "metadata": {},
   "outputs": [
    {
     "data": {
      "text/plain": [
       "1.4142135623730951"
      ]
     },
     "execution_count": 25,
     "metadata": {},
     "output_type": "execute_result"
    }
   ],
   "source": [
    "np.sqrt(2)"
   ]
  },
  {
   "cell_type": "code",
   "execution_count": 27,
   "id": "33596bec-815a-496a-b895-698ad51e7d51",
   "metadata": {},
   "outputs": [
    {
     "data": {
      "text/plain": [
       "4489"
      ]
     },
     "execution_count": 27,
     "metadata": {},
     "output_type": "execute_result"
    }
   ],
   "source": [
    "np.square(67)"
   ]
  },
  {
   "cell_type": "code",
   "execution_count": 29,
   "id": "ba7af81f-4ecc-4052-b353-8a51c590f9a3",
   "metadata": {},
   "outputs": [],
   "source": [
    "# 1d"
   ]
  },
  {
   "cell_type": "code",
   "execution_count": 31,
   "id": "7599c6d4-919b-4f99-8d32-6781b3fa1dde",
   "metadata": {},
   "outputs": [],
   "source": [
    "l = [1,2,3,4,5]"
   ]
  },
  {
   "cell_type": "code",
   "execution_count": 35,
   "id": "10769f3f-f65e-4b2b-a694-37182412cd16",
   "metadata": {
    "scrolled": true
   },
   "outputs": [],
   "source": [
    "l = np.array(l)"
   ]
  },
  {
   "cell_type": "code",
   "execution_count": 37,
   "id": "f6fcb837-be49-4b5a-99c8-c164cb22456e",
   "metadata": {},
   "outputs": [
    {
     "data": {
      "text/plain": [
       "array([1, 2, 3, 4, 5])"
      ]
     },
     "execution_count": 37,
     "metadata": {},
     "output_type": "execute_result"
    }
   ],
   "source": [
    " l"
   ]
  },
  {
   "cell_type": "code",
   "execution_count": 39,
   "id": "7ab73443-c348-4bd2-a13e-a488b998c035",
   "metadata": {},
   "outputs": [
    {
     "data": {
      "text/plain": [
       "1"
      ]
     },
     "execution_count": 39,
     "metadata": {},
     "output_type": "execute_result"
    }
   ],
   "source": [
    "np.ndim(l)"
   ]
  },
  {
   "cell_type": "code",
   "execution_count": 43,
   "id": "cf062c11-e537-4553-b79c-ec744f3a7b3c",
   "metadata": {},
   "outputs": [],
   "source": [
    "l2 = [[1,2,3,4,5],[10,20,30,40,50]]"
   ]
  },
  {
   "cell_type": "code",
   "execution_count": 45,
   "id": "458d2d2f-993b-462b-8e6c-59b4a87141e4",
   "metadata": {},
   "outputs": [
    {
     "data": {
      "text/plain": [
       "array([[ 1,  2,  3,  4,  5],\n",
       "       [10, 20, 30, 40, 50]])"
      ]
     },
     "execution_count": 45,
     "metadata": {},
     "output_type": "execute_result"
    }
   ],
   "source": [
    "np.array(l2)"
   ]
  },
  {
   "cell_type": "code",
   "execution_count": 47,
   "id": "ef265a65-4b21-45b5-bf7d-582066e40890",
   "metadata": {},
   "outputs": [],
   "source": [
    "l2 = np.array(l2)"
   ]
  },
  {
   "cell_type": "code",
   "execution_count": 49,
   "id": "9e440ff6-8510-41a1-9342-fd9dd3c00b54",
   "metadata": {},
   "outputs": [
    {
     "data": {
      "text/plain": [
       "2"
      ]
     },
     "execution_count": 49,
     "metadata": {},
     "output_type": "execute_result"
    }
   ],
   "source": [
    "np.ndim(l2)"
   ]
  },
  {
   "cell_type": "code",
   "execution_count": 66,
   "id": "cacf0694-8dcb-4756-a73c-13c4b98a3fda",
   "metadata": {},
   "outputs": [],
   "source": [
    "l3 = ([[[1,2,3,4,5], [10,20,30,40,50], [100,200,300,400,500]]])"
   ]
  },
  {
   "cell_type": "code",
   "execution_count": 68,
   "id": "afdf48ac-13f6-4548-bb1f-b5140355f480",
   "metadata": {},
   "outputs": [],
   "source": [
    "l3 = np.array(l3)"
   ]
  },
  {
   "cell_type": "code",
   "execution_count": 70,
   "id": "399bd542-3978-468b-b984-bfeeb3d58958",
   "metadata": {},
   "outputs": [
    {
     "data": {
      "text/plain": [
       "array([[[  1,   2,   3,   4,   5],\n",
       "        [ 10,  20,  30,  40,  50],\n",
       "        [100, 200, 300, 400, 500]]])"
      ]
     },
     "execution_count": 70,
     "metadata": {},
     "output_type": "execute_result"
    }
   ],
   "source": [
    "l3"
   ]
  },
  {
   "cell_type": "code",
   "execution_count": 72,
   "id": "9f03c63b-7918-4b09-a838-2be1970fb925",
   "metadata": {},
   "outputs": [
    {
     "data": {
      "text/plain": [
       "3"
      ]
     },
     "execution_count": 72,
     "metadata": {},
     "output_type": "execute_result"
    }
   ],
   "source": [
    "np.ndim(l3)"
   ]
  },
  {
   "cell_type": "code",
   "execution_count": 74,
   "id": "48c5be65-32b1-44e9-9bc0-61d3605ad8ff",
   "metadata": {},
   "outputs": [
    {
     "data": {
      "text/plain": [
       "array([6, 4, 5, 4, 5])"
      ]
     },
     "execution_count": 74,
     "metadata": {},
     "output_type": "execute_result"
    }
   ],
   "source": [
    "np.random.randint(1,10,5)"
   ]
  },
  {
   "cell_type": "code",
   "execution_count": 76,
   "id": "198b14a1-712e-48a1-b944-c2e3d6d8324f",
   "metadata": {},
   "outputs": [
    {
     "data": {
      "text/plain": [
       "array([37, 10,  2,  1, 32, 26, 43, 35])"
      ]
     },
     "execution_count": 76,
     "metadata": {},
     "output_type": "execute_result"
    }
   ],
   "source": [
    "np.random.randint(1,50,8)"
   ]
  },
  {
   "cell_type": "code",
   "execution_count": 78,
   "id": "f89eeda9-2a06-4d5d-a7ae-64b2760d8c0d",
   "metadata": {},
   "outputs": [
    {
     "data": {
      "text/plain": [
       "array([[0.33641648, 0.15370464, 0.78000102],\n",
       "       [0.87171657, 0.21218551, 0.61765889],\n",
       "       [0.15020219, 0.64300026, 0.46003447],\n",
       "       [0.90019507, 0.02415128, 0.75622934],\n",
       "       [0.68592204, 0.58275841, 0.15917768]])"
      ]
     },
     "execution_count": 78,
     "metadata": {},
     "output_type": "execute_result"
    }
   ],
   "source": [
    "np.random.random([5,3])"
   ]
  },
  {
   "cell_type": "code",
   "execution_count": 82,
   "id": "61a293d5-61c1-4903-8ea7-c31ec6fa5a38",
   "metadata": {},
   "outputs": [
    {
     "data": {
      "text/plain": [
       "array([[[0.89852869, 0.42672273, 0.86051613],\n",
       "        [0.15635635, 0.15864934, 0.67156758]],\n",
       "\n",
       "       [[0.35552458, 0.92601224, 0.5086454 ],\n",
       "        [0.54110994, 0.08301779, 0.01393073]]])"
      ]
     },
     "execution_count": 82,
     "metadata": {},
     "output_type": "execute_result"
    }
   ],
   "source": [
    "np.random.rand(2,2,3)"
   ]
  },
  {
   "cell_type": "code",
   "execution_count": null,
   "id": "e7e6c28b-a773-4352-a7ed-31f624df3306",
   "metadata": {},
   "outputs": [],
   "source": []
  }
 ],
 "metadata": {
  "kernelspec": {
   "display_name": "Python 3 (ipykernel)",
   "language": "python",
   "name": "python3"
  },
  "language_info": {
   "codemirror_mode": {
    "name": "ipython",
    "version": 3
   },
   "file_extension": ".py",
   "mimetype": "text/x-python",
   "name": "python",
   "nbconvert_exporter": "python",
   "pygments_lexer": "ipython3",
   "version": "3.12.7"
  }
 },
 "nbformat": 4,
 "nbformat_minor": 5
}
