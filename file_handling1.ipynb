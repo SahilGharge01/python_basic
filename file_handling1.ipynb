{
 "cells": [
  {
   "cell_type": "code",
   "execution_count": 2,
   "id": "a138096e-51fe-4afa-a88d-213dfe55726f",
   "metadata": {},
   "outputs": [
    {
     "name": "stdout",
     "output_type": "stream",
     "text": [
      " Volume in drive C is Windows\n",
      " Volume Serial Number is A4AC-9906\n",
      "\n",
      " Directory of C:\\Users\\HP\\python\\file\n",
      "\n",
      "16-12-2024  20:10    <DIR>          .\n",
      "16-12-2024  20:08    <DIR>          ..\n",
      "16-12-2024  20:10    <DIR>          .ipynb_checkpoints\n",
      "16-12-2024  20:09               337 file_handling1.ipynb\n",
      "               1 File(s)            337 bytes\n",
      "               3 Dir(s)  169,696,641,024 bytes free\n"
     ]
    }
   ],
   "source": [
    "ls"
   ]
  },
  {
   "cell_type": "markdown",
   "id": "97bc9029-b95a-4f0f-b8b1-c345df5bbae0",
   "metadata": {},
   "source": [
    "# creating file"
   ]
  },
  {
   "cell_type": "code",
   "execution_count": 23,
   "id": "afc13b17-25e3-49c2-b8ef-4c9aa2a80581",
   "metadata": {},
   "outputs": [],
   "source": [
    "f = open('example.txt',mode =o 'w')"
   ]
  },
  {
   "cell_type": "code",
   "execution_count": 25,
   "id": "c7e59e83-36e0-441b-8248-d7997fec54f6",
   "metadata": {},
   "outputs": [
    {
     "data": {
      "text/plain": [
       "21"
      ]
     },
     "execution_count": 25,
     "metadata": {},
     "output_type": "execute_result"
    }
   ],
   "source": [
    "f.write('this is example file.')"
   ]
  },
  {
   "cell_type": "code",
   "execution_count": 27,
   "id": "c6e8da43-161a-413d-b36e-25e764ec17fa",
   "metadata": {},
   "outputs": [],
   "source": [
    "f.close()"
   ]
  },
  {
   "cell_type": "code",
   "execution_count": 29,
   "id": "d4c57592-2ce8-40d2-a2f4-86a2b106cc86",
   "metadata": {},
   "outputs": [],
   "source": [
    "f = open('example.txt', mode ='r')"
   ]
  },
  {
   "cell_type": "code",
   "execution_count": 31,
   "id": "588378bb-c6d1-4ac9-8993-501901a42e19",
   "metadata": {},
   "outputs": [
    {
     "data": {
      "text/plain": [
       "'this is example file.'"
      ]
     },
     "execution_count": 31,
     "metadata": {},
     "output_type": "execute_result"
    }
   ],
   "source": [
    "f.read()"
   ]
  },
  {
   "cell_type": "code",
   "execution_count": 33,
   "id": "a1f85983-78f1-4a18-9092-a2cbe5e37c37",
   "metadata": {},
   "outputs": [],
   "source": [
    "o = open('hello_python.txt',mode = 'w')"
   ]
  },
  {
   "cell_type": "code",
   "execution_count": null,
   "id": "c13b6ad2-d594-41b7-ba5a-a88df16de06c",
   "metadata": {},
   "outputs": [],
   "source": [
    "o.write('this is hello_python file.')"
   ]
  },
  {
   "cell_type": "code",
   "execution_count": 37,
   "id": "3d13f218-ac30-4f27-8a40-e74036d41119",
   "metadata": {},
   "outputs": [],
   "source": [
    "o.close()"
   ]
  },
  {
   "cell_type": "code",
   "execution_count": 65,
   "id": "ce5394c8-9bb0-424f-879b-188e157d932e",
   "metadata": {},
   "outputs": [],
   "source": [
    "o = open('hello_python.txt', mode = 'r+' )"
   ]
  },
  {
   "cell_type": "code",
   "execution_count": 67,
   "id": "4da20d2b-dcd3-4810-a932-0c5d7c14cb4e",
   "metadata": {},
   "outputs": [
    {
     "data": {
      "text/plain": [
       "'this is hello_python file.'"
      ]
     },
     "execution_count": 67,
     "metadata": {},
     "output_type": "execute_result"
    }
   ],
   "source": [
    "o.read()"
   ]
  },
  {
   "cell_type": "code",
   "execution_count": 69,
   "id": "853bec48-9ce3-4052-bf26-efa6be5b3bc9",
   "metadata": {},
   "outputs": [
    {
     "data": {
      "text/plain": [
       "27"
      ]
     },
     "execution_count": 69,
     "metadata": {},
     "output_type": "execute_result"
    }
   ],
   "source": [
    "o.write('this is my sencond sentance')"
   ]
  },
  {
   "cell_type": "code",
   "execution_count": 71,
   "id": "dacec312-c0d7-41a2-a8cf-09b63f35dbc9",
   "metadata": {},
   "outputs": [
    {
     "data": {
      "text/plain": [
       "''"
      ]
     },
     "execution_count": 71,
     "metadata": {},
     "output_type": "execute_result"
    }
   ],
   "source": [
    "o.read()"
   ]
  },
  {
   "cell_type": "code",
   "execution_count": 75,
   "id": "473978af-2f97-432e-9f51-e6cf4d076218",
   "metadata": {},
   "outputs": [
    {
     "data": {
      "text/plain": [
       "0"
      ]
     },
     "execution_count": 75,
     "metadata": {},
     "output_type": "execute_result"
    }
   ],
   "source": [
    "o.seek(0)"
   ]
  },
  {
   "cell_type": "code",
   "execution_count": 77,
   "id": "f7c27c60-47d0-4261-9bdd-21c7fe6a9ea7",
   "metadata": {},
   "outputs": [
    {
     "data": {
      "text/plain": [
       "'this is hello_python file.this is my sencond sentance'"
      ]
     },
     "execution_count": 77,
     "metadata": {},
     "output_type": "execute_result"
    }
   ],
   "source": [
    "o.read()"
   ]
  },
  {
   "cell_type": "code",
   "execution_count": 79,
   "id": "5e45b1ac-660d-426e-9d28-4b7698377013",
   "metadata": {},
   "outputs": [
    {
     "data": {
      "text/plain": [
       "''"
      ]
     },
     "execution_count": 79,
     "metadata": {},
     "output_type": "execute_result"
    }
   ],
   "source": [
    "o.read()"
   ]
  },
  {
   "cell_type": "code",
   "execution_count": 81,
   "id": "f92b0fdb-d3f7-4791-b62f-c63b6d3fdbe1",
   "metadata": {},
   "outputs": [
    {
     "data": {
      "text/plain": [
       "0"
      ]
     },
     "execution_count": 81,
     "metadata": {},
     "output_type": "execute_result"
    }
   ],
   "source": [
    "o.seek(0)"
   ]
  },
  {
   "cell_type": "code",
   "execution_count": 83,
   "id": "b003e344-31aa-47c2-b2b6-5077e420b9f6",
   "metadata": {},
   "outputs": [
    {
     "data": {
      "text/plain": [
       "'this is hello_python file.this is my sencond sentance'"
      ]
     },
     "execution_count": 83,
     "metadata": {},
     "output_type": "execute_result"
    }
   ],
   "source": [
    "o.read()"
   ]
  },
  {
   "cell_type": "code",
   "execution_count": 85,
   "id": "b57e2708-430d-47bb-b59b-0980b8c4ff65",
   "metadata": {},
   "outputs": [
    {
     "data": {
      "text/plain": [
       "5"
      ]
     },
     "execution_count": 85,
     "metadata": {},
     "output_type": "execute_result"
    }
   ],
   "source": [
    "o.seek(5)"
   ]
  },
  {
   "cell_type": "code",
   "execution_count": 87,
   "id": "6540a975-f815-4ade-8baf-47ad370a1549",
   "metadata": {},
   "outputs": [
    {
     "data": {
      "text/plain": [
       "'is hello_python file.this is my sencond sentance'"
      ]
     },
     "execution_count": 87,
     "metadata": {},
     "output_type": "execute_result"
    }
   ],
   "source": [
    "o.read()"
   ]
  },
  {
   "cell_type": "code",
   "execution_count": 117,
   "id": "50586854-039b-4a43-bf76-cae35934e2f2",
   "metadata": {},
   "outputs": [],
   "source": [
    "a = open ('sentences.txt',mode = 'w') "
   ]
  },
  {
   "cell_type": "code",
   "execution_count": 119,
   "id": "3e5a7e07-2306-4472-a711-a356e95a4a6c",
   "metadata": {},
   "outputs": [
    {
     "data": {
      "text/plain": [
       "66"
      ]
     },
     "execution_count": 119,
     "metadata": {},
     "output_type": "execute_result"
    }
   ],
   "source": [
    "a.write('''this is my lie one.\n",
    "this is my line no two.\n",
    "this is line no three.''')"
   ]
  },
  {
   "cell_type": "code",
   "execution_count": 121,
   "id": "9e4ae030-6c5f-4857-b824-523872cc6ffc",
   "metadata": {},
   "outputs": [],
   "source": [
    "a.close()"
   ]
  },
  {
   "cell_type": "code",
   "execution_count": 128,
   "id": "97bc044a-2118-4889-b134-8e8974894581",
   "metadata": {},
   "outputs": [],
   "source": [
    "a = open('sentences.txt',mode = 'r+')"
   ]
  },
  {
   "cell_type": "code",
   "execution_count": 130,
   "id": "d3c0fb02-3315-41b7-9632-bc38de87468a",
   "metadata": {},
   "outputs": [
    {
     "data": {
      "text/plain": [
       "'this is my lie one.\\nthis is my line no two.\\nthis is line no three.'"
      ]
     },
     "execution_count": 130,
     "metadata": {},
     "output_type": "execute_result"
    }
   ],
   "source": [
    "a.read()"
   ]
  },
  {
   "cell_type": "code",
   "execution_count": 132,
   "id": "e10e1bc0-d591-4c05-b557-d80a0fa88816",
   "metadata": {},
   "outputs": [
    {
     "data": {
      "text/plain": [
       "0"
      ]
     },
     "execution_count": 132,
     "metadata": {},
     "output_type": "execute_result"
    }
   ],
   "source": [
    "a.seek(0)"
   ]
  },
  {
   "cell_type": "code",
   "execution_count": 134,
   "id": "1521fb73-e543-46bc-84f5-d9d917bf6071",
   "metadata": {},
   "outputs": [
    {
     "data": {
      "text/plain": [
       "'this is my lie one.\\n'"
      ]
     },
     "execution_count": 134,
     "metadata": {},
     "output_type": "execute_result"
    }
   ],
   "source": [
    "a.readline()"
   ]
  },
  {
   "cell_type": "code",
   "execution_count": 138,
   "id": "7a25dda8-c750-4bc8-8337-4d76f421dc27",
   "metadata": {},
   "outputs": [
    {
     "data": {
      "text/plain": [
       "['this is line no three.']"
      ]
     },
     "execution_count": 138,
     "metadata": {},
     "output_type": "execute_result"
    }
   ],
   "source": [
    "a.readlines()"
   ]
  },
  {
   "cell_type": "code",
   "execution_count": 140,
   "id": "1ee023e1-b05a-42f5-acc0-4f3b9e07311b",
   "metadata": {},
   "outputs": [
    {
     "data": {
      "text/plain": [
       "0"
      ]
     },
     "execution_count": 140,
     "metadata": {},
     "output_type": "execute_result"
    }
   ],
   "source": [
    "a.seek(0)"
   ]
  },
  {
   "cell_type": "code",
   "execution_count": 142,
   "id": "1954c27d-8df2-4ab3-8ec1-d6cb330ee207",
   "metadata": {},
   "outputs": [
    {
     "data": {
      "text/plain": [
       "['this is my lie one.\\n',\n",
       " 'this is my line no two.\\n',\n",
       " 'this is line no three.']"
      ]
     },
     "execution_count": 142,
     "metadata": {},
     "output_type": "execute_result"
    }
   ],
   "source": [
    "a.readlines()"
   ]
  },
  {
   "cell_type": "code",
   "execution_count": 144,
   "id": "0675aa53-f6b3-42e3-958d-c3c979f9b694",
   "metadata": {},
   "outputs": [
    {
     "data": {
      "text/plain": [
       "0"
      ]
     },
     "execution_count": 144,
     "metadata": {},
     "output_type": "execute_result"
    }
   ],
   "source": [
    "a.seek(0)"
   ]
  },
  {
   "cell_type": "code",
   "execution_count": 146,
   "id": "9425cfa1-7657-443c-970b-51febf77cc2e",
   "metadata": {},
   "outputs": [
    {
     "name": "stdout",
     "output_type": "stream",
     "text": [
      "this is my lie one.\n",
      "\n",
      "this is my line no two.\n",
      "\n",
      "this is line no three.\n"
     ]
    }
   ],
   "source": [
    "for sentences in a.readlines():\n",
    "    print(sentences)"
   ]
  },
  {
   "cell_type": "code",
   "execution_count": 167,
   "id": "80947980-ed02-4af1-93ac-1eac6db6938b",
   "metadata": {},
   "outputs": [
    {
     "data": {
      "text/plain": [
       "0"
      ]
     },
     "execution_count": 167,
     "metadata": {},
     "output_type": "execute_result"
    }
   ],
   "source": [
    "a.seek(0)"
   ]
  },
  {
   "cell_type": "code",
   "execution_count": null,
   "id": "7be6adce-3042-453a-a1bb-90476416f42a",
   "metadata": {},
   "outputs": [],
   "source": []
  },
  {
   "cell_type": "code",
   "execution_count": 148,
   "id": "b0d2d451-73a7-4600-9b55-9b610dc6a4a8",
   "metadata": {},
   "outputs": [],
   "source": [
    "# split"
   ]
  },
  {
   "cell_type": "code",
   "execution_count": 150,
   "id": "28230dff-a0ea-4247-a74f-713d2a2ae456",
   "metadata": {},
   "outputs": [
    {
     "data": {
      "text/plain": [
       "['h', 'llo']"
      ]
     },
     "execution_count": 150,
     "metadata": {},
     "output_type": "execute_result"
    }
   ],
   "source": [
    "'hello'.split('e')"
   ]
  },
  {
   "cell_type": "code",
   "execution_count": 152,
   "id": "ab3f5639-035e-4c4d-9acd-9b626dbe1ee3",
   "metadata": {},
   "outputs": [
    {
     "data": {
      "text/plain": [
       "['p', 'thon']"
      ]
     },
     "execution_count": 152,
     "metadata": {},
     "output_type": "execute_result"
    }
   ],
   "source": [
    "'python'.split('y')"
   ]
  },
  {
   "cell_type": "code",
   "execution_count": 159,
   "id": "281d3210-9bba-40ad-a68d-8b015a61335f",
   "metadata": {},
   "outputs": [],
   "source": [
    "l = '16/12/2004'.split('/')"
   ]
  },
  {
   "cell_type": "code",
   "execution_count": 161,
   "id": "ea3b2237-3954-4117-b2af-94c718da2b19",
   "metadata": {},
   "outputs": [
    {
     "data": {
      "text/plain": [
       "['16', '12', '2004']"
      ]
     },
     "execution_count": 161,
     "metadata": {},
     "output_type": "execute_result"
    }
   ],
   "source": [
    "l"
   ]
  },
  {
   "cell_type": "code",
   "execution_count": 165,
   "id": "90ea67ba-810a-4d6c-ad4c-daf6551f937f",
   "metadata": {},
   "outputs": [
    {
     "data": {
      "text/plain": [
       "'12'"
      ]
     },
     "execution_count": 165,
     "metadata": {},
     "output_type": "execute_result"
    }
   ],
   "source": [
    "l[1]"
   ]
  },
  {
   "cell_type": "code",
   "execution_count": 169,
   "id": "6faecd2b-165b-4bda-9b98-e21cc3270afc",
   "metadata": {},
   "outputs": [
    {
     "name": "stdout",
     "output_type": "stream",
     "text": [
      "['this', 'is', 'my', 'lie', 'one.\\n']\n",
      "['this', 'is', 'my', 'line', 'no', 'two.\\n']\n",
      "['this', 'is', 'line', 'no', 'three.']\n"
     ]
    }
   ],
   "source": [
    "for sentences in a.readlines():\n",
    "    print(sentences.split(' '))"
   ]
  },
  {
   "cell_type": "code",
   "execution_count": 171,
   "id": "a821a699-9f32-4636-b502-a25039e07bc0",
   "metadata": {},
   "outputs": [],
   "source": [
    "l = open('function_1.py', 'w')"
   ]
  },
  {
   "cell_type": "code",
   "execution_count": 173,
   "id": "8b2fcca7-fe2a-43ce-a2ce-85bad84de63d",
   "metadata": {},
   "outputs": [
    {
     "data": {
      "text/plain": [
       "66"
      ]
     },
     "execution_count": 173,
     "metadata": {},
     "output_type": "execute_result"
    }
   ],
   "source": [
    "l.write('''data = [1,2,3,4,5]\n",
    "names = ['hello','python']\n",
    "print (data + names)''')"
   ]
  },
  {
   "cell_type": "code",
   "execution_count": 175,
   "id": "a9ba4fed-2d78-433d-871f-7d4f3429b6f9",
   "metadata": {},
   "outputs": [],
   "source": [
    "l.close()"
   ]
  },
  {
   "cell_type": "code",
   "execution_count": null,
   "id": "9eebbdc3-72f3-4de7-a58f-5559a8906496",
   "metadata": {},
   "outputs": [],
   "source": []
  }
 ],
 "metadata": {
  "kernelspec": {
   "display_name": "Python 3 (ipykernel)",
   "language": "python",
   "name": "python3"
  },
  "language_info": {
   "codemirror_mode": {
    "name": "ipython",
    "version": 3
   },
   "file_extension": ".py",
   "mimetype": "text/x-python",
   "name": "python",
   "nbconvert_exporter": "python",
   "pygments_lexer": "ipython3",
   "version": "3.12.7"
  }
 },
 "nbformat": 4,
 "nbformat_minor": 5
}
