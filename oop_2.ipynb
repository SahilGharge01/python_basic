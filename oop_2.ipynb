{
 "cells": [
  {
   "cell_type": "code",
   "execution_count": 1,
   "id": "8e3c80bf-9a23-4ac6-aa6a-4f9a888e6164",
   "metadata": {},
   "outputs": [],
   "source": [
    "class full_name():\n",
    "    def __init__(self,first, middle, last):\n",
    "        self.first = first\n",
    "        self.middle = middle\n",
    "        self.last = last\n",
    "        "
   ]
  },
  {
   "cell_type": "code",
   "execution_count": 7,
   "id": "1a613610-162b-4752-993e-eeb587101946",
   "metadata": {},
   "outputs": [],
   "source": [
    "person1 = full_name(\"Sahil\", \"Dnyaneshwar \" ,\"Gharge\")"
   ]
  },
  {
   "cell_type": "code",
   "execution_count": 9,
   "id": "f485c8b2-ad95-4f63-817f-ca6c8f9017c3",
   "metadata": {},
   "outputs": [
    {
     "data": {
      "text/plain": [
       "'Sahil'"
      ]
     },
     "execution_count": 9,
     "metadata": {},
     "output_type": "execute_result"
    }
   ],
   "source": [
    "person1.first"
   ]
  },
  {
   "cell_type": "code",
   "execution_count": 13,
   "id": "66f4ecbe-c94d-44e4-a279-6324d2a4a59b",
   "metadata": {},
   "outputs": [
    {
     "data": {
      "text/plain": [
       "'Dnyaneshwar '"
      ]
     },
     "execution_count": 13,
     "metadata": {},
     "output_type": "execute_result"
    }
   ],
   "source": [
    "person1.middle"
   ]
  },
  {
   "cell_type": "code",
   "execution_count": 15,
   "id": "44d028df-f3cf-4960-85e8-339f5abf95d6",
   "metadata": {},
   "outputs": [
    {
     "data": {
      "text/plain": [
       "'Gharge'"
      ]
     },
     "execution_count": 15,
     "metadata": {},
     "output_type": "execute_result"
    }
   ],
   "source": [
    "person1.last"
   ]
  },
  {
   "cell_type": "markdown",
   "id": "7c78ace2-cbad-4902-b19d-bb4b149710e0",
   "metadata": {},
   "source": [
    "# encapsulation"
   ]
  },
  {
   "cell_type": "code",
   "execution_count": 22,
   "id": "f11486e6-20be-41a4-87f1-29d833ef1b20",
   "metadata": {},
   "outputs": [],
   "source": [
    "class full_name():\n",
    "    def __init__(self,first, middle, last):\n",
    "        self.first = first #pubklic\n",
    "        self._middle = middle #protect\n",
    "        self.__last = last #private"
   ]
  },
  {
   "cell_type": "code",
   "execution_count": 24,
   "id": "a2477106-c8af-45cf-9ef1-749acc5a4c22",
   "metadata": {},
   "outputs": [],
   "source": [
    "person2 = full_name(\"Sahil\", \"Dnyaneshwar \" ,\"Gharge\")"
   ]
  },
  {
   "cell_type": "code",
   "execution_count": 28,
   "id": "cdf0d647-ec5d-433d-8ef9-b858dfb9bc2c",
   "metadata": {},
   "outputs": [
    {
     "data": {
      "text/plain": [
       "'Sahil'"
      ]
     },
     "execution_count": 28,
     "metadata": {},
     "output_type": "execute_result"
    }
   ],
   "source": [
    "person2.first"
   ]
  },
  {
   "cell_type": "code",
   "execution_count": 30,
   "id": "b13eee48-f90e-46c3-a81a-0bfdd6ded6d6",
   "metadata": {},
   "outputs": [
    {
     "data": {
      "text/plain": [
       "'Dnyaneshwar '"
      ]
     },
     "execution_count": 30,
     "metadata": {},
     "output_type": "execute_result"
    }
   ],
   "source": [
    "# protect\n",
    "person2._middle"
   ]
  },
  {
   "cell_type": "code",
   "execution_count": 36,
   "id": "67860c03-cd06-433b-824b-5058f76b53c4",
   "metadata": {},
   "outputs": [
    {
     "data": {
      "text/plain": [
       "'Gharge'"
      ]
     },
     "execution_count": 36,
     "metadata": {},
     "output_type": "execute_result"
    }
   ],
   "source": [
    "#private\n",
    "person2._full_name__last"
   ]
  },
  {
   "cell_type": "code",
   "execution_count": 42,
   "id": "a085062b-2b07-4aee-b439-d1ee5f2dd5aa",
   "metadata": {},
   "outputs": [],
   "source": [
    "class student_data():\n",
    "    def __init__(self,name,roll_no,mobile_no):\n",
    "        self.name = name\n",
    "        self._roll_no = roll_no\n",
    "        self__mobile_no.__mobile_no = mobile_no"
   ]
  },
  {
   "cell_type": "code",
   "execution_count": 44,
   "id": "22a7af63-be53-4454-831b-fc422ecd7cdb",
   "metadata": {},
   "outputs": [],
   "source": [
    "person3 = student_data('sahil', 25 ,415424542)"
   ]
  },
  {
   "cell_type": "code",
   "execution_count": 48,
   "id": "8069654b-fc98-4405-90cc-ad9408bdd1f6",
   "metadata": {},
   "outputs": [
    {
     "data": {
      "text/plain": [
       "'sahil'"
      ]
     },
     "execution_count": 48,
     "metadata": {},
     "output_type": "execute_result"
    }
   ],
   "source": [
    "person3.name"
   ]
  },
  {
   "cell_type": "code",
   "execution_count": 50,
   "id": "4b0d9374-9519-472a-b4b7-4a0fffa192d6",
   "metadata": {},
   "outputs": [
    {
     "data": {
      "text/plain": [
       "25"
      ]
     },
     "execution_count": 50,
     "metadata": {},
     "output_type": "execute_result"
    }
   ],
   "source": [
    "person3._roll_no"
   ]
  },
  {
   "cell_type": "code",
   "execution_count": 52,
   "id": "81640feb-c210-409a-8469-8b4ec566e4c0",
   "metadata": {},
   "outputs": [
    {
     "data": {
      "text/plain": [
       "415424542"
      ]
     },
     "execution_count": 52,
     "metadata": {},
     "output_type": "execute_result"
    }
   ],
   "source": [
    "person3._student_data__mobile_no"
   ]
  },
  {
   "cell_type": "code",
   "execution_count": 54,
   "id": "4cfa64b5-aaa5-4300-8a9e-620b907eb6cd",
   "metadata": {},
   "outputs": [
    {
     "data": {
      "text/plain": [
       "'sahil'"
      ]
     },
     "execution_count": 54,
     "metadata": {},
     "output_type": "execute_result"
    }
   ],
   "source": [
    "person3.name"
   ]
  },
  {
   "cell_type": "code",
   "execution_count": 56,
   "id": "0b1738d4-0008-48cf-8b59-eed8c062cd62",
   "metadata": {},
   "outputs": [],
   "source": [
    "person3.name = 'king'"
   ]
  },
  {
   "cell_type": "code",
   "execution_count": 58,
   "id": "b8179108-fdc6-4bc5-a719-a617a24b13af",
   "metadata": {},
   "outputs": [
    {
     "data": {
      "text/plain": [
       "25"
      ]
     },
     "execution_count": 58,
     "metadata": {},
     "output_type": "execute_result"
    }
   ],
   "source": [
    "person3._roll_no"
   ]
  },
  {
   "cell_type": "code",
   "execution_count": 60,
   "id": "8fb4ce91-be1d-427b-b9df-1c11d029ccc0",
   "metadata": {},
   "outputs": [],
   "source": [
    "person3._roll_no =50"
   ]
  },
  {
   "cell_type": "code",
   "execution_count": 62,
   "id": "3c5908d5-5d26-4448-afa9-9e5003313017",
   "metadata": {},
   "outputs": [
    {
     "data": {
      "text/plain": [
       "50"
      ]
     },
     "execution_count": 62,
     "metadata": {},
     "output_type": "execute_result"
    }
   ],
   "source": [
    "person3._roll_no"
   ]
  },
  {
   "cell_type": "markdown",
   "id": "07f55251-1cd6-4246-99a2-7463daf5f5d6",
   "metadata": {},
   "source": [
    "# inheritance"
   ]
  },
  {
   "cell_type": "raw",
   "id": "d1d7e483-f5d5-4f92-a6d4-ed34a21257af",
   "metadata": {},
   "source": [
    "parent class properties to  child class"
   ]
  },
  {
   "cell_type": "code",
   "execution_count": 69,
   "id": "5c4d975e-d800-44ad-83a4-764432ed81fa",
   "metadata": {},
   "outputs": [],
   "source": [
    "class parent():\n",
    "    def singing(self):\n",
    "        return 'parent is having singing skill & i am in parent class with singing function '\n",
    "        "
   ]
  },
  {
   "cell_type": "code",
   "execution_count": 73,
   "id": "2a09f9a7-8127-4c38-9d65-923bee3b5aed",
   "metadata": {},
   "outputs": [],
   "source": [
    "p1 = parent()"
   ]
  },
  {
   "cell_type": "code",
   "execution_count": 75,
   "id": "f3541f4f-3e14-478f-b2c2-a7941d05fb56",
   "metadata": {},
   "outputs": [
    {
     "data": {
      "text/plain": [
       "'parent is having singing skill & i am in parent class with singing function '"
      ]
     },
     "execution_count": 75,
     "metadata": {},
     "output_type": "execute_result"
    }
   ],
   "source": [
    "p1.singing()"
   ]
  },
  {
   "cell_type": "code",
   "execution_count": 77,
   "id": "12670334-ae94-43d7-82d5-9da374f8325c",
   "metadata": {},
   "outputs": [],
   "source": [
    "# child class"
   ]
  },
  {
   "cell_type": "code",
   "execution_count": 81,
   "id": "ccf82f1c-ee0b-423b-ba29-50804cbd59f8",
   "metadata": {},
   "outputs": [],
   "source": [
    "class child (parent):\n",
    "    def cricket(self):\n",
    "        return 'child is good cricket player & i am in child class with crickit function.'"
   ]
  },
  {
   "cell_type": "code",
   "execution_count": 83,
   "id": "92a3280a-1391-4644-90f5-bb3b30ed6f7c",
   "metadata": {},
   "outputs": [],
   "source": [
    "c = child()"
   ]
  },
  {
   "cell_type": "code",
   "execution_count": 87,
   "id": "c987dfe9-e2fe-4f18-aac0-60fab1f41099",
   "metadata": {},
   "outputs": [
    {
     "data": {
      "text/plain": [
       "'parent is having singing skill & i am in parent class with singing function '"
      ]
     },
     "execution_count": 87,
     "metadata": {},
     "output_type": "execute_result"
    }
   ],
   "source": [
    "c.singing()"
   ]
  },
  {
   "cell_type": "code",
   "execution_count": 89,
   "id": "92245a18-2ee4-40cf-b760-2b2846cfaaaf",
   "metadata": {},
   "outputs": [
    {
     "data": {
      "text/plain": [
       "'child is good cricket player & i am in child class with crickit function.'"
      ]
     },
     "execution_count": 89,
     "metadata": {},
     "output_type": "execute_result"
    }
   ],
   "source": [
    "c.cricket()"
   ]
  },
  {
   "cell_type": "code",
   "execution_count": 109,
   "id": "d47fd8c2-e872-4623-ab99-a40be06b7f7d",
   "metadata": {},
   "outputs": [],
   "source": [
    "class student_data(): #parent class\n",
    "    def __init__(self,name,roll_no,mobile_no):\n",
    "        self.name = name\n",
    "        self._roll_no = roll_no\n",
    "        self.__mobile_no = __mobile_no = mobile_no"
   ]
  },
  {
   "cell_type": "code",
   "execution_count": 135,
   "id": "501e9b8a-c586-4359-a699-3fa5ade16f9c",
   "metadata": {},
   "outputs": [],
   "source": [
    "class primary_student(student_data): #child class\n",
    "    pass"
   ]
  },
  {
   "cell_type": "code",
   "execution_count": 127,
   "id": "6cfa674a-fa9c-4547-84f5-aad33074654b",
   "metadata": {},
   "outputs": [],
   "source": [
    "p1 = primary_student(\"s\", 5 , 245455)"
   ]
  },
  {
   "cell_type": "code",
   "execution_count": 129,
   "id": "09d80ef5-4a82-47a8-9124-92461d28c3e0",
   "metadata": {},
   "outputs": [
    {
     "data": {
      "text/plain": [
       "'s'"
      ]
     },
     "execution_count": 129,
     "metadata": {},
     "output_type": "execute_result"
    }
   ],
   "source": [
    "p1.name"
   ]
  },
  {
   "cell_type": "code",
   "execution_count": 131,
   "id": "5d669511-9784-4c4e-8ebe-a681fc24747b",
   "metadata": {},
   "outputs": [
    {
     "data": {
      "text/plain": [
       "5"
      ]
     },
     "execution_count": 131,
     "metadata": {},
     "output_type": "execute_result"
    }
   ],
   "source": [
    "p1._roll_no"
   ]
  },
  {
   "cell_type": "code",
   "execution_count": 133,
   "id": "65c3bfcf-7328-4edc-b664-57026a51f6ac",
   "metadata": {},
   "outputs": [
    {
     "data": {
      "text/plain": [
       "245455"
      ]
     },
     "execution_count": 133,
     "metadata": {},
     "output_type": "execute_result"
    }
   ],
   "source": [
    "p1._student_data__mobile_no"
   ]
  },
  {
   "cell_type": "code",
   "execution_count": null,
   "id": "5262bf60-a965-49fd-bc70-d9f08ad12092",
   "metadata": {},
   "outputs": [],
   "source": []
  }
 ],
 "metadata": {
  "kernelspec": {
   "display_name": "Python 3 (ipykernel)",
   "language": "python",
   "name": "python3"
  },
  "language_info": {
   "codemirror_mode": {
    "name": "ipython",
    "version": 3
   },
   "file_extension": ".py",
   "mimetype": "text/x-python",
   "name": "python",
   "nbconvert_exporter": "python",
   "pygments_lexer": "ipython3",
   "version": "3.12.7"
  }
 },
 "nbformat": 4,
 "nbformat_minor": 5
}
