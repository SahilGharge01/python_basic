{
 "cells": [
  {
   "cell_type": "markdown",
   "id": "1cdde566-b355-445c-a85e-23258249560c",
   "metadata": {},
   "source": [
    "# data type"
   ]
  },
  {
   "cell_type": "markdown",
   "id": "52813559-d664-4561-b4eb-f900505f72f5",
   "metadata": {},
   "source": [
    "#1. integer"
   ]
  },
  {
   "cell_type": "raw",
   "id": "53985057-a586-4f5a-b4d9-3153dccf3476",
   "metadata": {},
   "source": [
    "integer is completet number.\n",
    "eg: no family members\n",
    "--> 4,6,2,3\n",
    "eg: no of bank accounts\n",
    "-->3,2,1,"
   ]
  },
  {
   "cell_type": "code",
   "execution_count": 4,
   "id": "9223408b-4aa7-490c-bdd3-e606a0cfc926",
   "metadata": {},
   "outputs": [
    {
     "data": {
      "text/plain": [
       "10"
      ]
     },
     "execution_count": 4,
     "metadata": {},
     "output_type": "execute_result"
    }
   ],
   "source": [
    "10\n"
   ]
  },
  {
   "cell_type": "code",
   "execution_count": 6,
   "id": "551a6502-6950-4c5e-91f9-57c9d1eb699e",
   "metadata": {},
   "outputs": [
    {
     "data": {
      "text/plain": [
       "int"
      ]
     },
     "execution_count": 6,
     "metadata": {},
     "output_type": "execute_result"
    }
   ],
   "source": [
    "type(10)"
   ]
  },
  {
   "cell_type": "code",
   "execution_count": 8,
   "id": "20d575f5-8aad-4d0e-be2e-f5d4715a55c7",
   "metadata": {},
   "outputs": [
    {
     "data": {
      "text/plain": [
       "int"
      ]
     },
     "execution_count": 8,
     "metadata": {},
     "output_type": "execute_result"
    }
   ],
   "source": [
    "type(4)"
   ]
  },
  {
   "cell_type": "markdown",
   "id": "e057835d-d0bd-4e57-b6e9-6464ad9f5704",
   "metadata": {},
   "source": [
    "# float"
   ]
  },
  {
   "cell_type": "code",
   "execution_count": null,
   "id": "0386e4a7-83d2-43fd-93ff-0a1f7e02cf40",
   "metadata": {},
   "outputs": [],
   "source": [
    "Valuse in decimal format \n",
    "Eg: Height\n",
    ">--6.1,5.5\n",
    "Eg Weight\n",
    ">-- 60.300,30.100"
   ]
  },
  {
   "cell_type": "code",
   "execution_count": 9,
   "id": "23af316a-8400-4b42-b749-2a0150cd3d22",
   "metadata": {},
   "outputs": [
    {
     "data": {
      "text/plain": [
       "6.1"
      ]
     },
     "execution_count": 9,
     "metadata": {},
     "output_type": "execute_result"
    }
   ],
   "source": [
    "6.1"
   ]
  },
  {
   "cell_type": "code",
   "execution_count": 11,
   "id": "daaa4577-8f1c-41d6-a537-8e9cd050ed45",
   "metadata": {},
   "outputs": [
    {
     "data": {
      "text/plain": [
       "float"
      ]
     },
     "execution_count": 11,
     "metadata": {},
     "output_type": "execute_result"
    }
   ],
   "source": [
    "type(6.1)"
   ]
  },
  {
   "cell_type": "code",
   "execution_count": 13,
   "id": "a12b81d1-8ac0-4ef0-b7d7-1158e874c698",
   "metadata": {},
   "outputs": [
    {
     "data": {
      "text/plain": [
       "float"
      ]
     },
     "execution_count": 13,
     "metadata": {},
     "output_type": "execute_result"
    }
   ],
   "source": [
    "type(40.200)"
   ]
  },
  {
   "cell_type": "markdown",
   "id": "d4304e10-8c23-4f73-996c-f02b9bf12906",
   "metadata": {},
   "source": [
    "# complex number"
   ]
  },
  {
   "cell_type": "code",
   "execution_count": null,
   "id": "a26fe2c5-925c-4f7a-916a-590a3e29c6f6",
   "metadata": {},
   "outputs": [],
   "source": [
    "Valuse in vector format\n",
    "Eg:-->10 + 5j"
   ]
  },
  {
   "cell_type": "code",
   "execution_count": 16,
   "id": "24b8ba7e-b1f3-4b82-913f-615cb1703aa7",
   "metadata": {},
   "outputs": [
    {
     "data": {
      "text/plain": [
       "(10+5j)"
      ]
     },
     "execution_count": 16,
     "metadata": {},
     "output_type": "execute_result"
    }
   ],
   "source": [
    "(10 +5j)"
   ]
  },
  {
   "cell_type": "code",
   "execution_count": 18,
   "id": "21e8ee60-754f-4a76-9ea3-cda0ddafd75e",
   "metadata": {},
   "outputs": [
    {
     "data": {
      "text/plain": [
       "complex"
      ]
     },
     "execution_count": 18,
     "metadata": {},
     "output_type": "execute_result"
    }
   ],
   "source": [
    "type (10+5j)"
   ]
  },
  {
   "cell_type": "markdown",
   "id": "d5eca439-869e-42a1-9934-5b092df61e87",
   "metadata": {},
   "source": [
    "# string"
   ]
  },
  {
   "cell_type": "markdown",
   "id": "d25ac74d-d0a0-445d-9ec2-fa94177f912d",
   "metadata": {},
   "source": [
    "word,sentences,alpha"
   ]
  },
  {
   "cell_type": "code",
   "execution_count": null,
   "id": "5f18c388-bb0d-4c8c-9fa7-1e0748a3ad5d",
   "metadata": {},
   "outputs": [],
   "source": [
    "1.rule-->'',\"\"\n",
    "2.rule-->\"\"\"\n",
    "\n",
    "         \"\"\""
   ]
  },
  {
   "cell_type": "code",
   "execution_count": 23,
   "id": "13b451d9-751c-42c0-8a45-b5fb9e848ecb",
   "metadata": {},
   "outputs": [
    {
     "data": {
      "text/plain": [
       "'hello python'"
      ]
     },
     "execution_count": 23,
     "metadata": {},
     "output_type": "execute_result"
    }
   ],
   "source": [
    "'hello python'"
   ]
  },
  {
   "cell_type": "code",
   "execution_count": 25,
   "id": "f3c6745e-9760-44d3-9bb9-c29fe7106d05",
   "metadata": {},
   "outputs": [
    {
     "name": "stdout",
     "output_type": "stream",
     "text": [
      "hello python\n"
     ]
    }
   ],
   "source": [
    "print('hello python')"
   ]
  },
  {
   "cell_type": "code",
   "execution_count": 27,
   "id": "fa13ee39-125e-4033-bbff-30769a125878",
   "metadata": {},
   "outputs": [
    {
     "name": "stdout",
     "output_type": "stream",
     "text": [
      "hey python\n"
     ]
    }
   ],
   "source": [
    "print(\"hey python\")"
   ]
  },
  {
   "cell_type": "markdown",
   "id": "16d5d365-62f0-4ad2-b3d3-12b5152bf1f8",
   "metadata": {},
   "source": [
    "how to write multiple sentences"
   ]
  },
  {
   "cell_type": "code",
   "execution_count": 32,
   "id": "05a394a2-6e69-441a-bb59-2d8932d30d54",
   "metadata": {},
   "outputs": [
    {
     "data": {
      "text/plain": [
       "' this my line1.\\nthis is my line2.\\nthis is my line3.'"
      ]
     },
     "execution_count": 32,
     "metadata": {},
     "output_type": "execute_result"
    }
   ],
   "source": [
    "\"\"\" this my line1.\n",
    "this is my line2.\n",
    "this is my line3.\"\"\""
   ]
  },
  {
   "cell_type": "code",
   "execution_count": 34,
   "id": "dfa0234a-1855-496f-8713-b8a13e72dc6c",
   "metadata": {},
   "outputs": [
    {
     "name": "stdout",
     "output_type": "stream",
     "text": [
      " this is my line1.\n",
      "this is my line2.\n",
      "this is my line 3.\n"
     ]
    }
   ],
   "source": [
    "print(\"\"\" this is my line1.\n",
    "this is my line2.\n",
    "this is my line 3.\"\"\")"
   ]
  },
  {
   "cell_type": "markdown",
   "id": "fcd6ab38-ffdd-4feb-82c3-711db5187dc2",
   "metadata": {},
   "source": [
    "# boolean "
   ]
  },
  {
   "cell_type": "markdown",
   "id": "39182104-8667-42cf-8fc9-a91c1b2fc2d8",
   "metadata": {},
   "source": [
    "true and flase"
   ]
  },
  {
   "cell_type": "code",
   "execution_count": 39,
   "id": "9eaa4438-2fa7-49f6-9736-e64f3c5aa62c",
   "metadata": {},
   "outputs": [
    {
     "data": {
      "text/plain": [
       "False"
      ]
     },
     "execution_count": 39,
     "metadata": {},
     "output_type": "execute_result"
    }
   ],
   "source": [
    "10>20"
   ]
  },
  {
   "cell_type": "code",
   "execution_count": 41,
   "id": "a8a7193c-f529-4dbb-ab51-ebe48f84f7bd",
   "metadata": {},
   "outputs": [
    {
     "data": {
      "text/plain": [
       "True"
      ]
     },
     "execution_count": 41,
     "metadata": {},
     "output_type": "execute_result"
    }
   ],
   "source": [
    "10<20"
   ]
  },
  {
   "cell_type": "code",
   "execution_count": 47,
   "id": "d2398371-cd96-4226-bc8b-f0669540b84e",
   "metadata": {},
   "outputs": [
    {
     "data": {
      "text/plain": [
       "bool"
      ]
     },
     "execution_count": 47,
     "metadata": {},
     "output_type": "execute_result"
    }
   ],
   "source": [
    "type(True)"
   ]
  },
  {
   "cell_type": "code",
   "execution_count": 49,
   "id": "7e8f7f42-b89e-41d8-91c5-931a78ad6041",
   "metadata": {},
   "outputs": [
    {
     "data": {
      "text/plain": [
       "bool"
      ]
     },
     "execution_count": 49,
     "metadata": {},
     "output_type": "execute_result"
    }
   ],
   "source": [
    "type(False)"
   ]
  },
  {
   "cell_type": "code",
   "execution_count": null,
   "id": "1621577d-37de-4c67-bfc6-7d78471adbed",
   "metadata": {},
   "outputs": [],
   "source": []
  }
 ],
 "metadata": {
  "kernelspec": {
   "display_name": "Python 3 (ipykernel)",
   "language": "python",
   "name": "python3"
  },
  "language_info": {
   "codemirror_mode": {
    "name": "ipython",
    "version": 3
   },
   "file_extension": ".py",
   "mimetype": "text/x-python",
   "name": "python",
   "nbconvert_exporter": "python",
   "pygments_lexer": "ipython3",
   "version": "3.12.7"
  }
 },
 "nbformat": 4,
 "nbformat_minor": 5
}
