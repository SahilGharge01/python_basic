{
 "cells": [
  {
   "cell_type": "code",
   "execution_count": 1,
   "id": "82aa4dc7-7f0d-4153-b391-e298daf952c4",
   "metadata": {},
   "outputs": [],
   "source": [
    "import logging"
   ]
  },
  {
   "cell_type": "markdown",
   "id": "df2d25f4-cff6-4b22-a03a-3353c659a751",
   "metadata": {},
   "source": [
    "# login cinfigration\n"
   ]
  },
  {
   "cell_type": "code",
   "execution_count": 6,
   "id": "c7ee2436-078e-472f-aedc-ebd9bd6d1f40",
   "metadata": {},
   "outputs": [],
   "source": [
    "logging.basicConfig(filename ='myprojet.log ' , level = logging.DEBUG, format = '%(asctime)s %(levelname)s %(message)s')"
   ]
  },
  {
   "cell_type": "code",
   "execution_count": 18,
   "id": "f8442492-7548-43cb-90fa-67d76e63cc56",
   "metadata": {},
   "outputs": [],
   "source": [
    "logging.info('this my info log')\n",
    "logging.warning('this my warning log')\n",
    "logging.debug(' this my debug log')\n",
    "logging.error('this is my error log')"
   ]
  },
  {
   "cell_type": "code",
   "execution_count": 24,
   "id": "e52a8b14-8c54-4717-b493-2c1781f5b826",
   "metadata": {},
   "outputs": [],
   "source": [
    "def div(a,b):\n",
    "    logging.info(f'Entered into div function a:{a} for b:{b}')\n",
    "    try:\n",
    "        division = a/b\n",
    "        logging.info('sucessfully divide a\\b')\n",
    "    except Exception as e:\n",
    "        logging.error('error happend')\n",
    "        logging.info(e)"
   ]
  },
  {
   "cell_type": "code",
   "execution_count": 26,
   "id": "3aeef945-8341-4138-a35c-b48e79d67c6b",
   "metadata": {},
   "outputs": [],
   "source": [
    "div(10,2)"
   ]
  },
  {
   "cell_type": "code",
   "execution_count": 30,
   "id": "d108fbf9-1848-4e50-be07-e5ff63f0637a",
   "metadata": {},
   "outputs": [],
   "source": [
    "div(5,0)"
   ]
  },
  {
   "cell_type": "code",
   "execution_count": null,
   "id": "117f6332-6a63-4b8b-b190-8bf2dbdf6d7b",
   "metadata": {},
   "outputs": [],
   "source": []
  }
 ],
 "metadata": {
  "kernelspec": {
   "display_name": "Python 3 (ipykernel)",
   "language": "python",
   "name": "python3"
  },
  "language_info": {
   "codemirror_mode": {
    "name": "ipython",
    "version": 3
   },
   "file_extension": ".py",
   "mimetype": "text/x-python",
   "name": "python",
   "nbconvert_exporter": "python",
   "pygments_lexer": "ipython3",
   "version": "3.12.7"
  }
 },
 "nbformat": 4,
 "nbformat_minor": 5
}
