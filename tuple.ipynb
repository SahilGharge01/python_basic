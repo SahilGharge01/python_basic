{
 "cells": [
  {
   "cell_type": "code",
   "execution_count": 1,
   "id": "361c753d-5c49-4b53-ae9e-8c98a2cb3b7e",
   "metadata": {},
   "outputs": [],
   "source": [
    "names = ['sahil','sumit','om','harsh']"
   ]
  },
  {
   "cell_type": "code",
   "execution_count": 3,
   "id": "c84f1fa2-4476-472f-860d-9956c4ebdbea",
   "metadata": {},
   "outputs": [],
   "source": [
    "l = [1,2,3,4,5]"
   ]
  },
  {
   "cell_type": "code",
   "execution_count": 5,
   "id": "a7eb5b93-624b-4754-911f-947ce8358d76",
   "metadata": {},
   "outputs": [
    {
     "data": {
      "text/plain": [
       "['sahil', 'sumit', 'om', 'harsh']"
      ]
     },
     "execution_count": 5,
     "metadata": {},
     "output_type": "execute_result"
    }
   ],
   "source": [
    "names"
   ]
  },
  {
   "cell_type": "code",
   "execution_count": 9,
   "id": "6e06bea0-477c-4be0-974e-4fb7d3d68a6b",
   "metadata": {},
   "outputs": [
    {
     "data": {
      "text/plain": [
       "1"
      ]
     },
     "execution_count": 9,
     "metadata": {},
     "output_type": "execute_result"
    }
   ],
   "source": [
    "l.count(2)"
   ]
  },
  {
   "cell_type": "code",
   "execution_count": 26,
   "id": "dac6ed00-f0f2-4ffc-8b92-e5bb27e4f1f8",
   "metadata": {},
   "outputs": [],
   "source": [
    "l = [1,2,3,4,5,1,1,1,2,3,3,3,5]"
   ]
  },
  {
   "cell_type": "code",
   "execution_count": 13,
   "id": "12ffcb65-a7fe-449d-94d6-a5a9809c812f",
   "metadata": {},
   "outputs": [
    {
     "data": {
      "text/plain": [
       "4"
      ]
     },
     "execution_count": 13,
     "metadata": {},
     "output_type": "execute_result"
    }
   ],
   "source": [
    "l.count(1)"
   ]
  },
  {
   "cell_type": "code",
   "execution_count": 15,
   "id": "d148ffb9-670d-49e3-ad45-dbf454c4118b",
   "metadata": {},
   "outputs": [
    {
     "data": {
      "text/plain": [
       "2"
      ]
     },
     "execution_count": 15,
     "metadata": {},
     "output_type": "execute_result"
    }
   ],
   "source": [
    "l.count(2)"
   ]
  },
  {
   "cell_type": "code",
   "execution_count": 17,
   "id": "24a1ba08-6f18-411e-a2a2-f913cee63867",
   "metadata": {},
   "outputs": [
    {
     "data": {
      "text/plain": [
       "3"
      ]
     },
     "execution_count": 17,
     "metadata": {},
     "output_type": "execute_result"
    }
   ],
   "source": [
    "l.count(3)"
   ]
  },
  {
   "cell_type": "code",
   "execution_count": 19,
   "id": "6453c29a-92a1-41a4-bfb5-82e13b7fcdd5",
   "metadata": {},
   "outputs": [
    {
     "data": {
      "text/plain": [
       "2"
      ]
     },
     "execution_count": 19,
     "metadata": {},
     "output_type": "execute_result"
    }
   ],
   "source": [
    "l.count(5)"
   ]
  },
  {
   "cell_type": "code",
   "execution_count": 36,
   "id": "415ed8d9-a476-4b6b-8a60-567f922265b9",
   "metadata": {},
   "outputs": [
    {
     "data": {
      "text/plain": [
       "[1, 2, 2, 3, 3, 3, 3, 4, 5, 5]"
      ]
     },
     "execution_count": 36,
     "metadata": {},
     "output_type": "execute_result"
    }
   ],
   "source": [
    "l"
   ]
  },
  {
   "cell_type": "code",
   "execution_count": 79,
   "id": "860da663-e38e-47f4-91e0-984095d3fed6",
   "metadata": {},
   "outputs": [],
   "source": [
    "l.sort()\n"
   ]
  },
  {
   "cell_type": "code",
   "execution_count": 81,
   "id": "32d5de9d-1825-4bc3-8a03-7574a04c082b",
   "metadata": {},
   "outputs": [
    {
     "data": {
      "text/plain": [
       "[2, 3, 3, 3, 4, 4, 4, 5, 5]"
      ]
     },
     "execution_count": 81,
     "metadata": {},
     "output_type": "execute_result"
    }
   ],
   "source": [
    "l"
   ]
  },
  {
   "cell_type": "code",
   "execution_count": 94,
   "id": "92e451b9-af1e-4048-afa5-f26eebfccd6c",
   "metadata": {},
   "outputs": [],
   "source": [
    "l.remove(3)"
   ]
  },
  {
   "cell_type": "code",
   "execution_count": 90,
   "id": "190b31a4-505c-4802-84ce-c86fe90659ed",
   "metadata": {},
   "outputs": [
    {
     "data": {
      "text/plain": [
       "5"
      ]
     },
     "execution_count": 90,
     "metadata": {},
     "output_type": "execute_result"
    }
   ],
   "source": [
    "l.pop()"
   ]
  },
  {
   "cell_type": "code",
   "execution_count": 92,
   "id": "ecc58fe6-40ea-403a-8644-2d64a17eb6c9",
   "metadata": {},
   "outputs": [
    {
     "data": {
      "text/plain": [
       "[3, 4, 4, 4, 5]"
      ]
     },
     "execution_count": 92,
     "metadata": {},
     "output_type": "execute_result"
    }
   ],
   "source": [
    "l"
   ]
  },
  {
   "cell_type": "code",
   "execution_count": 96,
   "id": "5604f185-bfa1-466f-957c-e0ab14299135",
   "metadata": {},
   "outputs": [
    {
     "data": {
      "text/plain": [
       "3"
      ]
     },
     "execution_count": 96,
     "metadata": {},
     "output_type": "execute_result"
    }
   ],
   "source": [
    "l.index(5)"
   ]
  },
  {
   "cell_type": "code",
   "execution_count": 98,
   "id": "2b08cbc7-7e18-4687-a38c-24e2926d92f2",
   "metadata": {},
   "outputs": [
    {
     "data": {
      "text/plain": [
       "['sahil', 'sumit', 'om', 'harsh']"
      ]
     },
     "execution_count": 98,
     "metadata": {},
     "output_type": "execute_result"
    }
   ],
   "source": [
    "names"
   ]
  },
  {
   "cell_type": "code",
   "execution_count": 102,
   "id": "66bc8aca-1bd5-451b-825e-2272febefcbe",
   "metadata": {},
   "outputs": [],
   "source": [
    "names.insert(1,'rock')"
   ]
  },
  {
   "cell_type": "code",
   "execution_count": 104,
   "id": "0593869b-8e6b-4a3e-a9b4-07bfb35a9d57",
   "metadata": {},
   "outputs": [
    {
     "data": {
      "text/plain": [
       "['sahil', 'rock', 'sumit', 'om', 'harsh']"
      ]
     },
     "execution_count": 104,
     "metadata": {},
     "output_type": "execute_result"
    }
   ],
   "source": [
    "names"
   ]
  },
  {
   "cell_type": "code",
   "execution_count": 106,
   "id": "bb9f11a7-6ba8-4466-9386-4b621b2d200b",
   "metadata": {},
   "outputs": [],
   "source": [
    "names.reverse()"
   ]
  },
  {
   "cell_type": "code",
   "execution_count": 108,
   "id": "c408c458-c72d-491f-8f50-3ec4daee8218",
   "metadata": {},
   "outputs": [
    {
     "data": {
      "text/plain": [
       "['harsh', 'om', 'sumit', 'rock', 'sahil']"
      ]
     },
     "execution_count": 108,
     "metadata": {},
     "output_type": "execute_result"
    }
   ],
   "source": [
    "names"
   ]
  },
  {
   "cell_type": "markdown",
   "id": "00a18f27-78e5-4f62-8c41-09a37c5b8bef",
   "metadata": {},
   "source": [
    "# tuple"
   ]
  },
  {
   "cell_type": "code",
   "execution_count": 126,
   "id": "05d5d27f-b242-4d8f-a149-713db4720973",
   "metadata": {},
   "outputs": [],
   "source": [
    "#tuple is unchangeble"
   ]
  },
  {
   "cell_type": "code",
   "execution_count": 111,
   "id": "8bf541d4-c227-498b-aa00-772f140d0ef7",
   "metadata": {},
   "outputs": [],
   "source": [
    "t = (1,2,3,4)"
   ]
  },
  {
   "cell_type": "code",
   "execution_count": 113,
   "id": "c4add84c-610d-42c3-9dab-66f395715535",
   "metadata": {},
   "outputs": [
    {
     "data": {
      "text/plain": [
       "(1, 2, 3, 4)"
      ]
     },
     "execution_count": 113,
     "metadata": {},
     "output_type": "execute_result"
    }
   ],
   "source": [
    "t"
   ]
  },
  {
   "cell_type": "code",
   "execution_count": 115,
   "id": "50775d91-99a8-4f37-9541-ab5b4e25fd87",
   "metadata": {},
   "outputs": [],
   "source": [
    "# how acces dataset from tuple"
   ]
  },
  {
   "cell_type": "code",
   "execution_count": 119,
   "id": "1b39659d-03fb-4bbc-aa32-16196f552785",
   "metadata": {},
   "outputs": [
    {
     "data": {
      "text/plain": [
       "1"
      ]
     },
     "execution_count": 119,
     "metadata": {},
     "output_type": "execute_result"
    }
   ],
   "source": [
    "t[0]"
   ]
  },
  {
   "cell_type": "code",
   "execution_count": 122,
   "id": "5596e104-bae7-4f0d-9f1f-b7bef477936e",
   "metadata": {},
   "outputs": [
    {
     "data": {
      "text/plain": [
       "2"
      ]
     },
     "execution_count": 122,
     "metadata": {},
     "output_type": "execute_result"
    }
   ],
   "source": [
    "t[1]"
   ]
  },
  {
   "cell_type": "code",
   "execution_count": 128,
   "id": "eeec1064-11b3-4a07-98f7-169e131d4a0b",
   "metadata": {},
   "outputs": [],
   "source": [
    "# how chnange one data streture to another"
   ]
  },
  {
   "cell_type": "code",
   "execution_count": 132,
   "id": "2197d7b7-ce4c-44a8-b272-adf1b1049592",
   "metadata": {},
   "outputs": [],
   "source": [
    "d = ('hello','python',10)"
   ]
  },
  {
   "cell_type": "code",
   "execution_count": 134,
   "id": "5b9435ac-303b-428f-8cde-cef85742617e",
   "metadata": {},
   "outputs": [
    {
     "data": {
      "text/plain": [
       "tuple"
      ]
     },
     "execution_count": 134,
     "metadata": {},
     "output_type": "execute_result"
    }
   ],
   "source": [
    "type(d)"
   ]
  },
  {
   "cell_type": "code",
   "execution_count": 136,
   "id": "3a83aaf1-4485-4e30-b33c-ac77f9786509",
   "metadata": {},
   "outputs": [],
   "source": [
    "#convert --> tuple"
   ]
  },
  {
   "cell_type": "code",
   "execution_count": 140,
   "id": "65788887-109e-4ce3-9f7f-7e8aece0814f",
   "metadata": {},
   "outputs": [
    {
     "data": {
      "text/plain": [
       "('om', 'sahil', 'king')"
      ]
     },
     "execution_count": 140,
     "metadata": {},
     "output_type": "execute_result"
    }
   ],
   "source": [
    "('om','sahil','king')"
   ]
  },
  {
   "cell_type": "code",
   "execution_count": 142,
   "id": "debfe5d1-b1f7-442b-87fa-a1011f484498",
   "metadata": {},
   "outputs": [
    {
     "data": {
      "text/plain": [
       "('hello', 'python', 10, 'hello', 'python', 10, 'hello', 'python', 10)"
      ]
     },
     "execution_count": 142,
     "metadata": {},
     "output_type": "execute_result"
    }
   ],
   "source": [
    "d*3"
   ]
  },
  {
   "cell_type": "code",
   "execution_count": 144,
   "id": "3bf1c9e0-63c1-40f2-9155-40447218c6fb",
   "metadata": {},
   "outputs": [],
   "source": [
    "# nest tuple"
   ]
  },
  {
   "cell_type": "code",
   "execution_count": 146,
   "id": "38afcb5a-4cec-4c43-b7ed-e491917f6b17",
   "metadata": {},
   "outputs": [],
   "source": [
    "k=(10,20,30,(100,200,300),40,50)"
   ]
  },
  {
   "cell_type": "code",
   "execution_count": 148,
   "id": "9f1810b0-cde7-49c1-b605-ead8b50dbe78",
   "metadata": {},
   "outputs": [
    {
     "data": {
      "text/plain": [
       "(10, 20, 30, (100, 200, 300), 40, 50)"
      ]
     },
     "execution_count": 148,
     "metadata": {},
     "output_type": "execute_result"
    }
   ],
   "source": [
    "k"
   ]
  },
  {
   "cell_type": "code",
   "execution_count": 152,
   "id": "e2ef82fb-76ab-4192-b7b0-fefdbcad7c95",
   "metadata": {},
   "outputs": [
    {
     "data": {
      "text/plain": [
       "(100, 200, 300)"
      ]
     },
     "execution_count": 152,
     "metadata": {},
     "output_type": "execute_result"
    }
   ],
   "source": [
    "k[3]"
   ]
  },
  {
   "cell_type": "code",
   "execution_count": 154,
   "id": "00975ec0-ec40-4162-9fc7-198d2885faa9",
   "metadata": {},
   "outputs": [
    {
     "data": {
      "text/plain": [
       "300"
      ]
     },
     "execution_count": 154,
     "metadata": {},
     "output_type": "execute_result"
    }
   ],
   "source": [
    "k[3][2]"
   ]
  },
  {
   "cell_type": "code",
   "execution_count": null,
   "id": "d669cca6-caaa-4aa2-8f67-698542642410",
   "metadata": {},
   "outputs": [],
   "source": []
  }
 ],
 "metadata": {
  "kernelspec": {
   "display_name": "Python 3 (ipykernel)",
   "language": "python",
   "name": "python3"
  },
  "language_info": {
   "codemirror_mode": {
    "name": "ipython",
    "version": 3
   },
   "file_extension": ".py",
   "mimetype": "text/x-python",
   "name": "python",
   "nbconvert_exporter": "python",
   "pygments_lexer": "ipython3",
   "version": "3.12.7"
  }
 },
 "nbformat": 4,
 "nbformat_minor": 5
}
