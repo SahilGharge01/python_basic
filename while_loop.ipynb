{
 "cells": [
  {
   "cell_type": "code",
   "execution_count": 23,
   "id": "66707299-fe09-4d12-bfd9-3be8226bda84",
   "metadata": {},
   "outputs": [],
   "source": [
    "x = 1"
   ]
  },
  {
   "cell_type": "code",
   "execution_count": 25,
   "id": "7a3e8295-7729-4be3-9372-87c1e327c95c",
   "metadata": {},
   "outputs": [
    {
     "data": {
      "text/plain": [
       "1"
      ]
     },
     "execution_count": 25,
     "metadata": {},
     "output_type": "execute_result"
    }
   ],
   "source": [
    "x"
   ]
  },
  {
   "cell_type": "code",
   "execution_count": 27,
   "id": "20b89203-e6f0-4623-b680-1f3accab8dd7",
   "metadata": {},
   "outputs": [
    {
     "name": "stdout",
     "output_type": "stream",
     "text": [
      "1\n",
      "2\n",
      "3\n",
      "4\n",
      "5\n",
      "6\n",
      "7\n",
      "8\n",
      "9\n",
      "10\n"
     ]
    }
   ],
   "source": [
    "while x <= 10:\n",
    "    print (x)\n",
    "    x = x + 1"
   ]
  },
  {
   "cell_type": "code",
   "execution_count": 29,
   "id": "b89b0121-59dc-4f60-90bd-211eec397b3c",
   "metadata": {},
   "outputs": [],
   "source": [
    "#coundown timer"
   ]
  },
  {
   "cell_type": "code",
   "execution_count": 43,
   "id": "f3c05a31-6d05-429c-b6fd-faf9759a0244",
   "metadata": {},
   "outputs": [],
   "source": [
    "n = 5"
   ]
  },
  {
   "cell_type": "code",
   "execution_count": 45,
   "id": "3b7ba4f8-eb4c-416f-ab51-8c17c4366969",
   "metadata": {},
   "outputs": [
    {
     "name": "stdout",
     "output_type": "stream",
     "text": [
      "5\n",
      "time out\n",
      "4\n",
      "time out\n",
      "3\n",
      "time out\n",
      "2\n",
      "time out\n",
      "1\n",
      "time out\n"
     ]
    }
   ],
   "source": [
    "while n > 0:\n",
    "    print(n)\n",
    "    n = n - 1\n",
    "    print('time out')"
   ]
  },
  {
   "cell_type": "code",
   "execution_count": 47,
   "id": "5f8b6a93-1ea8-4bc9-a8c5-2b79ec31dc33",
   "metadata": {},
   "outputs": [],
   "source": [
    "# while loop is getting  excuteted until unless it is getting false condetion"
   ]
  },
  {
   "cell_type": "code",
   "execution_count": 49,
   "id": "1491f671-ae15-4a92-bff8-d0b48fd09489",
   "metadata": {},
   "outputs": [],
   "source": [
    "button = 'hello'"
   ]
  },
  {
   "cell_type": "code",
   "execution_count": 51,
   "id": "c3f4abe9-57a1-4c54-ab2f-005a5a03b646",
   "metadata": {},
   "outputs": [
    {
     "data": {
      "text/plain": [
       "'hello'"
      ]
     },
     "execution_count": 51,
     "metadata": {},
     "output_type": "execute_result"
    }
   ],
   "source": [
    "button"
   ]
  },
  {
   "cell_type": "code",
   "execution_count": 53,
   "id": "85c9ab71-8a80-4b62-b5ee-875387a6be1f",
   "metadata": {},
   "outputs": [
    {
     "data": {
      "text/plain": [
       "str"
      ]
     },
     "execution_count": 53,
     "metadata": {},
     "output_type": "execute_result"
    }
   ],
   "source": [
    "type(button)"
   ]
  },
  {
   "cell_type": "code",
   "execution_count": 55,
   "id": "39748da6-5a1d-4a74-b209-542b941b4e92",
   "metadata": {},
   "outputs": [
    {
     "name": "stdout",
     "output_type": "stream",
     "text": [
      "hello\n"
     ]
    },
    {
     "name": "stdin",
     "output_type": "stream",
     "text": [
      "write stop to exit loop hi\n"
     ]
    },
    {
     "name": "stdout",
     "output_type": "stream",
     "text": [
      "hi\n"
     ]
    },
    {
     "name": "stdin",
     "output_type": "stream",
     "text": [
      "write stop to exit loop sahil\n"
     ]
    },
    {
     "name": "stdout",
     "output_type": "stream",
     "text": [
      "sahil\n"
     ]
    },
    {
     "name": "stdin",
     "output_type": "stream",
     "text": [
      "write stop to exit loop stop\n"
     ]
    }
   ],
   "source": [
    "while button != 'stop':\n",
    "    print(button)\n",
    "    button = input('write stop to exit loop')"
   ]
  },
  {
   "cell_type": "markdown",
   "id": "e3ec0d2f-d000-445c-83fc-d4ace5a97b2b",
   "metadata": {},
   "source": [
    "# break,continue,pass"
   ]
  },
  {
   "cell_type": "code",
   "execution_count": 58,
   "id": "542db5df-c0b9-45a3-b0a8-b4aa5d87bbc6",
   "metadata": {},
   "outputs": [],
   "source": [
    "l = [1,2,3,4,5]"
   ]
  },
  {
   "cell_type": "code",
   "execution_count": 60,
   "id": "90dd21ea-b380-4edd-8ec8-d4a41ca49e9c",
   "metadata": {},
   "outputs": [
    {
     "name": "stdout",
     "output_type": "stream",
     "text": [
      "1\n",
      "2\n",
      "3\n",
      "4\n",
      "5\n"
     ]
    }
   ],
   "source": [
    " for i in l:\n",
    "    print(i)"
   ]
  },
  {
   "cell_type": "code",
   "execution_count": 82,
   "id": "525bb635-f290-4605-b166-c94f81f3a022",
   "metadata": {},
   "outputs": [
    {
     "data": {
      "text/plain": [
       "[1, 2, 3, 4, 5]"
      ]
     },
     "execution_count": 82,
     "metadata": {},
     "output_type": "execute_result"
    }
   ],
   "source": [
    "l"
   ]
  },
  {
   "cell_type": "code",
   "execution_count": 107,
   "id": "825b3a6c-9dc8-49b5-b4d7-747a672a4866",
   "metadata": {},
   "outputs": [
    {
     "name": "stdout",
     "output_type": "stream",
     "text": [
      "1\n",
      "2\n"
     ]
    }
   ],
   "source": [
    "for i in l:\n",
    "    if i == 3:\n",
    "        break\n",
    "    print(i)"
   ]
  },
  {
   "cell_type": "code",
   "execution_count": 111,
   "id": "96778361-17cf-4067-87f3-e80cc62fed22",
   "metadata": {},
   "outputs": [
    {
     "name": "stdout",
     "output_type": "stream",
     "text": [
      "d\n",
      "a\n",
      "t\n",
      "a\n",
      " \n",
      "s\n"
     ]
    }
   ],
   "source": [
    " for i in 'data science':\n",
    "     if i == 'c':\n",
    "         break\n",
    "     print(i)"
   ]
  },
  {
   "cell_type": "code",
   "execution_count": 113,
   "id": "cfa742aa-577e-4fb1-9e0d-2cfa4a1f1483",
   "metadata": {},
   "outputs": [],
   "source": [
    "# continue"
   ]
  },
  {
   "cell_type": "code",
   "execution_count": 115,
   "id": "1df8ad9f-cd0a-4ca1-b1d3-39b9cca6c115",
   "metadata": {},
   "outputs": [
    {
     "data": {
      "text/plain": [
       "[1, 2, 3, 4, 5]"
      ]
     },
     "execution_count": 115,
     "metadata": {},
     "output_type": "execute_result"
    }
   ],
   "source": [
    "l"
   ]
  },
  {
   "cell_type": "code",
   "execution_count": 117,
   "id": "aac485f3-6ff6-4b88-aa82-19c48d9ddd09",
   "metadata": {},
   "outputs": [
    {
     "name": "stdout",
     "output_type": "stream",
     "text": [
      "1\n",
      "2\n",
      "4\n",
      "5\n"
     ]
    }
   ],
   "source": [
    "for i in l:\n",
    "    if i == 3:\n",
    "        continue\n",
    "    print(i)    "
   ]
  },
  {
   "cell_type": "code",
   "execution_count": 119,
   "id": "6d5f64c3-391c-4701-b329-241fdb6964ed",
   "metadata": {},
   "outputs": [
    {
     "name": "stdout",
     "output_type": "stream",
     "text": [
      "d\n",
      "t\n",
      " \n",
      "s\n",
      "c\n",
      "i\n",
      "e\n",
      "n\n",
      "c\n",
      "e\n"
     ]
    }
   ],
   "source": [
    "for i in 'data science':\n",
    "    if i  == 'a':\n",
    "        continue\n",
    "    print(i)    "
   ]
  },
  {
   "cell_type": "code",
   "execution_count": 121,
   "id": "2b6ecc79-e2f2-4298-a9ae-78ec35572c4d",
   "metadata": {},
   "outputs": [],
   "source": [
    "#pass"
   ]
  },
  {
   "cell_type": "code",
   "execution_count": 125,
   "id": "b8e9218b-60c7-404a-83f3-a3eb6aab4149",
   "metadata": {},
   "outputs": [],
   "source": [
    "for i in l:\n",
    "    pass  # do nothing\""
   ]
  },
  {
   "cell_type": "code",
   "execution_count": 128,
   "id": "64b84658-bcec-43a3-a6a3-142a599f95d1",
   "metadata": {},
   "outputs": [
    {
     "name": "stdout",
     "output_type": "stream",
     "text": [
      "1\n",
      "2\n",
      "4\n",
      "5\n"
     ]
    }
   ],
   "source": [
    "for i in l:\n",
    "    if i == 3:\n",
    "        pass\n",
    "    else:\n",
    "         print(i)\n",
    "    "
   ]
  },
  {
   "cell_type": "code",
   "execution_count": null,
   "id": "87c11fca-033b-4b08-aa0d-0fe11129852b",
   "metadata": {},
   "outputs": [],
   "source": []
  }
 ],
 "metadata": {
  "kernelspec": {
   "display_name": "Python 3 (ipykernel)",
   "language": "python",
   "name": "python3"
  },
  "language_info": {
   "codemirror_mode": {
    "name": "ipython",
    "version": 3
   },
   "file_extension": ".py",
   "mimetype": "text/x-python",
   "name": "python",
   "nbconvert_exporter": "python",
   "pygments_lexer": "ipython3",
   "version": "3.12.7"
  }
 },
 "nbformat": 4,
 "nbformat_minor": 5
}
