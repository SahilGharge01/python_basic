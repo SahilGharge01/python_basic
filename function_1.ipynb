{
 "cells": [
  {
   "cell_type": "code",
   "execution_count": 1,
   "id": "881c473b-9a52-43af-a002-87d490e73040",
   "metadata": {},
   "outputs": [],
   "source": [
    "def test():\n",
    "    print('i am test function')"
   ]
  },
  {
   "cell_type": "code",
   "execution_count": 5,
   "id": "879e0efc-74c0-444a-8d3e-ffd4a5b5af78",
   "metadata": {},
   "outputs": [
    {
     "name": "stdout",
     "output_type": "stream",
     "text": [
      "i am test function\n"
     ]
    }
   ],
   "source": [
    "test()"
   ]
  },
  {
   "cell_type": "code",
   "execution_count": 9,
   "id": "4a9f659b-4b4f-47ce-a661-bfd8e393d9fc",
   "metadata": {},
   "outputs": [
    {
     "data": {
      "text/plain": [
       "4"
      ]
     },
     "execution_count": 9,
     "metadata": {},
     "output_type": "execute_result"
    }
   ],
   "source": [
    "len([1,2,3,4])"
   ]
  },
  {
   "cell_type": "markdown",
   "id": "cdfd87dd-ef2e-4117-a9c4-6d9c234422c3",
   "metadata": {},
   "source": [
    "##### "
   ]
  },
  {
   "cell_type": "code",
   "execution_count": 27,
   "id": "86e34d9c-1b80-49b3-abd1-eb33ecc441d2",
   "metadata": {},
   "outputs": [],
   "source": [
    "# how to write description / dockstring of function"
   ]
  },
  {
   "cell_type": "code",
   "execution_count": 18,
   "id": "3aa16ee2-ba3c-4726-98dc-aa006017cfbe",
   "metadata": {},
   "outputs": [],
   "source": [
    "def sum(x,y):\n",
    "    '''this is sum function.\n",
    "    sum function is going to add x and y value .\n",
    "    you have to pass values for x and y.'''\n",
    "    print(x+y)"
   ]
  },
  {
   "cell_type": "code",
   "execution_count": 25,
   "id": "2160ad38-87df-4a51-a063-6d2c114eb73a",
   "metadata": {},
   "outputs": [
    {
     "name": "stdout",
     "output_type": "stream",
     "text": [
      "3\n"
     ]
    }
   ],
   "source": [
    "sum(1,2)"
   ]
  },
  {
   "cell_type": "code",
   "execution_count": 33,
   "id": "eb480ed8-cf14-4902-a1e1-a8e9601415ae",
   "metadata": {},
   "outputs": [],
   "source": [
    "def banner():\n",
    "    print('this is banner of data science')"
   ]
  },
  {
   "cell_type": "code",
   "execution_count": 35,
   "id": "c0e353cf-34b1-41f3-b63d-ac13c14df9ca",
   "metadata": {},
   "outputs": [
    {
     "name": "stdout",
     "output_type": "stream",
     "text": [
      "this is banner of data science\n"
     ]
    }
   ],
   "source": [
    "banner()"
   ]
  },
  {
   "cell_type": "code",
   "execution_count": 37,
   "id": "bd352124-9fa7-4d63-a151-56b36f503388",
   "metadata": {},
   "outputs": [],
   "source": [
    "def addition(x,y):\n",
    "    return x + y"
   ]
  },
  {
   "cell_type": "code",
   "execution_count": 39,
   "id": "7eded774-fd3b-4dd4-8c28-9be4c521d68c",
   "metadata": {},
   "outputs": [
    {
     "data": {
      "text/plain": [
       "3"
      ]
     },
     "execution_count": 39,
     "metadata": {},
     "output_type": "execute_result"
    }
   ],
   "source": [
    "addition(1,2)"
   ]
  },
  {
   "cell_type": "code",
   "execution_count": 41,
   "id": "cbc93a4d-23e0-4bad-8d0b-9a52fef4e3c1",
   "metadata": {},
   "outputs": [
    {
     "data": {
      "text/plain": [
       "int"
      ]
     },
     "execution_count": 41,
     "metadata": {},
     "output_type": "execute_result"
    }
   ],
   "source": [
    "type (addition(1,2))"
   ]
  },
  {
   "cell_type": "code",
   "execution_count": 43,
   "id": "9cfda2d5-ff20-4975-a9ad-874d3088d003",
   "metadata": {},
   "outputs": [],
   "source": [
    "# diff b/w print and return ?"
   ]
  },
  {
   "cell_type": "code",
   "execution_count": 45,
   "id": "0bc51b63-d6c6-4653-9d44-e71380453b3d",
   "metadata": {},
   "outputs": [],
   "source": [
    "def multiplication (x,y):\n",
    "    return x*y"
   ]
  },
  {
   "cell_type": "code",
   "execution_count": 47,
   "id": "e6972d94-d99c-4a58-b016-10596ca4daa4",
   "metadata": {},
   "outputs": [
    {
     "data": {
      "text/plain": [
       "50"
      ]
     },
     "execution_count": 47,
     "metadata": {},
     "output_type": "execute_result"
    }
   ],
   "source": [
    "multiplication (10,5)"
   ]
  },
  {
   "cell_type": "code",
   "execution_count": 49,
   "id": "b7e4f66a-a30a-4604-be28-f2576bf71340",
   "metadata": {},
   "outputs": [
    {
     "data": {
      "text/plain": [
       "53"
      ]
     },
     "execution_count": 49,
     "metadata": {},
     "output_type": "execute_result"
    }
   ],
   "source": [
    "multiplication (10,5) + addition(1,2)"
   ]
  },
  {
   "cell_type": "code",
   "execution_count": 51,
   "id": "30fb1dd7-04e6-4c7f-864e-37753bbcfb26",
   "metadata": {},
   "outputs": [],
   "source": [
    "# function for square of number"
   ]
  },
  {
   "cell_type": "code",
   "execution_count": 53,
   "id": "54861769-342d-42ad-b00c-b6e718df3f1b",
   "metadata": {},
   "outputs": [],
   "source": [
    "def square(x):\n",
    "    return x* x"
   ]
  },
  {
   "cell_type": "code",
   "execution_count": 55,
   "id": "b3676993-b842-4ab2-8179-44c68836b642",
   "metadata": {},
   "outputs": [
    {
     "data": {
      "text/plain": [
       "25"
      ]
     },
     "execution_count": 55,
     "metadata": {},
     "output_type": "execute_result"
    }
   ],
   "source": [
    "square (5)"
   ]
  },
  {
   "cell_type": "code",
   "execution_count": 57,
   "id": "5faa8fec-b20d-49fa-aa12-a8f2b50a562c",
   "metadata": {},
   "outputs": [
    {
     "data": {
      "text/plain": [
       "9"
      ]
     },
     "execution_count": 57,
     "metadata": {},
     "output_type": "execute_result"
    }
   ],
   "source": [
    "square (3)"
   ]
  },
  {
   "cell_type": "code",
   "execution_count": 59,
   "id": "b846e9c3-315c-44ab-8902-7cac790e4359",
   "metadata": {},
   "outputs": [],
   "source": [
    "#function for chacking even or odd"
   ]
  },
  {
   "cell_type": "code",
   "execution_count": 61,
   "id": "0127437e-09ea-49ad-8fc7-d63f815b112d",
   "metadata": {},
   "outputs": [],
   "source": [
    " def even_odd(a):\n",
    "     if a % 2 ==0:\n",
    "         return 'number is even ', a\n",
    "     else:\n",
    "         return 'number is odd ',a"
   ]
  },
  {
   "cell_type": "code",
   "execution_count": 63,
   "id": "3ae77ad3-9e7b-471f-9d54-a51597062d9e",
   "metadata": {},
   "outputs": [
    {
     "data": {
      "text/plain": [
       "('number is odd ', 9)"
      ]
     },
     "execution_count": 63,
     "metadata": {},
     "output_type": "execute_result"
    }
   ],
   "source": [
    "even_odd(9)"
   ]
  },
  {
   "cell_type": "code",
   "execution_count": 65,
   "id": "63243156-e561-4bcb-a787-3d406610649f",
   "metadata": {},
   "outputs": [
    {
     "data": {
      "text/plain": [
       "('number is even ', 2)"
      ]
     },
     "execution_count": 65,
     "metadata": {},
     "output_type": "execute_result"
    }
   ],
   "source": [
    "even_odd(2)"
   ]
  },
  {
   "cell_type": "code",
   "execution_count": 67,
   "id": "c71a6d34-b39e-4b2c-af14-e68d15bc35a7",
   "metadata": {},
   "outputs": [],
   "source": [
    "def table(x):\n",
    "    for i in range(1,11):\n",
    "        print (i * x)\n",
    "        "
   ]
  },
  {
   "cell_type": "code",
   "execution_count": 69,
   "id": "2d83f567-b81b-4eea-b998-eb72c629d951",
   "metadata": {},
   "outputs": [
    {
     "name": "stdout",
     "output_type": "stream",
     "text": [
      "5\n",
      "10\n",
      "15\n",
      "20\n",
      "25\n",
      "30\n",
      "35\n",
      "40\n",
      "45\n",
      "50\n"
     ]
    }
   ],
   "source": [
    "table(5)"
   ]
  },
  {
   "cell_type": "code",
   "execution_count": null,
   "id": "7a956f91-ca4d-4e0b-8f26-be3aea9f1cb4",
   "metadata": {},
   "outputs": [],
   "source": []
  }
 ],
 "metadata": {
  "kernelspec": {
   "display_name": "Python 3 (ipykernel)",
   "language": "python",
   "name": "python3"
  },
  "language_info": {
   "codemirror_mode": {
    "name": "ipython",
    "version": 3
   },
   "file_extension": ".py",
   "mimetype": "text/x-python",
   "name": "python",
   "nbconvert_exporter": "python",
   "pygments_lexer": "ipython3",
   "version": "3.12.7"
  }
 },
 "nbformat": 4,
 "nbformat_minor": 5
}
