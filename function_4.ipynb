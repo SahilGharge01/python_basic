{
 "cells": [
  {
   "cell_type": "markdown",
   "id": "6c1f64de-8452-4450-8895-72c84c153e3d",
   "metadata": {},
   "source": [
    "# lamnda function"
   ]
  },
  {
   "cell_type": "code",
   "execution_count": 15,
   "id": "db7340fe-bbd3-464c-ba73-c2ffa1e149fe",
   "metadata": {},
   "outputs": [],
   "source": [
    " f = lambda x:x + 100"
   ]
  },
  {
   "cell_type": "code",
   "execution_count": 17,
   "id": "4fa51adb-4cab-4e2b-81ba-4135a10634e6",
   "metadata": {},
   "outputs": [
    {
     "data": {
      "text/plain": [
       "105"
      ]
     },
     "execution_count": 17,
     "metadata": {},
     "output_type": "execute_result"
    }
   ],
   "source": [
    "f(5)"
   ]
  },
  {
   "cell_type": "code",
   "execution_count": 21,
   "id": "3eaf743b-9578-4be7-896a-e22520c3f9eb",
   "metadata": {},
   "outputs": [],
   "source": [
    "def number_ten(x):\n",
    "    return x + 10"
   ]
  },
  {
   "cell_type": "code",
   "execution_count": 23,
   "id": "8e32e4a3-7ab7-4955-90ac-2a67b37a4625",
   "metadata": {},
   "outputs": [
    {
     "data": {
      "text/plain": [
       "15"
      ]
     },
     "execution_count": 23,
     "metadata": {},
     "output_type": "execute_result"
    }
   ],
   "source": [
    "number_ten(5)\n"
   ]
  },
  {
   "cell_type": "code",
   "execution_count": 25,
   "id": "ee9b7668-bc58-415d-867b-5d737e1d22e6",
   "metadata": {},
   "outputs": [],
   "source": [
    "nt = lambda a:a+10"
   ]
  },
  {
   "cell_type": "code",
   "execution_count": 27,
   "id": "7017cb05-1798-4d56-b159-01cc0823e3aa",
   "metadata": {},
   "outputs": [
    {
     "data": {
      "text/plain": [
       "15"
      ]
     },
     "execution_count": 27,
     "metadata": {},
     "output_type": "execute_result"
    }
   ],
   "source": [
    "nt(5)"
   ]
  },
  {
   "cell_type": "code",
   "execution_count": 30,
   "id": "770d6357-0413-44de-a821-a9f1c4dc69e1",
   "metadata": {},
   "outputs": [],
   "source": [
    "# square of number"
   ]
  },
  {
   "cell_type": "code",
   "execution_count": 34,
   "id": "d8c93072-4c30-4cac-a69c-fe46bc111617",
   "metadata": {},
   "outputs": [],
   "source": [
    "def square_number(x):\n",
    "    return x * x"
   ]
  },
  {
   "cell_type": "code",
   "execution_count": 36,
   "id": "45817743-e427-4617-ade9-e52d02f0f2da",
   "metadata": {},
   "outputs": [
    {
     "data": {
      "text/plain": [
       "4"
      ]
     },
     "execution_count": 36,
     "metadata": {},
     "output_type": "execute_result"
    }
   ],
   "source": [
    "square_number(2)"
   ]
  },
  {
   "cell_type": "code",
   "execution_count": 38,
   "id": "33e33d65-21cf-4e52-bea9-7adcd70c6d23",
   "metadata": {},
   "outputs": [],
   "source": [
    "sn = lambda x: x * x"
   ]
  },
  {
   "cell_type": "code",
   "execution_count": 40,
   "id": "9eebb26c-1436-4045-91f3-d44323ec8e77",
   "metadata": {},
   "outputs": [
    {
     "data": {
      "text/plain": [
       "9"
      ]
     },
     "execution_count": 40,
     "metadata": {},
     "output_type": "execute_result"
    }
   ],
   "source": [
    "sn(3)"
   ]
  },
  {
   "cell_type": "code",
   "execution_count": 42,
   "id": "db1d8b1c-8ffb-4bdc-b648-c54108572cc2",
   "metadata": {},
   "outputs": [],
   "source": [
    "# addition two number"
   ]
  },
  {
   "cell_type": "code",
   "execution_count": 46,
   "id": "1b4ee765-c46e-4b33-9fb2-05a5b4546082",
   "metadata": {},
   "outputs": [],
   "source": [
    "test1 = lambda a,b : a + b"
   ]
  },
  {
   "cell_type": "code",
   "execution_count": 48,
   "id": "4314aa7e-b982-473e-bbb9-46004cb8fbcd",
   "metadata": {},
   "outputs": [
    {
     "data": {
      "text/plain": [
       "15"
      ]
     },
     "execution_count": 48,
     "metadata": {},
     "output_type": "execute_result"
    }
   ],
   "source": [
    "test1 (10,5)"
   ]
  },
  {
   "cell_type": "code",
   "execution_count": 50,
   "id": "64db11e6-31ab-427f-af62-af7ae244454a",
   "metadata": {},
   "outputs": [],
   "source": [
    "#devid it multiple it"
   ]
  },
  {
   "cell_type": "code",
   "execution_count": 60,
   "id": "1f3d9f98-bbad-40ca-be22-537e8ff2ddbd",
   "metadata": {},
   "outputs": [],
   "source": [
    "test2 = lambda a , b : (a*b,a/b)"
   ]
  },
  {
   "cell_type": "code",
   "execution_count": 62,
   "id": "1e033890-0640-45c7-a406-72da2df5d380",
   "metadata": {},
   "outputs": [
    {
     "data": {
      "text/plain": [
       "(6, 1.5)"
      ]
     },
     "execution_count": 62,
     "metadata": {},
     "output_type": "execute_result"
    }
   ],
   "source": [
    "test2(3,2)"
   ]
  },
  {
   "cell_type": "markdown",
   "id": "36e1afb4-0506-4b91-b97f-d3abf1635ca2",
   "metadata": {},
   "source": [
    "# list  comprehensions"
   ]
  },
  {
   "cell_type": "code",
   "execution_count": 66,
   "id": "16132022-5fa2-424a-859d-fe2b74b00f11",
   "metadata": {},
   "outputs": [],
   "source": [
    "l = [1,2,3,4]"
   ]
  },
  {
   "cell_type": "code",
   "execution_count": 68,
   "id": "153c8bf3-2a9e-49e2-9034-7710fb9de7f1",
   "metadata": {},
   "outputs": [
    {
     "name": "stdout",
     "output_type": "stream",
     "text": [
      "1\n",
      "2\n",
      "3\n",
      "4\n"
     ]
    }
   ],
   "source": [
    "for i in l:\n",
    "    print(i)"
   ]
  },
  {
   "cell_type": "code",
   "execution_count": 70,
   "id": "9b7bb5f8-890c-4977-9306-a67a2e0bc184",
   "metadata": {},
   "outputs": [
    {
     "data": {
      "text/plain": [
       "[1, 2, 3, 4]"
      ]
     },
     "execution_count": 70,
     "metadata": {},
     "output_type": "execute_result"
    }
   ],
   "source": [
    "[i for i in l]"
   ]
  },
  {
   "cell_type": "code",
   "execution_count": 72,
   "id": "eae19ac0-625f-4c85-9ad1-c44c2e0e8b19",
   "metadata": {},
   "outputs": [
    {
     "data": {
      "text/plain": [
       "[11, 12, 13, 14]"
      ]
     },
     "execution_count": 72,
     "metadata": {},
     "output_type": "execute_result"
    }
   ],
   "source": [
    "[i+10 for i in l]"
   ]
  },
  {
   "cell_type": "code",
   "execution_count": 75,
   "id": "92d6d431-381b-4d11-b099-72dc57b7d6b0",
   "metadata": {},
   "outputs": [],
   "source": [
    "#[output  for item in iterable]\n",
    "#[out  + 10 for item in iterable]"
   ]
  },
  {
   "cell_type": "code",
   "execution_count": 79,
   "id": "f7e231d4-92d3-4a93-bb34-b956d4099cbc",
   "metadata": {},
   "outputs": [
    {
     "data": {
      "text/plain": [
       "[0, 1, 2, 3, 4]"
      ]
     },
     "execution_count": 79,
     "metadata": {},
     "output_type": "execute_result"
    }
   ],
   "source": [
    "[i for i in range(5)]"
   ]
  },
  {
   "cell_type": "code",
   "execution_count": 85,
   "id": "5202643b-e605-4307-9722-8425bc45850b",
   "metadata": {},
   "outputs": [
    {
     "data": {
      "text/plain": [
       "[1, 4, 9, 16, 25, 36, 49, 64, 81, 100]"
      ]
     },
     "execution_count": 85,
     "metadata": {},
     "output_type": "execute_result"
    }
   ],
   "source": [
    "[i * i for i in range (1,11)]"
   ]
  },
  {
   "cell_type": "code",
   "execution_count": 91,
   "id": "9f752602-80e1-4775-b354-53d80b1f428d",
   "metadata": {},
   "outputs": [
    {
     "name": "stdout",
     "output_type": "stream",
     "text": [
      "2\n",
      "4\n",
      "6\n",
      "8\n",
      "10\n",
      "12\n",
      "14\n",
      "16\n",
      "18\n",
      "20\n"
     ]
    }
   ],
   "source": [
    "for i in range (1,21):\n",
    "    if i % 2 == 0:\n",
    "        print(i)"
   ]
  },
  {
   "cell_type": "code",
   "execution_count": 95,
   "id": "9ab5272b-81a1-4199-9e5f-41b7c09eaa9f",
   "metadata": {},
   "outputs": [
    {
     "data": {
      "text/plain": [
       "[2, 4, 6, 8, 10, 12, 14, 16, 18, 20]"
      ]
     },
     "execution_count": 95,
     "metadata": {},
     "output_type": "execute_result"
    }
   ],
   "source": [
    "[ i for i in range(1,21)if i % 2 == 0]"
   ]
  },
  {
   "cell_type": "code",
   "execution_count": 97,
   "id": "be2b6404-0b77-44a0-b2df-a43c662549bd",
   "metadata": {},
   "outputs": [],
   "source": [
    "number = [1,-2,-3,-4,5]"
   ]
  },
  {
   "cell_type": "code",
   "execution_count": 101,
   "id": "9fccfeaf-9aa1-48e3-8d32-2f59c9b13588",
   "metadata": {},
   "outputs": [
    {
     "data": {
      "text/plain": [
       "[1, 'negative', 'negative', 'negative', 5]"
      ]
     },
     "execution_count": 101,
     "metadata": {},
     "output_type": "execute_result"
    }
   ],
   "source": [
    "[i if i > 0 else 'negative' for i in number]"
   ]
  },
  {
   "cell_type": "markdown",
   "id": "3a702630-df17-4e35-86d9-f5963a136f4e",
   "metadata": {},
   "source": [
    "# dictinary comprehension"
   ]
  },
  {
   "cell_type": "code",
   "execution_count": 108,
   "id": "9a937d72-4555-44b2-ab4b-7a64870d7e40",
   "metadata": {},
   "outputs": [
    {
     "data": {
      "text/plain": [
       "{0: 0, 1: 1, 2: 4, 3: 9, 4: 16}"
      ]
     },
     "execution_count": 108,
     "metadata": {},
     "output_type": "execute_result"
    }
   ],
   "source": [
    "{i:i*i for i in range(5)}"
   ]
  },
  {
   "cell_type": "code",
   "execution_count": null,
   "id": "1fecc454-6c91-41e2-af86-6e54b2f115f1",
   "metadata": {},
   "outputs": [],
   "source": []
  }
 ],
 "metadata": {
  "kernelspec": {
   "display_name": "Python 3 (ipykernel)",
   "language": "python",
   "name": "python3"
  },
  "language_info": {
   "codemirror_mode": {
    "name": "ipython",
    "version": 3
   },
   "file_extension": ".py",
   "mimetype": "text/x-python",
   "name": "python",
   "nbconvert_exporter": "python",
   "pygments_lexer": "ipython3",
   "version": "3.12.7"
  }
 },
 "nbformat": 4,
 "nbformat_minor": 5
}
