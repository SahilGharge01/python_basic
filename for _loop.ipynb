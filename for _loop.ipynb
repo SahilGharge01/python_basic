{
 "cells": [
  {
   "cell_type": "markdown",
   "id": "5904149a-2ffc-4a4a-bdc7-d0a5f8292fb7",
   "metadata": {},
   "source": [
    "# for loop"
   ]
  },
  {
   "cell_type": "code",
   "execution_count": 2,
   "id": "bda77d14-5806-45ea-90a7-4f8265838c28",
   "metadata": {},
   "outputs": [],
   "source": [
    "l = [1,2,3,4,5]"
   ]
  },
  {
   "cell_type": "code",
   "execution_count": 4,
   "id": "8650c139-5286-4dfe-b7db-c0b18bfbbb6e",
   "metadata": {},
   "outputs": [
    {
     "name": "stdout",
     "output_type": "stream",
     "text": [
      "1\n",
      "2\n",
      "3\n",
      "4\n",
      "5\n"
     ]
    }
   ],
   "source": [
    "for num in l:\n",
    "      print (num)"
   ]
  },
  {
   "cell_type": "code",
   "execution_count": 5,
   "id": "1c66a989-8075-4b7c-95f0-4e36ce659010",
   "metadata": {},
   "outputs": [],
   "source": [
    "l = [1,2,3,4,5]"
   ]
  },
  {
   "cell_type": "code",
   "execution_count": 8,
   "id": "16a22132-c4a3-47f6-8065-8b7357cbcc72",
   "metadata": {},
   "outputs": [
    {
     "data": {
      "text/plain": [
       "[1, 2, 3, 4, 5]"
      ]
     },
     "execution_count": 8,
     "metadata": {},
     "output_type": "execute_result"
    }
   ],
   "source": [
    "l"
   ]
  },
  {
   "cell_type": "code",
   "execution_count": 12,
   "id": "f00670be-2c34-4650-ba1a-699a800c7c15",
   "metadata": {},
   "outputs": [
    {
     "name": "stdout",
     "output_type": "stream",
     "text": [
      "1\n",
      "2\n",
      "3\n",
      "4\n",
      "5\n"
     ]
    }
   ],
   "source": [
    "for data in l:\n",
    "    print(data)"
   ]
  },
  {
   "cell_type": "code",
   "execution_count": 14,
   "id": "1f8e0b13-1e46-4f53-b484-b30e0ae3fe11",
   "metadata": {},
   "outputs": [
    {
     "name": "stdout",
     "output_type": "stream",
     "text": [
      "1\n",
      "2\n",
      "3\n",
      "4\n",
      "5\n"
     ]
    }
   ],
   "source": [
    "for i in l:\n",
    "    print(i)"
   ]
  },
  {
   "cell_type": "code",
   "execution_count": 20,
   "id": "b78d9ccd-a8b6-44c1-93ae-7659dbff5476",
   "metadata": {},
   "outputs": [
    {
     "name": "stdout",
     "output_type": "stream",
     "text": [
      "1\n",
      "2\n",
      "3\n",
      "4\n",
      "5\n"
     ]
    }
   ],
   "source": [
    "for i in l:\n",
    "    print(i)"
   ]
  },
  {
   "cell_type": "code",
   "execution_count": 24,
   "id": "336b3a30-9805-4383-8b7c-7f06b21e7bae",
   "metadata": {},
   "outputs": [
    {
     "name": "stdout",
     "output_type": "stream",
     "text": [
      "101\n",
      "102\n",
      "103\n",
      "104\n",
      "105\n"
     ]
    }
   ],
   "source": [
    "for i in l:\n",
    "    print (i+ 100)"
   ]
  },
  {
   "cell_type": "code",
   "execution_count": 26,
   "id": "000108b3-0481-40e1-86e3-d273a70eaf19",
   "metadata": {},
   "outputs": [
    {
     "name": "stdout",
     "output_type": "stream",
     "text": [
      "d\n",
      "a\n",
      "t\n",
      "a\n"
     ]
    }
   ],
   "source": [
    "for i in 'data':\n",
    "    print(i)"
   ]
  },
  {
   "cell_type": "code",
   "execution_count": 28,
   "id": "5f9e7e7b-3b14-442a-b9ce-efec5dcfdecd",
   "metadata": {},
   "outputs": [],
   "source": [
    "names =['om','sahil','harsh','aditay','king']"
   ]
  },
  {
   "cell_type": "code",
   "execution_count": 34,
   "id": "988c6d86-fa62-407f-a6a4-fbb17ef09a09",
   "metadata": {},
   "outputs": [
    {
     "name": "stdout",
     "output_type": "stream",
     "text": [
      "om\n",
      "sahil\n",
      "harsh\n",
      "aditay\n",
      "king\n"
     ]
    }
   ],
   "source": [
    "for i in names:\n",
    "    print (i)"
   ]
  },
  {
   "cell_type": "code",
   "execution_count": 44,
   "id": "8857f505-cbf5-4909-b9bb-c52e21fad6a8",
   "metadata": {},
   "outputs": [
    {
     "name": "stdout",
     "output_type": "stream",
     "text": [
      "my name is:om\n",
      "my name is:sahil\n",
      "my name is:harsh\n",
      "my name is:aditay\n",
      "my name is:king\n"
     ]
    }
   ],
   "source": [
    "for i in names:\n",
    "    print ('my name is:'+ i) "
   ]
  },
  {
   "cell_type": "code",
   "execution_count": 46,
   "id": "758cfde3-1f37-43dc-8434-183b37726fff",
   "metadata": {},
   "outputs": [],
   "source": [
    "mix = [1,1.5,'data',True,10.5j]"
   ]
  },
  {
   "cell_type": "code",
   "execution_count": 50,
   "id": "9cf08e62-b68a-4614-9e04-34664860b101",
   "metadata": {},
   "outputs": [
    {
     "name": "stdout",
     "output_type": "stream",
     "text": [
      "1\n",
      "1.5\n",
      "data\n",
      "True\n",
      "10.5j\n"
     ]
    }
   ],
   "source": [
    "for i in  mix:\n",
    "    print(i)"
   ]
  },
  {
   "cell_type": "code",
   "execution_count": 54,
   "id": "59607fcd-18b6-4942-93ea-5f0a019c4de1",
   "metadata": {},
   "outputs": [
    {
     "name": "stdout",
     "output_type": "stream",
     "text": [
      "1 <class 'int'>\n",
      "1.5 <class 'float'>\n",
      "data <class 'str'>\n",
      "True <class 'bool'>\n",
      "10.5j <class 'complex'>\n"
     ]
    }
   ],
   "source": [
    "for i in mix :\n",
    " print (i, type(i))"
   ]
  },
  {
   "cell_type": "code",
   "execution_count": 56,
   "id": "854248b3-e293-46ac-8792-374e60ee9ecf",
   "metadata": {},
   "outputs": [],
   "source": [
    "# for loop is going to iterate data one by one ."
   ]
  },
  {
   "cell_type": "code",
   "execution_count": 58,
   "id": "7d47ac91-658b-4445-998e-3513579a44a8",
   "metadata": {},
   "outputs": [
    {
     "data": {
      "text/plain": [
       "range(1, 11)"
      ]
     },
     "execution_count": 58,
     "metadata": {},
     "output_type": "execute_result"
    }
   ],
   "source": [
    "range(1,11)"
   ]
  },
  {
   "cell_type": "code",
   "execution_count": 68,
   "id": "a24641c3-0278-4d96-a7eb-54b12fcf2569",
   "metadata": {},
   "outputs": [
    {
     "name": "stdout",
     "output_type": "stream",
     "text": [
      "1\n",
      "2\n",
      "3\n",
      "4\n",
      "5\n",
      "6\n",
      "7\n",
      "8\n",
      "9\n",
      "10\n"
     ]
    }
   ],
   "source": [
    "for i in range (1,11):\n",
    "     print (i)"
   ]
  },
  {
   "cell_type": "code",
   "execution_count": 72,
   "id": "3fe9c03e-291f-4fcd-91f3-0e75a8d0b341",
   "metadata": {},
   "outputs": [
    {
     "data": {
      "text/plain": [
       "[1, 2, 3, 4, 5, 6, 7, 8, 9, 10]"
      ]
     },
     "execution_count": 72,
     "metadata": {},
     "output_type": "execute_result"
    }
   ],
   "source": [
    "list(range(1,11))"
   ]
  },
  {
   "cell_type": "code",
   "execution_count": 74,
   "id": "7a84cd33-0ab1-476e-86d5-f74a7adf09d3",
   "metadata": {},
   "outputs": [
    {
     "name": "stdout",
     "output_type": "stream",
     "text": [
      "0\n",
      "1\n",
      "2\n",
      "3\n",
      "4\n"
     ]
    }
   ],
   "source": [
    "for i in range(5):\n",
    "    print (i)"
   ]
  },
  {
   "cell_type": "code",
   "execution_count": 76,
   "id": "757fdc4c-5d28-4b8a-b42c-5e0963c3df9d",
   "metadata": {},
   "outputs": [
    {
     "name": "stdout",
     "output_type": "stream",
     "text": [
      "2\n",
      "4\n",
      "6\n",
      "8\n",
      "10\n"
     ]
    }
   ],
   "source": [
    " for i in range (2,11,2):\n",
    "     print (i)"
   ]
  },
  {
   "cell_type": "code",
   "execution_count": 78,
   "id": "fd96dd83-5ca7-4cff-a710-e78fdae6996d",
   "metadata": {},
   "outputs": [
    {
     "name": "stdout",
     "output_type": "stream",
     "text": [
      "1\n",
      "4\n",
      "7\n",
      "10\n",
      "13\n",
      "16\n",
      "19\n"
     ]
    }
   ],
   "source": [
    "for i in range (1,21,3):\n",
    "    print(i)"
   ]
  },
  {
   "cell_type": "code",
   "execution_count": 80,
   "id": "a00b3e21-901a-4fe1-88bd-4fa31113b608",
   "metadata": {},
   "outputs": [
    {
     "data": {
      "text/plain": [
       "[1, 1.5, 'data', True, 10.5j]"
      ]
     },
     "execution_count": 80,
     "metadata": {},
     "output_type": "execute_result"
    }
   ],
   "source": [
    "mix"
   ]
  },
  {
   "cell_type": "code",
   "execution_count": 82,
   "id": "7343438b-9c7d-4582-aa07-a5407e3fd2cd",
   "metadata": {},
   "outputs": [
    {
     "name": "stdout",
     "output_type": "stream",
     "text": [
      "1\n"
     ]
    }
   ],
   "source": [
    "for i in mix :\n",
    "    if type (i) ==int:\n",
    "        print (i)"
   ]
  },
  {
   "cell_type": "code",
   "execution_count": 84,
   "id": "6ad68e1e-cea5-43d3-a46b-7b78c10e4f20",
   "metadata": {},
   "outputs": [
    {
     "data": {
      "text/plain": [
       "int"
      ]
     },
     "execution_count": 84,
     "metadata": {},
     "output_type": "execute_result"
    }
   ],
   "source": [
    "type(1)"
   ]
  },
  {
   "cell_type": "code",
   "execution_count": 86,
   "id": "a3d412e5-1a40-47fc-80c8-4583051ab4f4",
   "metadata": {},
   "outputs": [],
   "source": [
    "p = [1,2,3,4,[10,20,300],5,6]"
   ]
  },
  {
   "cell_type": "code",
   "execution_count": 88,
   "id": "3a2b6494-c92d-4ba0-9ec5-6028fed888eb",
   "metadata": {},
   "outputs": [
    {
     "name": "stdout",
     "output_type": "stream",
     "text": [
      "1\n",
      "2\n",
      "3\n",
      "4\n",
      "[10, 20, 300]\n",
      "5\n",
      "6\n"
     ]
    }
   ],
   "source": [
    "for i in p:\n",
    "    print (i)"
   ]
  },
  {
   "cell_type": "code",
   "execution_count": 90,
   "id": "6d5fb4a0-dd95-497d-b852-d7573cd1a536",
   "metadata": {},
   "outputs": [
    {
     "name": "stdout",
     "output_type": "stream",
     "text": [
      "1 <class 'type'>\n",
      "2 <class 'type'>\n",
      "3 <class 'type'>\n",
      "4 <class 'type'>\n",
      "[10, 20, 300] <class 'type'>\n",
      "5 <class 'type'>\n",
      "6 <class 'type'>\n"
     ]
    }
   ],
   "source": [
    "for i in p:\n",
    "    print (i,type)"
   ]
  },
  {
   "cell_type": "code",
   "execution_count": 94,
   "id": "d78933a6-508a-4994-be0b-25b67d44f733",
   "metadata": {},
   "outputs": [
    {
     "name": "stdout",
     "output_type": "stream",
     "text": [
      "10\n",
      "20\n",
      "300\n"
     ]
    }
   ],
   "source": [
    " for i in p:\n",
    "     if type(i) == list:\n",
    "         for numb in i:\n",
    "             print(numb)"
   ]
  },
  {
   "cell_type": "code",
   "execution_count": 96,
   "id": "f076a1b4-46f9-4838-9cdc-d2857c587782",
   "metadata": {},
   "outputs": [],
   "source": [
    "# filiter out even and odd data"
   ]
  },
  {
   "cell_type": "code",
   "execution_count": 98,
   "id": "0d972fb9-b010-4eca-9092-7e061a9c35d5",
   "metadata": {},
   "outputs": [],
   "source": [
    "# filter out even number from  1 to 10 dataset"
   ]
  },
  {
   "cell_type": "code",
   "execution_count": 104,
   "id": "2500ca1c-93d9-47d4-b8a8-0465c38ec2bd",
   "metadata": {},
   "outputs": [
    {
     "name": "stdout",
     "output_type": "stream",
     "text": [
      "odd number 1\n",
      "odd number 11\n"
     ]
    }
   ],
   "source": [
    "for i in (1,11):\n",
    "    if i % 2 != 0:\n",
    "        print ('odd number',i)"
   ]
  },
  {
   "cell_type": "markdown",
   "id": "5673c722-6916-49fa-b9f4-4147a8556817",
   "metadata": {},
   "source": []
  }
 ],
 "metadata": {
  "kernelspec": {
   "display_name": "Python 3 (ipykernel)",
   "language": "python",
   "name": "python3"
  },
  "language_info": {
   "codemirror_mode": {
    "name": "ipython",
    "version": 3
   },
   "file_extension": ".py",
   "mimetype": "text/x-python",
   "name": "python",
   "nbconvert_exporter": "python",
   "pygments_lexer": "ipython3",
   "version": "3.12.7"
  }
 },
 "nbformat": 4,
 "nbformat_minor": 5
}
