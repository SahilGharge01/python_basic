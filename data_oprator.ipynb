{
 "cells": [
  {
   "cell_type": "markdown",
   "id": "10c7b002-27a0-424b-9ec7-2f824fecf831",
   "metadata": {},
   "source": [
    "# opration"
   ]
  },
  {
   "cell_type": "code",
   "execution_count": 3,
   "id": "3cef11e5-a379-4e09-ae4d-bd75d3111fe6",
   "metadata": {},
   "outputs": [
    {
     "data": {
      "text/plain": [
       "2"
      ]
     },
     "execution_count": 3,
     "metadata": {},
     "output_type": "execute_result"
    }
   ],
   "source": [
    "True + True #boolean"
   ]
  },
  {
   "cell_type": "code",
   "execution_count": 7,
   "id": "7288a0e4-4f77-4640-8362-b9175aaf9c3b",
   "metadata": {},
   "outputs": [
    {
     "data": {
      "text/plain": [
       "'hellopython'"
      ]
     },
     "execution_count": 7,
     "metadata": {},
     "output_type": "execute_result"
    }
   ],
   "source": [
    "'hello' + 'python' #string"
   ]
  },
  {
   "cell_type": "code",
   "execution_count": 9,
   "id": "1f0cb467-d853-454a-a732-f58e82210d3b",
   "metadata": {},
   "outputs": [
    {
     "data": {
      "text/plain": [
       "11.1"
      ]
     },
     "execution_count": 9,
     "metadata": {},
     "output_type": "execute_result"
    }
   ],
   "source": [
    "10+1.1 #int+str"
   ]
  },
  {
   "cell_type": "code",
   "execution_count": 19,
   "id": "781acbb2-aa47-49ea-9677-e09e378b3987",
   "metadata": {},
   "outputs": [],
   "source": [
    "first_name='sahil'\n"
   ]
  },
  {
   "cell_type": "code",
   "execution_count": 13,
   "id": "33713abb-c699-4b4a-bebd-5dc69bad1342",
   "metadata": {},
   "outputs": [],
   "source": [
    "last_name='gharge'"
   ]
  },
  {
   "cell_type": "code",
   "execution_count": 21,
   "id": "7ebbbb12-3419-4817-8aa6-3c6370c1da58",
   "metadata": {},
   "outputs": [
    {
     "data": {
      "text/plain": [
       "'sahil'"
      ]
     },
     "execution_count": 21,
     "metadata": {},
     "output_type": "execute_result"
    }
   ],
   "source": [
    "first_name"
   ]
  },
  {
   "cell_type": "code",
   "execution_count": 17,
   "id": "7c8554e1-8ecb-4718-88b4-8ebba471d5ac",
   "metadata": {},
   "outputs": [
    {
     "data": {
      "text/plain": [
       "'gharge'"
      ]
     },
     "execution_count": 17,
     "metadata": {},
     "output_type": "execute_result"
    }
   ],
   "source": [
    "last_name"
   ]
  },
  {
   "cell_type": "code",
   "execution_count": 23,
   "id": "8bf03a15-1374-433c-8a8f-f9beda637cdf",
   "metadata": {},
   "outputs": [
    {
     "data": {
      "text/plain": [
       "'sahilgharge'"
      ]
     },
     "execution_count": 23,
     "metadata": {},
     "output_type": "execute_result"
    }
   ],
   "source": [
    "first_name+last_name"
   ]
  },
  {
   "cell_type": "code",
   "execution_count": 25,
   "id": "f0a3040a-e2e5-4770-941c-013f01e52dca",
   "metadata": {},
   "outputs": [],
   "source": [
    "full_name=first_name+last_name"
   ]
  },
  {
   "cell_type": "code",
   "execution_count": 27,
   "id": "39f3ac83-2367-4d85-b0ee-0c342b9dd4e7",
   "metadata": {},
   "outputs": [
    {
     "data": {
      "text/plain": [
       "'sahilgharge'"
      ]
     },
     "execution_count": 27,
     "metadata": {},
     "output_type": "execute_result"
    }
   ],
   "source": [
    "full_name"
   ]
  },
  {
   "cell_type": "code",
   "execution_count": 29,
   "id": "8f81d3db-4600-4948-929e-3dfc5235160d",
   "metadata": {},
   "outputs": [],
   "source": [
    "a=5"
   ]
  },
  {
   "cell_type": "code",
   "execution_count": 31,
   "id": "213657ae-c309-4996-9ed5-bc89937fa8eb",
   "metadata": {},
   "outputs": [],
   "source": [
    "b=10"
   ]
  },
  {
   "cell_type": "code",
   "execution_count": 33,
   "id": "2bddd809-8f46-4d04-9218-2ddab22533f8",
   "metadata": {},
   "outputs": [],
   "source": [
    "c=a+b"
   ]
  },
  {
   "cell_type": "code",
   "execution_count": 35,
   "id": "dfa55c41-c8d0-4089-940e-8f015d517093",
   "metadata": {},
   "outputs": [
    {
     "data": {
      "text/plain": [
       "15"
      ]
     },
     "execution_count": 35,
     "metadata": {},
     "output_type": "execute_result"
    }
   ],
   "source": [
    "c"
   ]
  },
  {
   "cell_type": "code",
   "execution_count": 37,
   "id": "fa1a49ed-771b-410b-9534-50bb256577e4",
   "metadata": {},
   "outputs": [],
   "source": [
    "d=a*b"
   ]
  },
  {
   "cell_type": "code",
   "execution_count": 39,
   "id": "ce35c11a-eb4c-447f-9118-5b3d5ee8ea78",
   "metadata": {},
   "outputs": [
    {
     "data": {
      "text/plain": [
       "50"
      ]
     },
     "execution_count": 39,
     "metadata": {},
     "output_type": "execute_result"
    }
   ],
   "source": [
    "d"
   ]
  },
  {
   "cell_type": "code",
   "execution_count": 41,
   "id": "c5c10d9c-756d-44ba-8f08-41d467796580",
   "metadata": {},
   "outputs": [
    {
     "data": {
      "text/plain": [
       "0.5"
      ]
     },
     "execution_count": 41,
     "metadata": {},
     "output_type": "execute_result"
    }
   ],
   "source": [
    "a/b"
   ]
  },
  {
   "cell_type": "code",
   "execution_count": 43,
   "id": "22c3a89c-a6e8-4cd1-9841-646669ad9115",
   "metadata": {},
   "outputs": [],
   "source": [
    "#input"
   ]
  },
  {
   "cell_type": "code",
   "execution_count": 47,
   "id": "1434825d-d785-44d0-bb72-b4e15db88359",
   "metadata": {},
   "outputs": [],
   "source": [
    "name='sahil'"
   ]
  },
  {
   "cell_type": "code",
   "execution_count": 49,
   "id": "47345566-027c-42e2-aee8-f3778e4f12f3",
   "metadata": {},
   "outputs": [
    {
     "data": {
      "text/plain": [
       "'sahil'"
      ]
     },
     "execution_count": 49,
     "metadata": {},
     "output_type": "execute_result"
    }
   ],
   "source": [
    "name"
   ]
  },
  {
   "cell_type": "code",
   "execution_count": null,
   "id": "18bb6ee6-d15e-4203-b249-b7e4d7c9d918",
   "metadata": {},
   "outputs": [],
   "source": []
  },
  {
   "cell_type": "code",
   "execution_count": 51,
   "id": "c6369598-6b68-42a9-a735-f257f554c4d9",
   "metadata": {},
   "outputs": [
    {
     "name": "stdin",
     "output_type": "stream",
     "text": [
      "write your first name sumit\n"
     ]
    }
   ],
   "source": [
    "name=input(\"write your first name\")"
   ]
  },
  {
   "cell_type": "code",
   "execution_count": 53,
   "id": "b344fe2f-e4e6-48ee-8b10-eb60f7c219c0",
   "metadata": {},
   "outputs": [
    {
     "name": "stdin",
     "output_type": "stream",
     "text": [
      "write last name gharge\n"
     ]
    }
   ],
   "source": [
    "last_name=input(\"write last name\")"
   ]
  },
  {
   "cell_type": "code",
   "execution_count": 55,
   "id": "0a593141-b2ff-4446-8f21-867d75774ea3",
   "metadata": {},
   "outputs": [
    {
     "data": {
      "text/plain": [
       "'sumitgharge'"
      ]
     },
     "execution_count": 55,
     "metadata": {},
     "output_type": "execute_result"
    }
   ],
   "source": [
    "name+last_name"
   ]
  },
  {
   "cell_type": "code",
   "execution_count": null,
   "id": "0703dec7-9b47-4720-a7e3-16aff0d9bd22",
   "metadata": {},
   "outputs": [],
   "source": []
  }
 ],
 "metadata": {
  "kernelspec": {
   "display_name": "Python 3 (ipykernel)",
   "language": "python",
   "name": "python3"
  },
  "language_info": {
   "codemirror_mode": {
    "name": "ipython",
    "version": 3
   },
   "file_extension": ".py",
   "mimetype": "text/x-python",
   "name": "python",
   "nbconvert_exporter": "python",
   "pygments_lexer": "ipython3",
   "version": "3.12.7"
  }
 },
 "nbformat": 4,
 "nbformat_minor": 5
}
