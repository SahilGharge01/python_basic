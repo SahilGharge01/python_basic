{
 "cells": [
  {
   "cell_type": "code",
   "execution_count": 7,
   "id": "ec39ad75-3ae3-40b2-a7e4-9557afcb8077",
   "metadata": {},
   "outputs": [],
   "source": [
    "l = [1,2,3,4,5]"
   ]
  },
  {
   "cell_type": "code",
   "execution_count": 9,
   "id": "c48dad9f-9175-41cd-95df-0391d039795f",
   "metadata": {},
   "outputs": [],
   "source": [
    "# change list 2 -->200\n"
   ]
  },
  {
   "cell_type": "code",
   "execution_count": 11,
   "id": "b704b9f5-b9b8-4a6c-ae57-45302fc1726c",
   "metadata": {},
   "outputs": [],
   "source": [
    "l[1] = 200"
   ]
  },
  {
   "cell_type": "code",
   "execution_count": 13,
   "id": "7cae6ac2-0cc0-484f-ae55-a9304fe325c4",
   "metadata": {},
   "outputs": [
    {
     "data": {
      "text/plain": [
       "[1, 200, 3, 4, 5]"
      ]
     },
     "execution_count": 13,
     "metadata": {},
     "output_type": "execute_result"
    }
   ],
   "source": [
    "l"
   ]
  },
  {
   "cell_type": "code",
   "execution_count": 15,
   "id": "fa130fea-704c-4c5f-82e0-d8dad758ae7b",
   "metadata": {},
   "outputs": [],
   "source": [
    "name = ['sahil','om','harshdh','aditay']"
   ]
  },
  {
   "cell_type": "code",
   "execution_count": 19,
   "id": "eb0dc046-453b-4361-bb31-e40c09f492ae",
   "metadata": {},
   "outputs": [],
   "source": [
    "name [2] = 'king'"
   ]
  },
  {
   "cell_type": "code",
   "execution_count": 23,
   "id": "faa2d26c-7403-4487-9b88-7b8adf6156b8",
   "metadata": {},
   "outputs": [
    {
     "data": {
      "text/plain": [
       "['sahil', 'om', 'king', 'aditay']"
      ]
     },
     "execution_count": 23,
     "metadata": {},
     "output_type": "execute_result"
    }
   ],
   "source": [
    "name"
   ]
  },
  {
   "cell_type": "code",
   "execution_count": 25,
   "id": "ba660f85-ac87-49b8-a430-6b849375499a",
   "metadata": {},
   "outputs": [],
   "source": [
    "# nested list --> list inside list"
   ]
  },
  {
   "cell_type": "code",
   "execution_count": 45,
   "id": "f9f6b7f4-7a42-4757-b85a-054aa3c590a7",
   "metadata": {},
   "outputs": [],
   "source": [
    "d = [1,2,3,4,[10,20,30,40],5,6]"
   ]
  },
  {
   "cell_type": "code",
   "execution_count": 47,
   "id": "597565bf-74c1-4b1a-95df-e5570451aaeb",
   "metadata": {},
   "outputs": [
    {
     "data": {
      "text/plain": [
       "[10, 20, 30, 40]"
      ]
     },
     "execution_count": 47,
     "metadata": {},
     "output_type": "execute_result"
    }
   ],
   "source": [
    "d[4]"
   ]
  },
  {
   "cell_type": "code",
   "execution_count": 49,
   "id": "df394621-a875-45ad-a739-dc50a2ccc955",
   "metadata": {},
   "outputs": [
    {
     "data": {
      "text/plain": [
       "1"
      ]
     },
     "execution_count": 49,
     "metadata": {},
     "output_type": "execute_result"
    }
   ],
   "source": [
    "d[0]"
   ]
  },
  {
   "cell_type": "code",
   "execution_count": 51,
   "id": "6bd090bc-011d-497f-a975-6456f2871719",
   "metadata": {},
   "outputs": [
    {
     "data": {
      "text/plain": [
       "[10, 20, 30, 40]"
      ]
     },
     "execution_count": 51,
     "metadata": {},
     "output_type": "execute_result"
    }
   ],
   "source": [
    "d[4]"
   ]
  },
  {
   "cell_type": "code",
   "execution_count": 53,
   "id": "ed39823f-628e-4987-ae7e-3f44c0480890",
   "metadata": {},
   "outputs": [
    {
     "data": {
      "text/plain": [
       "30"
      ]
     },
     "execution_count": 53,
     "metadata": {},
     "output_type": "execute_result"
    }
   ],
   "source": [
    "d[4][2]"
   ]
  },
  {
   "cell_type": "code",
   "execution_count": 57,
   "id": "6522ae40-1b42-429a-972c-e1cb98752631",
   "metadata": {},
   "outputs": [],
   "source": [
    "d2 = [10,20,30,[1.5,2.5,3.5,[100,200,300],3.5]]"
   ]
  },
  {
   "cell_type": "code",
   "execution_count": 62,
   "id": "b51d3b0f-8381-4d6a-8324-608dba0cec30",
   "metadata": {},
   "outputs": [
    {
     "data": {
      "text/plain": [
       "10"
      ]
     },
     "execution_count": 62,
     "metadata": {},
     "output_type": "execute_result"
    }
   ],
   "source": [
    "d2[0]"
   ]
  },
  {
   "cell_type": "code",
   "execution_count": 67,
   "id": "aae02b29-06e9-44d2-956f-a824bdd36c71",
   "metadata": {},
   "outputs": [
    {
     "data": {
      "text/plain": [
       "[1.5, 2.5, 3.5, [100, 200, 300], 3.5]"
      ]
     },
     "execution_count": 67,
     "metadata": {},
     "output_type": "execute_result"
    }
   ],
   "source": [
    "d2[3]"
   ]
  },
  {
   "cell_type": "code",
   "execution_count": 73,
   "id": "49018f74-aba8-492a-b504-2daf07ce3838",
   "metadata": {},
   "outputs": [
    {
     "data": {
      "text/plain": [
       "[100, 200, 300]"
      ]
     },
     "execution_count": 73,
     "metadata": {},
     "output_type": "execute_result"
    }
   ],
   "source": [
    "d2[3][3]"
   ]
  },
  {
   "cell_type": "code",
   "execution_count": 79,
   "id": "c0e2b316-dba4-4131-a575-5dbb50d91049",
   "metadata": {},
   "outputs": [
    {
     "data": {
      "text/plain": [
       "200"
      ]
     },
     "execution_count": 79,
     "metadata": {},
     "output_type": "execute_result"
    }
   ],
   "source": [
    "d2[3][3][1]"
   ]
  },
  {
   "cell_type": "markdown",
   "id": "b7682a78-e206-43e8-9f71-071301649de8",
   "metadata": {},
   "source": [
    "# function on list"
   ]
  },
  {
   "cell_type": "code",
   "execution_count": 85,
   "id": "aa9c1825-407e-4bd6-97dd-9bcd145c345e",
   "metadata": {},
   "outputs": [
    {
     "data": {
      "text/plain": [
       "[1, 200, 3, 4, 5]"
      ]
     },
     "execution_count": 85,
     "metadata": {},
     "output_type": "execute_result"
    }
   ],
   "source": [
    "l"
   ]
  },
  {
   "cell_type": "code",
   "execution_count": 87,
   "id": "a4eef352-0a02-4514-96e6-ae17735c3477",
   "metadata": {},
   "outputs": [],
   "source": [
    "l.append(60)"
   ]
  },
  {
   "cell_type": "code",
   "execution_count": 89,
   "id": "b70bea1a-b92d-489c-a4f0-a3c5015b91bd",
   "metadata": {},
   "outputs": [
    {
     "data": {
      "text/plain": [
       "[1, 200, 3, 4, 5, 60]"
      ]
     },
     "execution_count": 89,
     "metadata": {},
     "output_type": "execute_result"
    }
   ],
   "source": [
    "l"
   ]
  },
  {
   "cell_type": "code",
   "execution_count": 93,
   "id": "86aa90e9-aecd-4918-99f4-8c259954ec56",
   "metadata": {},
   "outputs": [],
   "source": [
    "l.extend([1000,2000,3000])"
   ]
  },
  {
   "cell_type": "code",
   "execution_count": 96,
   "id": "38e76df5-1672-4727-8862-4652a1d61526",
   "metadata": {},
   "outputs": [
    {
     "data": {
      "text/plain": [
       "[1, 200, 3, 4, 5, 60, 1000, 2000, 3000]"
      ]
     },
     "execution_count": 96,
     "metadata": {},
     "output_type": "execute_result"
    }
   ],
   "source": [
    "l"
   ]
  }
 ],
 "metadata": {
  "kernelspec": {
   "display_name": "Python 3 (ipykernel)",
   "language": "python",
   "name": "python3"
  },
  "language_info": {
   "codemirror_mode": {
    "name": "ipython",
    "version": 3
   },
   "file_extension": ".py",
   "mimetype": "text/x-python",
   "name": "python",
   "nbconvert_exporter": "python",
   "pygments_lexer": "ipython3",
   "version": "3.12.7"
  }
 },
 "nbformat": 4,
 "nbformat_minor": 5
}
