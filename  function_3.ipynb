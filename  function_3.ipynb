{
 "cells": [
  {
   "cell_type": "code",
   "execution_count": 3,
   "id": "26b0f1ca-d6ad-4a0c-8ef4-2834e1973d19",
   "metadata": {},
   "outputs": [],
   "source": [
    "# find out of int type data multiple argument"
   ]
  },
  {
   "cell_type": "code",
   "execution_count": 9,
   "id": "f336d25a-d3d9-41ff-a618-0cbfe3e1b290",
   "metadata": {},
   "outputs": [],
   "source": [
    "def int_filter(*args):\n",
    "    l = []\n",
    "    for i in args:\n",
    "        if type(i) == int:\n",
    "            l.append(i)\n",
    "    return l        "
   ]
  },
  {
   "cell_type": "code",
   "execution_count": 13,
   "id": "c34f1fe0-4383-4a72-8423-c7a852b5b4e6",
   "metadata": {},
   "outputs": [
    {
     "data": {
      "text/plain": [
       "[1, 2, 3]"
      ]
     },
     "execution_count": 13,
     "metadata": {},
     "output_type": "execute_result"
    }
   ],
   "source": [
    "int_filter(1,2,3,4.5,True,10.5,'hello',10.5j)"
   ]
  },
  {
   "cell_type": "code",
   "execution_count": 29,
   "id": "563888c8-587b-480b-85a8-f59c789888f3",
   "metadata": {},
   "outputs": [],
   "source": [
    "def test(a,*args):\n",
    "    return a, args\n",
    "    "
   ]
  },
  {
   "cell_type": "code",
   "execution_count": 33,
   "id": "82a562b4-cec3-4b2c-9e9f-ca5cb911c5f0",
   "metadata": {},
   "outputs": [
    {
     "data": {
      "text/plain": [
       "(100, (1, 2, 3, 4, 6, 5, 4, 4, 8, 1, 2))"
      ]
     },
     "execution_count": 33,
     "metadata": {},
     "output_type": "execute_result"
    }
   ],
   "source": [
    "test(100,1,2,3,4,6,5,4,4,8,1,2,)"
   ]
  },
  {
   "cell_type": "code",
   "execution_count": 35,
   "id": "15953a82-5a8c-4f31-8b86-0b14e6459a5f",
   "metadata": {},
   "outputs": [],
   "source": [
    "def test2(x,y,*args):\n",
    "    return x, y, args\n",
    "    "
   ]
  },
  {
   "cell_type": "code",
   "execution_count": 39,
   "id": "e9d6e4be-8580-4109-b185-64d6611b0155",
   "metadata": {},
   "outputs": [
    {
     "data": {
      "text/plain": [
       "(1, 2, (3, 4, 5, 6.7, 8, 9))"
      ]
     },
     "execution_count": 39,
     "metadata": {},
     "output_type": "execute_result"
    }
   ],
   "source": [
    "test2(1,2,3,4,5,6.7,8,9)"
   ]
  },
  {
   "cell_type": "code",
   "execution_count": 41,
   "id": "dba48f8c-6c63-440e-aaf7-eceb553afcc3",
   "metadata": {},
   "outputs": [],
   "source": [
    "# find list type data *args"
   ]
  },
  {
   "cell_type": "code",
   "execution_count": 45,
   "id": "45eb6908-945b-474e-8676-40c035d05794",
   "metadata": {},
   "outputs": [],
   "source": [
    "def list_filter(*args): \n",
    "    l = []\n",
    "    for i in args:\n",
    "        if type(i) == list:\n",
    "            l.append(i)\n",
    "    return l        "
   ]
  },
  {
   "cell_type": "code",
   "execution_count": 47,
   "id": "f30d28c4-3a98-46df-b3cd-eb7acbb1b0c3",
   "metadata": {},
   "outputs": [
    {
     "data": {
      "text/plain": [
       "[[10, 20, 30]]"
      ]
     },
     "execution_count": 47,
     "metadata": {},
     "output_type": "execute_result"
    }
   ],
   "source": [
    "list_filter(1,1.5,'hello',[10,20,30],(1,2,3))"
   ]
  },
  {
   "cell_type": "code",
   "execution_count": 49,
   "id": "3ab666d6-130b-439e-aeaf-bda5b9286409",
   "metadata": {},
   "outputs": [],
   "source": [
    "# dicti\n",
    "#kwargs"
   ]
  },
  {
   "cell_type": "code",
   "execution_count": 63,
   "id": "171cfed8-e9af-4b72-b871-264073c693da",
   "metadata": {},
   "outputs": [],
   "source": [
    "def test3(**kwargs):\n",
    "     return kwargs"
   ]
  },
  {
   "cell_type": "code",
   "execution_count": 71,
   "id": "87f66510-a4bd-43eb-8834-b45f7ffb19b2",
   "metadata": {},
   "outputs": [
    {
     "data": {
      "text/plain": [
       "{'a': 10, 'b': 5, 'c': 15}"
      ]
     },
     "execution_count": 71,
     "metadata": {},
     "output_type": "execute_result"
    }
   ],
   "source": [
    "test3(a=10,b=5,c=15)"
   ]
  },
  {
   "cell_type": "code",
   "execution_count": 21,
   "id": "b92f1e84-34ef-4f34-b0a9-1aec7a51b196",
   "metadata": {},
   "outputs": [],
   "source": [
    "def test4(*args,**kwargs):\n",
    "    return args,kwargs"
   ]
  },
  {
   "cell_type": "code",
   "execution_count": 91,
   "id": "b3e23cac-8895-41c1-a607-daf446eca167",
   "metadata": {},
   "outputs": [
    {
     "data": {
      "text/plain": [
       "((1, 2, 3, 4, 5, 32, 5, 4, 5), {'a': 10, 'b': 8, 'c': 9})"
      ]
     },
     "execution_count": 91,
     "metadata": {},
     "output_type": "execute_result"
    }
   ],
   "source": [
    "test4(1,2,3,4,5,32,5,4,5,a=10,b=8,c=9)"
   ]
  },
  {
   "cell_type": "code",
   "execution_count": 93,
   "id": "a4d8e89a-a54d-449a-8b8c-577eaeed3e73",
   "metadata": {},
   "outputs": [],
   "source": [
    "def test5(a,*args,**kwargs):\n",
    "    return a,args, kwargs"
   ]
  },
  {
   "cell_type": "code",
   "execution_count": 95,
   "id": "ddfa0666-062a-4af6-b5fa-a024bd6388b5",
   "metadata": {},
   "outputs": [
    {
     "data": {
      "text/plain": [
       "(1, (2, 3, 4, 5, 6, 7, 8), {'k': 6, 'p': 3, 'l': 9})"
      ]
     },
     "execution_count": 95,
     "metadata": {},
     "output_type": "execute_result"
    }
   ],
   "source": [
    "test5(1,2,3,4,5,6,7,8,k=6,p=3,l=9)"
   ]
  },
  {
   "cell_type": "code",
   "execution_count": null,
   "id": "1ea2117f-e8f1-4163-8bb7-2b32d7187458",
   "metadata": {},
   "outputs": [],
   "source": []
  }
 ],
 "metadata": {
  "kernelspec": {
   "display_name": "Python 3 (ipykernel)",
   "language": "python",
   "name": "python3"
  },
  "language_info": {
   "codemirror_mode": {
    "name": "ipython",
    "version": 3
   },
   "file_extension": ".py",
   "mimetype": "text/x-python",
   "name": "python",
   "nbconvert_exporter": "python",
   "pygments_lexer": "ipython3",
   "version": "3.12.7"
  }
 },
 "nbformat": 4,
 "nbformat_minor": 5
}
