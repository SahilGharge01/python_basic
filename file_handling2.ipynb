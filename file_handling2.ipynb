{
 "cells": [
  {
   "cell_type": "code",
   "execution_count": 7,
   "id": "764707c9-d2db-404b-9719-e9e1d846f9ad",
   "metadata": {},
   "outputs": [
    {
     "name": "stdout",
     "output_type": "stream",
     "text": [
      " Volume in drive C is Windows\n",
      " Volume Serial Number is A4AC-9906\n",
      "\n",
      " Directory of C:\\Users\\HP\\python\\file\n",
      "\n",
      "18-12-2024  13:06    <DIR>          .\n",
      "16-12-2024  20:08    <DIR>          ..\n",
      "18-12-2024  12:45    <DIR>          .ipynb_checkpoints\n",
      "16-12-2024  20:26                21 example.txt\n",
      "16-12-2024  21:34            15,200 file_handling1.ipynb\n",
      "16-12-2024  21:31                68 function_1.py\n",
      "16-12-2024  20:44                53 hello_python.txt\n",
      "18-12-2024  13:00               225 hotel room.txt\n",
      "18-12-2024  13:06             5,504 ls.ipynb\n",
      "16-12-2024  21:03                68 sentences.txt\n",
      "               7 File(s)         21,139 bytes\n",
      "               3 Dir(s)  169,858,158,592 bytes free\n"
     ]
    }
   ],
   "source": [
    "ls"
   ]
  },
  {
   "cell_type": "code",
   "execution_count": 9,
   "id": "130bdbe4-2df0-4143-bc2c-7d04f670b5bb",
   "metadata": {},
   "outputs": [],
   "source": [
    "o = open('hotel room.txt', mode = 'w')"
   ]
  },
  {
   "cell_type": "code",
   "execution_count": 11,
   "id": "d52ffe4e-b7ef-408f-97a0-94b2002f3e9b",
   "metadata": {},
   "outputs": [
    {
     "data": {
      "text/plain": [
       "224"
      ]
     },
     "execution_count": 11,
     "metadata": {},
     "output_type": "execute_result"
    }
   ],
   "source": [
    "o.write('''System involves co-ordinating and overseeing the work activities. of others so that their activities are completed efficiently and effectively. \n",
    "Hotel room bookingis. the process of analysing,producing and evaluating it is .''')"
   ]
  },
  {
   "cell_type": "code",
   "execution_count": 13,
   "id": "cb334325-0e97-4520-8f88-5f41200c01ce",
   "metadata": {},
   "outputs": [],
   "source": [
    "o.close()"
   ]
  },
  {
   "cell_type": "code",
   "execution_count": 15,
   "id": "7c347f1c-3a75-4907-a30e-519398c562be",
   "metadata": {},
   "outputs": [],
   "source": [
    "o = open(\"hotel room.txt\", mode = 'r+')"
   ]
  },
  {
   "cell_type": "code",
   "execution_count": 17,
   "id": "f655d2cd-cc21-425a-91f7-5edc9231d675",
   "metadata": {},
   "outputs": [
    {
     "data": {
      "text/plain": [
       "'System involves co-ordinating and overseeing the work activities. of others so that their activities are completed efficiently and effectively. \\nHotel room bookingis. the process of analysing,producing and evaluating it is .'"
      ]
     },
     "execution_count": 17,
     "metadata": {},
     "output_type": "execute_result"
    }
   ],
   "source": [
    "o.read()"
   ]
  },
  {
   "cell_type": "code",
   "execution_count": 19,
   "id": "28ae6941-b781-4d98-9c0a-94f36a2cb1d0",
   "metadata": {},
   "outputs": [
    {
     "data": {
      "text/plain": [
       "0"
      ]
     },
     "execution_count": 19,
     "metadata": {},
     "output_type": "execute_result"
    }
   ],
   "source": [
    "o.seek(0)"
   ]
  },
  {
   "cell_type": "code",
   "execution_count": 21,
   "id": "5343a415-e109-42ac-990a-ba79bc0bfc4f",
   "metadata": {},
   "outputs": [
    {
     "name": "stdout",
     "output_type": "stream",
     "text": [
      "S\n",
      "y\n",
      "s\n",
      "t\n",
      "e\n",
      "m\n",
      " \n",
      "i\n",
      "n\n",
      "v\n",
      "o\n",
      "l\n",
      "v\n",
      "e\n",
      "s\n",
      " \n",
      "c\n",
      "o\n",
      "-\n",
      "o\n",
      "r\n",
      "d\n",
      "i\n",
      "n\n",
      "a\n",
      "t\n",
      "i\n",
      "n\n",
      "g\n",
      " \n",
      "a\n",
      "n\n",
      "d\n",
      " \n",
      "o\n",
      "v\n",
      "e\n",
      "r\n",
      "s\n",
      "e\n",
      "e\n",
      "i\n",
      "n\n",
      "g\n",
      " \n",
      "t\n",
      "h\n",
      "e\n",
      " \n",
      "w\n",
      "o\n",
      "r\n",
      "k\n",
      " \n",
      "a\n",
      "c\n",
      "t\n",
      "i\n",
      "v\n",
      "i\n",
      "t\n",
      "i\n",
      "e\n",
      "s\n",
      ".\n",
      " \n",
      "o\n",
      "f\n",
      " \n",
      "o\n",
      "t\n",
      "h\n",
      "e\n",
      "r\n",
      "s\n",
      " \n",
      "s\n",
      "o\n",
      " \n",
      "t\n",
      "h\n",
      "a\n",
      "t\n",
      " \n",
      "t\n",
      "h\n",
      "e\n",
      "i\n",
      "r\n",
      " \n",
      "a\n",
      "c\n",
      "t\n",
      "i\n",
      "v\n",
      "i\n",
      "t\n",
      "i\n",
      "e\n",
      "s\n",
      " \n",
      "a\n",
      "r\n",
      "e\n",
      " \n",
      "c\n",
      "o\n",
      "m\n",
      "p\n",
      "l\n",
      "e\n",
      "t\n",
      "e\n",
      "d\n",
      " \n",
      "e\n",
      "f\n",
      "f\n",
      "i\n",
      "c\n",
      "i\n",
      "e\n",
      "n\n",
      "t\n",
      "l\n",
      "y\n",
      " \n",
      "a\n",
      "n\n",
      "d\n",
      " \n",
      "e\n",
      "f\n",
      "f\n",
      "e\n",
      "c\n",
      "t\n",
      "i\n",
      "v\n",
      "e\n",
      "l\n",
      "y\n",
      ".\n",
      " \n",
      "\n",
      "\n"
     ]
    }
   ],
   "source": [
    "for sentence in o.readline():\n",
    "    print(sentence)"
   ]
  },
  {
   "cell_type": "code",
   "execution_count": 23,
   "id": "0b5839c6-1d81-4e21-8d54-c0e387f30132",
   "metadata": {},
   "outputs": [
    {
     "data": {
      "text/plain": [
       "0"
      ]
     },
     "execution_count": 23,
     "metadata": {},
     "output_type": "execute_result"
    }
   ],
   "source": [
    "o.seek(0)"
   ]
  },
  {
   "cell_type": "code",
   "execution_count": 25,
   "id": "d37577db-11b1-48ee-ad22-409059cbe6fa",
   "metadata": {},
   "outputs": [
    {
     "name": "stdout",
     "output_type": "stream",
     "text": [
      "System involves co-ordinating and overseeing the work activities. of others so that their activities are completed efficiently and effectively. \n",
      "\n",
      "Hotel room bookingis. the process of analysing,producing and evaluating it is .\n"
     ]
    }
   ],
   "source": [
    "for sentences in o.readlines():\n",
    "    print(sentences)"
   ]
  },
  {
   "cell_type": "code",
   "execution_count": 27,
   "id": "4fa9a541-708f-4f68-ad1b-f82f7fd1c866",
   "metadata": {},
   "outputs": [],
   "source": [
    "s1 = '''           System involves co-ordinating and overseeing the work activities of others so that their activities are completed efficiently and effectively. \n",
    "Hotel room bookingis the process of analysing,producing and evaluating it is different way of promoting a product,service. Hotel room booking requires certain core values to be deployed to every element, process and  achieve effective and efficient result. \n",
    "Hotel room booking can be described as a unit of producing different items that are used in day to day life. Hotel room can be based on the transaction type and items in Travel. The no of transactions involves in system of Hotel room depends upon the size of the items which is required. \n",
    "'''"
   ]
  },
  {
   "cell_type": "code",
   "execution_count": null,
   "id": "7d6c9896-c481-41b5-8477-4a3cd0199214",
   "metadata": {},
   "outputs": [],
   "source": []
  },
  {
   "cell_type": "code",
   "execution_count": 30,
   "id": "16eaf3c9-f837-45e9-b393-b9dbd5f771b3",
   "metadata": {},
   "outputs": [
    {
     "data": {
      "text/plain": [
       "'           System involves co-ordinating and overseeing the work activities of others so that their activities are completed efficiently and effectively. \\nHotel room bookingis the process of analysing,producing and evaluating it is different way of promoting a product,service. Hotel room booking requires certain core values to be deployed to every element, process and  achieve effective and efficient result. \\nHotel room booking can be described as a unit of producing different items that are used in day to day life. Hotel room can be based on the transaction type and items in Travel. The no of transactions involves in system of Hotel room depends upon the size of the items which is required. \\n'"
      ]
     },
     "execution_count": 30,
     "metadata": {},
     "output_type": "execute_result"
    }
   ],
   "source": [
    "s1"
   ]
  },
  {
   "cell_type": "code",
   "execution_count": 36,
   "id": "325b3d30-abfa-45ab-8872-9cdbc16947c2",
   "metadata": {},
   "outputs": [],
   "source": [
    "words =s1.split(' ')"
   ]
  },
  {
   "cell_type": "code",
   "execution_count": 39,
   "id": "209e4ff6-49a8-4cc7-8d12-5a12acc98556",
   "metadata": {},
   "outputs": [
    {
     "data": {
      "text/plain": [
       "['',\n",
       " '',\n",
       " '',\n",
       " '',\n",
       " '',\n",
       " '',\n",
       " '',\n",
       " '',\n",
       " '',\n",
       " '',\n",
       " '',\n",
       " 'System',\n",
       " 'involves',\n",
       " 'co-ordinating',\n",
       " 'and',\n",
       " 'overseeing',\n",
       " 'the',\n",
       " 'work',\n",
       " 'activities',\n",
       " 'of',\n",
       " 'others',\n",
       " 'so',\n",
       " 'that',\n",
       " 'their',\n",
       " 'activities',\n",
       " 'are',\n",
       " 'completed',\n",
       " 'efficiently',\n",
       " 'and',\n",
       " 'effectively.',\n",
       " '\\nHotel',\n",
       " 'room',\n",
       " 'bookingis',\n",
       " 'the',\n",
       " 'process',\n",
       " 'of',\n",
       " 'analysing,producing',\n",
       " 'and',\n",
       " 'evaluating',\n",
       " 'it',\n",
       " 'is',\n",
       " 'different',\n",
       " 'way',\n",
       " 'of',\n",
       " 'promoting',\n",
       " 'a',\n",
       " 'product,service.',\n",
       " 'Hotel',\n",
       " 'room',\n",
       " 'booking',\n",
       " 'requires',\n",
       " 'certain',\n",
       " 'core',\n",
       " 'values',\n",
       " 'to',\n",
       " 'be',\n",
       " 'deployed',\n",
       " 'to',\n",
       " 'every',\n",
       " 'element,',\n",
       " 'process',\n",
       " 'and',\n",
       " '',\n",
       " 'achieve',\n",
       " 'effective',\n",
       " 'and',\n",
       " 'efficient',\n",
       " 'result.',\n",
       " '\\nHotel',\n",
       " 'room',\n",
       " 'booking',\n",
       " 'can',\n",
       " 'be',\n",
       " 'described',\n",
       " 'as',\n",
       " 'a',\n",
       " 'unit',\n",
       " 'of',\n",
       " 'producing',\n",
       " 'different',\n",
       " 'items',\n",
       " 'that',\n",
       " 'are',\n",
       " 'used',\n",
       " 'in',\n",
       " 'day',\n",
       " 'to',\n",
       " 'day',\n",
       " 'life.',\n",
       " 'Hotel',\n",
       " 'room',\n",
       " 'can',\n",
       " 'be',\n",
       " 'based',\n",
       " 'on',\n",
       " 'the',\n",
       " 'transaction',\n",
       " 'type',\n",
       " 'and',\n",
       " 'items',\n",
       " 'in',\n",
       " 'Travel.',\n",
       " 'The',\n",
       " 'no',\n",
       " 'of',\n",
       " 'transactions',\n",
       " 'involves',\n",
       " 'in',\n",
       " 'system',\n",
       " 'of',\n",
       " 'Hotel',\n",
       " 'room',\n",
       " 'depends',\n",
       " 'upon',\n",
       " 'the',\n",
       " 'size',\n",
       " 'of',\n",
       " 'the',\n",
       " 'items',\n",
       " 'which',\n",
       " 'is',\n",
       " 'required.',\n",
       " '\\n']"
      ]
     },
     "execution_count": 39,
     "metadata": {},
     "output_type": "execute_result"
    }
   ],
   "source": [
    "words"
   ]
  },
  {
   "cell_type": "code",
   "execution_count": 41,
   "id": "9ed0aab0-57ca-423f-9afd-c9c349577a85",
   "metadata": {},
   "outputs": [
    {
     "data": {
      "text/plain": [
       "50"
      ]
     },
     "execution_count": 41,
     "metadata": {},
     "output_type": "execute_result"
    }
   ],
   "source": [
    "s1.count('i')"
   ]
  },
  {
   "cell_type": "code",
   "execution_count": 43,
   "id": "a09e7bfe-8b65-4410-98a0-4ab30c5165a5",
   "metadata": {},
   "outputs": [
    {
     "data": {
      "text/plain": [
       "0"
      ]
     },
     "execution_count": 43,
     "metadata": {},
     "output_type": "execute_result"
    }
   ],
   "source": [
    "o.seek(0)"
   ]
  },
  {
   "cell_type": "code",
   "execution_count": 45,
   "id": "23bf2094-588f-481f-bc96-a2d72c787b27",
   "metadata": {},
   "outputs": [
    {
     "data": {
      "text/plain": [
       "'System involves co-ordinating and overseeing the work activities. of others so that their activities are completed efficiently and effectively. \\n'"
      ]
     },
     "execution_count": 45,
     "metadata": {},
     "output_type": "execute_result"
    }
   ],
   "source": [
    "o.readline()"
   ]
  },
  {
   "cell_type": "code",
   "execution_count": 63,
   "id": "34df8ad9-9cb2-4485-b306-b0627defd937",
   "metadata": {},
   "outputs": [
    {
     "data": {
      "text/plain": [
       "0"
      ]
     },
     "execution_count": 63,
     "metadata": {},
     "output_type": "execute_result"
    }
   ],
   "source": [
    "o.seek(0)"
   ]
  },
  {
   "cell_type": "code",
   "execution_count": 65,
   "id": "dd5ed245-eb52-4d3f-9930-ad2ddbd0b562",
   "metadata": {},
   "outputs": [],
   "source": [
    "l = []\n",
    "for i in o.readline():\n",
    "    l.append(i)"
   ]
  },
  {
   "cell_type": "code",
   "execution_count": 67,
   "id": "bccd51d4-9af1-4986-832a-f27c5600cdfd",
   "metadata": {},
   "outputs": [
    {
     "data": {
      "text/plain": [
       "['S',\n",
       " 'y',\n",
       " 's',\n",
       " 't',\n",
       " 'e',\n",
       " 'm',\n",
       " ' ',\n",
       " 'i',\n",
       " 'n',\n",
       " 'v',\n",
       " 'o',\n",
       " 'l',\n",
       " 'v',\n",
       " 'e',\n",
       " 's',\n",
       " ' ',\n",
       " 'c',\n",
       " 'o',\n",
       " '-',\n",
       " 'o',\n",
       " 'r',\n",
       " 'd',\n",
       " 'i',\n",
       " 'n',\n",
       " 'a',\n",
       " 't',\n",
       " 'i',\n",
       " 'n',\n",
       " 'g',\n",
       " ' ',\n",
       " 'a',\n",
       " 'n',\n",
       " 'd',\n",
       " ' ',\n",
       " 'o',\n",
       " 'v',\n",
       " 'e',\n",
       " 'r',\n",
       " 's',\n",
       " 'e',\n",
       " 'e',\n",
       " 'i',\n",
       " 'n',\n",
       " 'g',\n",
       " ' ',\n",
       " 't',\n",
       " 'h',\n",
       " 'e',\n",
       " ' ',\n",
       " 'w',\n",
       " 'o',\n",
       " 'r',\n",
       " 'k',\n",
       " ' ',\n",
       " 'a',\n",
       " 'c',\n",
       " 't',\n",
       " 'i',\n",
       " 'v',\n",
       " 'i',\n",
       " 't',\n",
       " 'i',\n",
       " 'e',\n",
       " 's',\n",
       " '.',\n",
       " ' ',\n",
       " 'o',\n",
       " 'f',\n",
       " ' ',\n",
       " 'o',\n",
       " 't',\n",
       " 'h',\n",
       " 'e',\n",
       " 'r',\n",
       " 's',\n",
       " ' ',\n",
       " 's',\n",
       " 'o',\n",
       " ' ',\n",
       " 't',\n",
       " 'h',\n",
       " 'a',\n",
       " 't',\n",
       " ' ',\n",
       " 't',\n",
       " 'h',\n",
       " 'e',\n",
       " 'i',\n",
       " 'r',\n",
       " ' ',\n",
       " 'a',\n",
       " 'c',\n",
       " 't',\n",
       " 'i',\n",
       " 'v',\n",
       " 'i',\n",
       " 't',\n",
       " 'i',\n",
       " 'e',\n",
       " 's',\n",
       " ' ',\n",
       " 'a',\n",
       " 'r',\n",
       " 'e',\n",
       " ' ',\n",
       " 'c',\n",
       " 'o',\n",
       " 'm',\n",
       " 'p',\n",
       " 'l',\n",
       " 'e',\n",
       " 't',\n",
       " 'e',\n",
       " 'd',\n",
       " ' ',\n",
       " 'e',\n",
       " 'f',\n",
       " 'f',\n",
       " 'i',\n",
       " 'c',\n",
       " 'i',\n",
       " 'e',\n",
       " 'n',\n",
       " 't',\n",
       " 'l',\n",
       " 'y',\n",
       " ' ',\n",
       " 'a',\n",
       " 'n',\n",
       " 'd',\n",
       " ' ',\n",
       " 'e',\n",
       " 'f',\n",
       " 'f',\n",
       " 'e',\n",
       " 'c',\n",
       " 't',\n",
       " 'i',\n",
       " 'v',\n",
       " 'e',\n",
       " 'l',\n",
       " 'y',\n",
       " '.',\n",
       " ' ',\n",
       " '\\n']"
      ]
     },
     "execution_count": 67,
     "metadata": {},
     "output_type": "execute_result"
    }
   ],
   "source": [
    "l"
   ]
  },
  {
   "cell_type": "code",
   "execution_count": 69,
   "id": "7239c6ee-dff3-417c-85b9-e1a1ec2d1eae",
   "metadata": {},
   "outputs": [
    {
     "data": {
      "text/plain": [
       "14"
      ]
     },
     "execution_count": 69,
     "metadata": {},
     "output_type": "execute_result"
    }
   ],
   "source": [
    "l.count('i')"
   ]
  },
  {
   "cell_type": "code",
   "execution_count": 71,
   "id": "7ce97c5c-bfcb-432c-88a8-18e7454bd176",
   "metadata": {},
   "outputs": [],
   "source": [
    "l2 = []\n",
    "for i in o.readlines():\n",
    "    l2.append(i)"
   ]
  },
  {
   "cell_type": "code",
   "execution_count": 86,
   "id": "b4c9b00a-11a9-4c5a-840b-effc368bba48",
   "metadata": {},
   "outputs": [
    {
     "data": {
      "text/plain": [
       "['Hotel room bookingis. the process of analysing,producing and evaluating it is .']"
      ]
     },
     "execution_count": 86,
     "metadata": {},
     "output_type": "execute_result"
    }
   ],
   "source": [
    "l2"
   ]
  },
  {
   "cell_type": "code",
   "execution_count": 92,
   "id": "e6ca3719-f1b5-4fdb-a415-0b2272590368",
   "metadata": {},
   "outputs": [
    {
     "name": "stdout",
     "output_type": "stream",
     "text": [
      "Hotel room bookingis. the process of analysing,producing and evaluating it is .\n"
     ]
    }
   ],
   "source": [
    "for i in l2:\n",
    "    print(i)"
   ]
  },
  {
   "cell_type": "code",
   "execution_count": 94,
   "id": "d0e4cf55-44ff-491c-acf5-2af10299a906",
   "metadata": {},
   "outputs": [],
   "source": [
    "import numpy as np"
   ]
  },
  {
   "cell_type": "code",
   "execution_count": 96,
   "id": "a35fc984-e41d-4dcc-bc82-c09a1f5d0d91",
   "metadata": {},
   "outputs": [],
   "source": [
    "d = [94,53,65,60,45]"
   ]
  },
  {
   "cell_type": "code",
   "execution_count": 98,
   "id": "d0be1a5f-e634-4a0c-a230-164557940bcc",
   "metadata": {},
   "outputs": [
    {
     "data": {
      "text/plain": [
       "63.4"
      ]
     },
     "execution_count": 98,
     "metadata": {},
     "output_type": "execute_result"
    }
   ],
   "source": [
    "np.mean([94,53,65,60,45])"
   ]
  },
  {
   "cell_type": "code",
   "execution_count": null,
   "id": "706b19a2-413d-46dc-be9d-6e4e43da7fc8",
   "metadata": {},
   "outputs": [],
   "source": []
  }
 ],
 "metadata": {
  "kernelspec": {
   "display_name": "Python 3 (ipykernel)",
   "language": "python",
   "name": "python3"
  },
  "language_info": {
   "codemirror_mode": {
    "name": "ipython",
    "version": 3
   },
   "file_extension": ".py",
   "mimetype": "text/x-python",
   "name": "python",
   "nbconvert_exporter": "python",
   "pygments_lexer": "ipython3",
   "version": "3.12.7"
  }
 },
 "nbformat": 4,
 "nbformat_minor": 5
}
