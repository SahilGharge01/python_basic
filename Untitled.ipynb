{
 "cells": [
  {
   "cell_type": "markdown",
   "id": "9a534203-82bf-4707-8f9b-8c84a3171d01",
   "metadata": {},
   "source": [
    "# variable"
   ]
  },
  {
   "cell_type": "code",
   "execution_count": 3,
   "id": "d6959cde-cd19-4346-8e80-13775caacaa4",
   "metadata": {},
   "outputs": [],
   "source": [
    "city='pune'\n"
   ]
  },
  {
   "cell_type": "code",
   "execution_count": 5,
   "id": "f5456ee7-61cd-498b-be00-a6008ce72b20",
   "metadata": {},
   "outputs": [
    {
     "data": {
      "text/plain": [
       "'pune'"
      ]
     },
     "execution_count": 5,
     "metadata": {},
     "output_type": "execute_result"
    }
   ],
   "source": [
    "city"
   ]
  },
  {
   "cell_type": "code",
   "execution_count": 7,
   "id": "7745b805-d188-43e4-8e56-f62f7a02ab6a",
   "metadata": {},
   "outputs": [],
   "source": [
    "age='20'"
   ]
  },
  {
   "cell_type": "code",
   "execution_count": 9,
   "id": "8a3282f5-1786-42e5-96a1-074209d4d9bc",
   "metadata": {},
   "outputs": [
    {
     "data": {
      "text/plain": [
       "'20'"
      ]
     },
     "execution_count": 9,
     "metadata": {},
     "output_type": "execute_result"
    }
   ],
   "source": [
    "age"
   ]
  },
  {
   "cell_type": "code",
   "execution_count": 11,
   "id": "467a1072-88f3-47fb-b110-94be51b9738f",
   "metadata": {},
   "outputs": [],
   "source": [
    "name1='sahil'"
   ]
  },
  {
   "cell_type": "code",
   "execution_count": 13,
   "id": "5238f54a-6fdf-4aae-8116-01f4dfca6cb3",
   "metadata": {},
   "outputs": [
    {
     "data": {
      "text/plain": [
       "'sahil'"
      ]
     },
     "execution_count": 13,
     "metadata": {},
     "output_type": "execute_result"
    }
   ],
   "source": [
    "name1"
   ]
  },
  {
   "cell_type": "markdown",
   "id": "45d9ee51-3269-4cc5-b988-54d656eceed5",
   "metadata": {},
   "source": [
    "# operators "
   ]
  },
  {
   "cell_type": "raw",
   "id": "b5f90bd5-aa36-40a8-85d0-59b8ebd28276",
   "metadata": {},
   "source": [
    "arithmatic operator\n",
    "+,-,*,/,%"
   ]
  },
  {
   "cell_type": "code",
   "execution_count": 20,
   "id": "cfb95566-d58d-4f0f-b461-a202dd9c90e4",
   "metadata": {},
   "outputs": [
    {
     "data": {
      "text/plain": [
       "0"
      ]
     },
     "execution_count": 20,
     "metadata": {},
     "output_type": "execute_result"
    }
   ],
   "source": [
    "10%2"
   ]
  },
  {
   "cell_type": "code",
   "execution_count": 22,
   "id": "c6652a17-e645-40af-aea6-efd3c1595354",
   "metadata": {},
   "outputs": [
    {
     "data": {
      "text/plain": [
       "0"
      ]
     },
     "execution_count": 22,
     "metadata": {},
     "output_type": "execute_result"
    }
   ],
   "source": [
    "9%1"
   ]
  },
  {
   "cell_type": "raw",
   "id": "7f70ce88-dc08-4bb4-9de0-36d580a80e64",
   "metadata": {},
   "source": [
    "# realtional oprator/comparision operator\n",
    "<,>,<=,>=,==,!="
   ]
  },
  {
   "cell_type": "code",
   "execution_count": 24,
   "id": "1131ed95-4301-459e-9e67-1ccdab3d0d3b",
   "metadata": {},
   "outputs": [
    {
     "data": {
      "text/plain": [
       "True"
      ]
     },
     "execution_count": 24,
     "metadata": {},
     "output_type": "execute_result"
    }
   ],
   "source": [
    "10<20"
   ]
  },
  {
   "cell_type": "code",
   "execution_count": 26,
   "id": "474c4857-0d00-45e5-88b8-89aa337369e4",
   "metadata": {},
   "outputs": [
    {
     "data": {
      "text/plain": [
       "False"
      ]
     },
     "execution_count": 26,
     "metadata": {},
     "output_type": "execute_result"
    }
   ],
   "source": [
    "50<20"
   ]
  },
  {
   "cell_type": "code",
   "execution_count": 28,
   "id": "5a13d739-3bf4-4602-91e0-fd30c5168742",
   "metadata": {},
   "outputs": [
    {
     "data": {
      "text/plain": [
       "False"
      ]
     },
     "execution_count": 28,
     "metadata": {},
     "output_type": "execute_result"
    }
   ],
   "source": [
    "10>10"
   ]
  },
  {
   "cell_type": "code",
   "execution_count": 30,
   "id": "f08f708d-1f42-409b-bbd6-2ed6a4163c2c",
   "metadata": {},
   "outputs": [
    {
     "data": {
      "text/plain": [
       "True"
      ]
     },
     "execution_count": 30,
     "metadata": {},
     "output_type": "execute_result"
    }
   ],
   "source": [
    "10>=10"
   ]
  },
  {
   "cell_type": "raw",
   "id": "71fbaa96-64f1-4836-8bc0-5136a901c24f",
   "metadata": {},
   "source": [
    "logical oprator\n",
    "Eg= and,or"
   ]
  },
  {
   "cell_type": "code",
   "execution_count": 34,
   "id": "f9f266fd-349c-45ce-8488-69bd706b4928",
   "metadata": {},
   "outputs": [
    {
     "data": {
      "text/plain": [
       "True"
      ]
     },
     "execution_count": 34,
     "metadata": {},
     "output_type": "execute_result"
    }
   ],
   "source": [
    "True and True"
   ]
  },
  {
   "cell_type": "code",
   "execution_count": 36,
   "id": "06742d83-a85e-4f6a-8cee-277785f2de91",
   "metadata": {},
   "outputs": [
    {
     "data": {
      "text/plain": [
       "False"
      ]
     },
     "execution_count": 36,
     "metadata": {},
     "output_type": "execute_result"
    }
   ],
   "source": [
    "False and False"
   ]
  },
  {
   "cell_type": "code",
   "execution_count": null,
   "id": "1ecebc68-6f35-43f0-8544-5775cd2d4d3a",
   "metadata": {},
   "outputs": [],
   "source": [
    "#power "
   ]
  },
  {
   "cell_type": "code",
   "execution_count": 38,
   "id": "2a519827-5cd9-453e-80f6-5fee3382cfde",
   "metadata": {},
   "outputs": [
    {
     "data": {
      "text/plain": [
       "4"
      ]
     },
     "execution_count": 38,
     "metadata": {},
     "output_type": "execute_result"
    }
   ],
   "source": [
    "2**2"
   ]
  },
  {
   "cell_type": "code",
   "execution_count": 40,
   "id": "8d44118e-0fb4-4d0f-9b2f-93d0a1dbf949",
   "metadata": {},
   "outputs": [
    {
     "data": {
      "text/plain": [
       "8"
      ]
     },
     "execution_count": 40,
     "metadata": {},
     "output_type": "execute_result"
    }
   ],
   "source": [
    "2**3"
   ]
  },
  {
   "cell_type": "code",
   "execution_count": null,
   "id": "74a9c4ba-6e0a-4f36-9980-aa7ec63b2ce1",
   "metadata": {},
   "outputs": [],
   "source": []
  }
 ],
 "metadata": {
  "kernelspec": {
   "display_name": "Python 3 (ipykernel)",
   "language": "python",
   "name": "python3"
  },
  "language_info": {
   "codemirror_mode": {
    "name": "ipython",
    "version": 3
   },
   "file_extension": ".py",
   "mimetype": "text/x-python",
   "name": "python",
   "nbconvert_exporter": "python",
   "pygments_lexer": "ipython3",
   "version": "3.12.7"
  }
 },
 "nbformat": 4,
 "nbformat_minor": 5
}
