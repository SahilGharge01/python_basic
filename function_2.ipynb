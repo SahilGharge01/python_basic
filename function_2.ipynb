{
 "cells": [
  {
   "cell_type": "code",
   "execution_count": 3,
   "id": "937b7243-7cb4-4b62-8f69-337fae8ea1c3",
   "metadata": {},
   "outputs": [],
   "source": [
    "def test (x):\n",
    "    if x > 10:\n",
    "        return 'greater then 10'\n",
    "    else:\n",
    "        return 'not greater then 10'"
   ]
  },
  {
   "cell_type": "code",
   "execution_count": 5,
   "id": "36f7cf5e-99e3-4d3d-bc8a-94bd3a71600c",
   "metadata": {},
   "outputs": [
    {
     "data": {
      "text/plain": [
       "'not greater then 10'"
      ]
     },
     "execution_count": 5,
     "metadata": {},
     "output_type": "execute_result"
    }
   ],
   "source": [
    "test(4)"
   ]
  },
  {
   "cell_type": "code",
   "execution_count": 7,
   "id": "63f32ac0-faf2-4d47-b2a0-3d5fd7674792",
   "metadata": {},
   "outputs": [
    {
     "data": {
      "text/plain": [
       "'greater then 10'"
      ]
     },
     "execution_count": 7,
     "metadata": {},
     "output_type": "execute_result"
    }
   ],
   "source": [
    "test(19)"
   ]
  },
  {
   "cell_type": "code",
   "execution_count": 9,
   "id": "f3bfb3fd-d450-493f-8d00-35347249936b",
   "metadata": {},
   "outputs": [],
   "source": [
    "def test2(a,b,c,d,e):\n",
    "    return a,b,c,d,e"
   ]
  },
  {
   "cell_type": "code",
   "execution_count": 11,
   "id": "c58f7c04-e942-48d8-a206-9678180f8758",
   "metadata": {},
   "outputs": [
    {
     "data": {
      "text/plain": [
       "(10, 20, 30, 50, 40)"
      ]
     },
     "execution_count": 11,
     "metadata": {},
     "output_type": "execute_result"
    }
   ],
   "source": [
    "test2 (10,20,30,50,40)"
   ]
  },
  {
   "cell_type": "code",
   "execution_count": 17,
   "id": "491d32b8-c3ed-4afa-81a2-d12ad1bdab05",
   "metadata": {},
   "outputs": [],
   "source": [
    "l =[1,2,.3,4,[10,20,30,40],5,6,7]"
   ]
  },
  {
   "cell_type": "code",
   "execution_count": 19,
   "id": "0271a97f-7fe1-47dd-acb5-257333b2dd4a",
   "metadata": {},
   "outputs": [
    {
     "data": {
      "text/plain": [
       "[10, 20, 30, 40]"
      ]
     },
     "execution_count": 19,
     "metadata": {},
     "output_type": "execute_result"
    }
   ],
   "source": [
    "l[4]"
   ]
  },
  {
   "cell_type": "code",
   "execution_count": 38,
   "id": "4db94cfb-5fdb-48cd-b30e-2528be8ce988",
   "metadata": {},
   "outputs": [],
   "source": [
    "mix = [10,1.5,True,'hello']"
   ]
  },
  {
   "cell_type": "code",
   "execution_count": 34,
   "id": "074f79ca-3270-47f2-ab98-f9e9f73a13e3",
   "metadata": {},
   "outputs": [],
   "source": [
    "def int_filter(x):\n",
    "    l = []\n",
    "    for i in x:\n",
    "        if  type(i) == int:\n",
    "            l.append(i)\n",
    "    return l        "
   ]
  },
  {
   "cell_type": "code",
   "execution_count": 40,
   "id": "dddd835f-741c-4890-8e9a-13ba435d23be",
   "metadata": {},
   "outputs": [
    {
     "data": {
      "text/plain": [
       "[10]"
      ]
     },
     "execution_count": 40,
     "metadata": {},
     "output_type": "execute_result"
    }
   ],
   "source": [
    "int_filter( [10,1.5,True,'hello'])"
   ]
  },
  {
   "cell_type": "code",
   "execution_count": 42,
   "id": "b1d72558-036e-4a4d-89c0-a86d06aa6ceb",
   "metadata": {},
   "outputs": [],
   "source": [
    "# local andf globle  varible"
   ]
  },
  {
   "cell_type": "code",
   "execution_count": 52,
   "id": "df66015f-ec12-4e35-81e4-2e16220e1fed",
   "metadata": {},
   "outputs": [],
   "source": [
    "x = [1,2,3,4,5] #globally"
   ]
  },
  {
   "cell_type": "code",
   "execution_count": 54,
   "id": "320abf14-7813-4efb-a200-67f150730046",
   "metadata": {},
   "outputs": [
    {
     "data": {
      "text/plain": [
       "[1, 2, 3, 4, 5]"
      ]
     },
     "execution_count": 54,
     "metadata": {},
     "output_type": "execute_result"
    }
   ],
   "source": [
    "x"
   ]
  },
  {
   "cell_type": "code",
   "execution_count": 56,
   "id": "b8b1f161-2d69-46ad-89bc-867a644f97aa",
   "metadata": {},
   "outputs": [],
   "source": [
    "def float_filter(x):\n",
    "    o = []\n",
    "    for i in x:\n",
    "        if type(i) == float:\n",
    "            o.append(i)\n",
    "    return o        "
   ]
  },
  {
   "cell_type": "code",
   "execution_count": 60,
   "id": "4dd4ac5a-0159-40fa-927e-58cc54953b17",
   "metadata": {},
   "outputs": [
    {
     "data": {
      "text/plain": [
       "[10.2]"
      ]
     },
     "execution_count": 60,
     "metadata": {},
     "output_type": "execute_result"
    }
   ],
   "source": [
    "float_filter([10.2,1,2,3,True,'python',100,200])"
   ]
  },
  {
   "cell_type": "code",
   "execution_count": 64,
   "id": "7a270d1e-ee4c-4a84-9d08-14f8457fd319",
   "metadata": {},
   "outputs": [],
   "source": [
    "#list filter"
   ]
  },
  {
   "cell_type": "code",
   "execution_count": 68,
   "id": "73493cc3-3dc0-48ba-b998-471a8f600c60",
   "metadata": {},
   "outputs": [],
   "source": [
    "m =[(1,2,3,),[10,20,30,],{1,2,3},{'a':10,'b':20,'c':30}]"
   ]
  },
  {
   "cell_type": "code",
   "execution_count": 72,
   "id": "f584582e-5709-4343-aa3d-41a192d4ec21",
   "metadata": {},
   "outputs": [
    {
     "name": "stdout",
     "output_type": "stream",
     "text": [
      "(1, 2, 3) <class 'tuple'>\n",
      "[10, 20, 30] <class 'list'>\n",
      "{1, 2, 3} <class 'set'>\n",
      "{'a': 10, 'b': 20, 'c': 30} <class 'dict'>\n"
     ]
    }
   ],
   "source": [
    "for i in m:\n",
    "    print(i,type(i))"
   ]
  },
  {
   "cell_type": "code",
   "execution_count": 75,
   "id": "270b8a5e-7d6a-43be-88d1-c5399b26ccd1",
   "metadata": {},
   "outputs": [],
   "source": [
    "def list_filter(x):\n",
    "    l = []\n",
    "    for i in  x:\n",
    "        if type(i) == list:\n",
    "            l.append(i)\n",
    "    return l        "
   ]
  },
  {
   "cell_type": "code",
   "execution_count": 77,
   "id": "dc5dbf7e-da87-43b0-8b4a-467604a6a62f",
   "metadata": {},
   "outputs": [
    {
     "data": {
      "text/plain": [
       "[[10, 20, 30]]"
      ]
     },
     "execution_count": 77,
     "metadata": {},
     "output_type": "execute_result"
    }
   ],
   "source": [
    "list_filter([(1,2,3,),[10,20,30,],{1,2,3},{'a':10,'b':20,'c':30}])"
   ]
  },
  {
   "cell_type": "code",
   "execution_count": 79,
   "id": "3907574b-60a5-4f66-af34-b01246cf127c",
   "metadata": {},
   "outputs": [],
   "source": [
    "# ghow fetch nested list"
   ]
  },
  {
   "cell_type": "code",
   "execution_count": 81,
   "id": "fd764609-b70f-40ba-bac6-fc0e16055fed",
   "metadata": {},
   "outputs": [
    {
     "data": {
      "text/plain": [
       "[1, 2, 0.3, 4, [10, 20, 30, 40], 5, 6, 7]"
      ]
     },
     "execution_count": 81,
     "metadata": {},
     "output_type": "execute_result"
    }
   ],
   "source": [
    "l"
   ]
  },
  {
   "cell_type": "code",
   "execution_count": 83,
   "id": "b9fb9ca9-b8f4-46e5-a184-ab13e1ee6ebe",
   "metadata": {},
   "outputs": [
    {
     "name": "stdout",
     "output_type": "stream",
     "text": [
      "10\n",
      "20\n",
      "30\n",
      "40\n"
     ]
    }
   ],
   "source": [
    "for i in l:\n",
    "    if type(i) == list:\n",
    "        for num in i:\n",
    "            print(num)"
   ]
  },
  {
   "cell_type": "code",
   "execution_count": 85,
   "id": "b21c1641-f763-4dba-8bc1-b4a1a691be0f",
   "metadata": {},
   "outputs": [],
   "source": [
    "# fillter 0ut int type data"
   ]
  },
  {
   "cell_type": "code",
   "execution_count": 89,
   "id": "40cde9e6-d057-4060-be2a-503a73356f3b",
   "metadata": {},
   "outputs": [],
   "source": [
    "k = [1,1.5,10,True,[20,2.5,'hey',100],8]"
   ]
  },
  {
   "cell_type": "code",
   "execution_count": 98,
   "id": "c3d5e5fb-8347-4528-94e9-d60f41f1f8b6",
   "metadata": {},
   "outputs": [],
   "source": [
    "def int_nested_filter(x):\n",
    "    l = []\n",
    "    for i in x:\n",
    "        if type(i) == int:\n",
    "            l.append(i)\n",
    "        elif type(i) == list:\n",
    "           for num in i:\n",
    "               if type(num) ==int:\n",
    "                   l.append(num)\n",
    "    return l               "
   ]
  },
  {
   "cell_type": "code",
   "execution_count": 100,
   "id": "4473a36f-5b9b-4420-af37-3f305672e67d",
   "metadata": {},
   "outputs": [
    {
     "data": {
      "text/plain": [
       "[1, 10, 20, 100, 8]"
      ]
     },
     "execution_count": 100,
     "metadata": {},
     "output_type": "execute_result"
    }
   ],
   "source": [
    "int_nested_filter([1,1.5,10,True,[20,2.5,'hey',100],8])"
   ]
  },
  {
   "cell_type": "code",
   "execution_count": null,
   "id": "58e93b20-9126-461a-8855-9d35ef215955",
   "metadata": {},
   "outputs": [],
   "source": []
  }
 ],
 "metadata": {
  "kernelspec": {
   "display_name": "Python 3 (ipykernel)",
   "language": "python",
   "name": "python3"
  },
  "language_info": {
   "codemirror_mode": {
    "name": "ipython",
    "version": 3
   },
   "file_extension": ".py",
   "mimetype": "text/x-python",
   "name": "python",
   "nbconvert_exporter": "python",
   "pygments_lexer": "ipython3",
   "version": "3.12.7"
  }
 },
 "nbformat": 4,
 "nbformat_minor": 5
}
