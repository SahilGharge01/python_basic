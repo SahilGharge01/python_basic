{
 "cells": [
  {
   "cell_type": "markdown",
   "id": "d9dbba22-ba06-41ac-867d-1944fad80b39",
   "metadata": {},
   "source": [
    "# if_else"
   ]
  },
  {
   "cell_type": "code",
   "execution_count": 4,
   "id": "ed51d61a-a017-44d9-a33e-51320078fd03",
   "metadata": {},
   "outputs": [
    {
     "name": "stdout",
     "output_type": "stream",
     "text": [
      "Greater\n"
     ]
    }
   ],
   "source": [
    " if 10 > 5:\n",
    "   print ('Greater')\n",
    " else:\n",
    "     print('not greater')\n",
    "\n",
    "\n"
   ]
  },
  {
   "cell_type": "code",
   "execution_count": 6,
   "id": "8635ce04-d55a-49d4-976d-498cb6f3d73a",
   "metadata": {},
   "outputs": [
    {
     "name": "stdout",
     "output_type": "stream",
     "text": [
      "not greater\n"
     ]
    }
   ],
   "source": [
    " if 10 < 5:\n",
    "   print ('Greater')\n",
    " else:\n",
    "     print('not greater')\n",
    "\n",
    "\n"
   ]
  },
  {
   "cell_type": "code",
   "execution_count": 8,
   "id": "dd0387b8-de9f-4a1e-98a4-f5d70feae3f8",
   "metadata": {},
   "outputs": [
    {
     "name": "stdout",
     "output_type": "stream",
     "text": [
      "pass\n"
     ]
    }
   ],
   "source": [
    "marks = 45\n",
    "if marks >35:\n",
    "    print('pass')\n",
    "else:\n",
    "    print('fail')"
   ]
  },
  {
   "cell_type": "code",
   "execution_count": null,
   "id": "7f430967-a77e-4b35-9e4f-3b03b375069b",
   "metadata": {},
   "outputs": [],
   "source": []
  },
  {
   "cell_type": "code",
   "execution_count": 10,
   "id": "d9ed7c7a-ab33-4526-840b-d5bebb21ac2a",
   "metadata": {},
   "outputs": [
    {
     "name": "stdout",
     "output_type": "stream",
     "text": [
      "fail\n"
     ]
    }
   ],
   "source": [
    "marks = 10\n",
    "if marks >35:\n",
    "    print('pass')\n",
    "else:\n",
    "    print('fail')"
   ]
  },
  {
   "cell_type": "code",
   "execution_count": 30,
   "id": "698bf769-3d65-41ed-a303-8f344cfaf1bb",
   "metadata": {},
   "outputs": [
    {
     "name": "stdout",
     "output_type": "stream",
     "text": [
      "family will get angry on me \n"
     ]
    }
   ],
   "source": [
    "time = 12\n",
    "if time < 9:\n",
    "    print('normal in house')\n",
    "else : \n",
    "     print ('family will get angry on me ')\n",
    "    \n",
    "    "
   ]
  },
  {
   "cell_type": "code",
   "execution_count": 32,
   "id": "d511d9a8-1e33-4250-a9bd-3ac0fddd07a4",
   "metadata": {},
   "outputs": [
    {
     "data": {
      "text/plain": [
       "True"
      ]
     },
     "execution_count": 32,
     "metadata": {},
     "output_type": "execute_result"
    }
   ],
   "source": [
    "1 == 1"
   ]
  },
  {
   "cell_type": "code",
   "execution_count": null,
   "id": "daf7aae2-cfe5-4905-a8f2-f252a77fb564",
   "metadata": {},
   "outputs": [],
   "source": []
  }
 ],
 "metadata": {
  "kernelspec": {
   "display_name": "Python 3 (ipykernel)",
   "language": "python",
   "name": "python3"
  },
  "language_info": {
   "codemirror_mode": {
    "name": "ipython",
    "version": 3
   },
   "file_extension": ".py",
   "mimetype": "text/x-python",
   "name": "python",
   "nbconvert_exporter": "python",
   "pygments_lexer": "ipython3",
   "version": "3.12.7"
  }
 },
 "nbformat": 4,
 "nbformat_minor": 5
}
