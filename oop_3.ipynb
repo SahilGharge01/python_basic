{
 "cells": [
  {
   "cell_type": "markdown",
   "id": "9317e9e3-d0a2-4d1f-b85f-02d392cc26c3",
   "metadata": {},
   "source": [
    "# poly-morphism"
   ]
  },
  {
   "cell_type": "code",
   "execution_count": 2,
   "id": "05203552-fab7-49f7-9f86-ddc18c8e424d",
   "metadata": {},
   "outputs": [],
   "source": [
    "class animals ():\n",
    "    def sound(self):\n",
    "        return 'Animal Makes Sound'"
   ]
  },
  {
   "cell_type": "code",
   "execution_count": 4,
   "id": "be119cd6-6911-40ca-9102-df874ef2d01e",
   "metadata": {},
   "outputs": [],
   "source": [
    "class dog():\n",
    "    def sound(self):\n",
    "        return 'bhau bhau'"
   ]
  },
  {
   "cell_type": "code",
   "execution_count": 6,
   "id": "a3af9c71-a7f2-4c99-b29f-0d86990ce983",
   "metadata": {},
   "outputs": [],
   "source": [
    "class cat():\n",
    "    def sound(self):\n",
    "        return 'Mau Mau'"
   ]
  },
  {
   "cell_type": "code",
   "execution_count": 8,
   "id": "7b016dea-8b5f-4abe-8bf8-563b82858ae8",
   "metadata": {},
   "outputs": [],
   "source": [
    "jerry = cat()"
   ]
  },
  {
   "cell_type": "code",
   "execution_count": 10,
   "id": "9322cef8-bbe4-4bfa-a1bb-406614388b6f",
   "metadata": {},
   "outputs": [
    {
     "data": {
      "text/plain": [
       "'Mau Mau'"
      ]
     },
     "execution_count": 10,
     "metadata": {},
     "output_type": "execute_result"
    }
   ],
   "source": [
    "jerry.sound()"
   ]
  },
  {
   "cell_type": "code",
   "execution_count": 12,
   "id": "7a7311da-7ea8-47e0-9bff-f3192918b62f",
   "metadata": {},
   "outputs": [],
   "source": [
    "tom = dog()"
   ]
  },
  {
   "cell_type": "code",
   "execution_count": 14,
   "id": "cdfe10c6-8f25-4e94-9a58-ba79759b1aaa",
   "metadata": {},
   "outputs": [
    {
     "data": {
      "text/plain": [
       "'bhau bhau'"
      ]
     },
     "execution_count": 14,
     "metadata": {},
     "output_type": "execute_result"
    }
   ],
   "source": [
    "tom.sound()"
   ]
  },
  {
   "cell_type": "code",
   "execution_count": 16,
   "id": "70232a6a-1931-4991-88f6-123e1a0dfea1",
   "metadata": {},
   "outputs": [],
   "source": [
    "class phone():\n",
    "    def calling(self):\n",
    "        return 'i am  phone i am doing call'\n",
    "    "
   ]
  },
  {
   "cell_type": "code",
   "execution_count": 20,
   "id": "c2d94441-bf1b-4594-8f07-b603e308f7cf",
   "metadata": {},
   "outputs": [],
   "source": [
    "class moto():\n",
    "    def calling(self):\n",
    "        return \"i am moto i am doing call\""
   ]
  },
  {
   "cell_type": "code",
   "execution_count": 22,
   "id": "338d828b-302a-4956-aa6d-cefbe0e7bee0",
   "metadata": {},
   "outputs": [],
   "source": [
    "m11 = moto()"
   ]
  },
  {
   "cell_type": "code",
   "execution_count": 26,
   "id": "e18405e6-b9a7-4881-b533-db349d840f9d",
   "metadata": {},
   "outputs": [
    {
     "data": {
      "text/plain": [
       "'i am moto i am doing call'"
      ]
     },
     "execution_count": 26,
     "metadata": {},
     "output_type": "execute_result"
    }
   ],
   "source": [
    "m11.calling()"
   ]
  },
  {
   "cell_type": "code",
   "execution_count": 28,
   "id": "f94e2653-c0d9-4e20-8e7c-8bcb9aaaff24",
   "metadata": {},
   "outputs": [],
   "source": [
    "class iphone():\n",
    "    def calling(self):\n",
    "        return ' i am iphone i am doing call'"
   ]
  },
  {
   "cell_type": "code",
   "execution_count": 30,
   "id": "4640fbf1-133d-4dfb-85aa-974a8f27ff39",
   "metadata": {},
   "outputs": [],
   "source": [
    "iphone15 = iphone()"
   ]
  },
  {
   "cell_type": "code",
   "execution_count": 36,
   "id": "eae51b24-6ca2-4268-b1ac-f3d51a373b04",
   "metadata": {},
   "outputs": [
    {
     "data": {
      "text/plain": [
       "' i am iphone i am doing call'"
      ]
     },
     "execution_count": 36,
     "metadata": {},
     "output_type": "execute_result"
    }
   ],
   "source": [
    "iphone15.calling()"
   ]
  },
  {
   "cell_type": "code",
   "execution_count": 38,
   "id": "93838681-85a3-40e2-9bd0-6975295623b6",
   "metadata": {},
   "outputs": [],
   "source": [
    "# area of shapes"
   ]
  },
  {
   "cell_type": "code",
   "execution_count": 40,
   "id": "083c9aac-ee78-44d4-b854-7518062e466b",
   "metadata": {},
   "outputs": [],
   "source": [
    "class shape():\n",
    "    def area(self):\n",
    "        pass"
   ]
  },
  {
   "cell_type": "code",
   "execution_count": 92,
   "id": "d0b44d2c-ea95-4cac-891e-cf2fc7bdd4ea",
   "metadata": {},
   "outputs": [],
   "source": [
    "class rectangle():\n",
    "    def area(self,length,breadth):\n",
    "        return length * breadth"
   ]
  },
  {
   "cell_type": "code",
   "execution_count": 94,
   "id": "0c0bde52-3126-4199-ba60-97842140f97f",
   "metadata": {},
   "outputs": [],
   "source": [
    "class circle():\n",
    "    def area(self,radius):\n",
    "        return 3.14 * radius ** 2"
   ]
  },
  {
   "cell_type": "code",
   "execution_count": 96,
   "id": "2f51db12-0515-46d9-a958-cd7e5ef8c1c7",
   "metadata": {},
   "outputs": [],
   "source": [
    "c =circle()"
   ]
  },
  {
   "cell_type": "code",
   "execution_count": 98,
   "id": "a3c1a3f7-4c89-488b-beea-849e990be958",
   "metadata": {},
   "outputs": [
    {
     "data": {
      "text/plain": [
       "78.5"
      ]
     },
     "execution_count": 98,
     "metadata": {},
     "output_type": "execute_result"
    }
   ],
   "source": [
    "c.area(5)"
   ]
  },
  {
   "cell_type": "code",
   "execution_count": 100,
   "id": "182d6a8f-83f5-4a13-8c23-cb66c694e8a1",
   "metadata": {},
   "outputs": [],
   "source": [
    "r =rectangle()"
   ]
  },
  {
   "cell_type": "code",
   "execution_count": 102,
   "id": "10991681-dafa-4b09-9228-eff818a90ae2",
   "metadata": {},
   "outputs": [
    {
     "data": {
      "text/plain": [
       "50"
      ]
     },
     "execution_count": 102,
     "metadata": {},
     "output_type": "execute_result"
    }
   ],
   "source": [
    "r.area(10,5)"
   ]
  },
  {
   "cell_type": "markdown",
   "id": "41ee746b-ec45-49ee-90bd-851797fa2834",
   "metadata": {},
   "source": [
    "# abstraction method"
   ]
  },
  {
   "cell_type": "code",
   "execution_count": 105,
   "id": "7dc15187-bbb1-4df3-9852-fac5db9f55d7",
   "metadata": {},
   "outputs": [],
   "source": [
    "from abc import ABC, abstractmethod"
   ]
  },
  {
   "cell_type": "code",
   "execution_count": 107,
   "id": "abced3c1-286e-4a56-8c9d-5fc5aad59216",
   "metadata": {},
   "outputs": [],
   "source": [
    "# special classes"
   ]
  },
  {
   "cell_type": "code",
   "execution_count": 109,
   "id": "06001c3e-82b9-4d12-919a-7578dd7728fe",
   "metadata": {},
   "outputs": [],
   "source": [
    "class social_media(ABC):\n",
    "    @abstractmethod\n",
    "    def share_story(self):\n",
    "        pass"
   ]
  },
  {
   "cell_type": "code",
   "execution_count": 115,
   "id": "56e2d44e-461d-4540-8cdc-67bbee5e8a61",
   "metadata": {},
   "outputs": [],
   "source": [
    "class instagram(social_media):\n",
    "    def share_story(self):\n",
    "        return 'sharing stort to instagram'\n",
    "    def post_photo(self):\n",
    "        return 'your photo is posting'"
   ]
  },
  {
   "cell_type": "code",
   "execution_count": 126,
   "id": "a3ae2d9a-53e8-47df-8265-06b779d7371a",
   "metadata": {},
   "outputs": [],
   "source": [
    "class facebook(social_media):\n",
    "    def share_story(self):\n",
    "        return 'sharing story on facebook'\n",
    "    def go_live(self):\n",
    "         return 'going live on facebook'"
   ]
  },
  {
   "cell_type": "code",
   "execution_count": 128,
   "id": "8a0e8602-26d0-46a8-8aad-cb615edb1928",
   "metadata": {},
   "outputs": [],
   "source": [
    "f = facebook() "
   ]
  },
  {
   "cell_type": "code",
   "execution_count": 130,
   "id": "4eb06837-6a49-4891-93c2-bb4ac93048be",
   "metadata": {},
   "outputs": [
    {
     "data": {
      "text/plain": [
       "'sharing story on facebook'"
      ]
     },
     "execution_count": 130,
     "metadata": {},
     "output_type": "execute_result"
    }
   ],
   "source": [
    "f.share_story()"
   ]
  },
  {
   "cell_type": "code",
   "execution_count": 132,
   "id": "adac1d31-362b-4a87-afa4-a24206e040c6",
   "metadata": {},
   "outputs": [
    {
     "data": {
      "text/plain": [
       "'going live on facebook'"
      ]
     },
     "execution_count": 132,
     "metadata": {},
     "output_type": "execute_result"
    }
   ],
   "source": [
    "f.go_live()"
   ]
  },
  {
   "cell_type": "code",
   "execution_count": null,
   "id": "b6647c15-a94f-4591-8893-10bb891e4d87",
   "metadata": {},
   "outputs": [],
   "source": []
  }
 ],
 "metadata": {
  "kernelspec": {
   "display_name": "Python 3 (ipykernel)",
   "language": "python",
   "name": "python3"
  },
  "language_info": {
   "codemirror_mode": {
    "name": "ipython",
    "version": 3
   },
   "file_extension": ".py",
   "mimetype": "text/x-python",
   "name": "python",
   "nbconvert_exporter": "python",
   "pygments_lexer": "ipython3",
   "version": "3.12.7"
  }
 },
 "nbformat": 4,
 "nbformat_minor": 5
}
