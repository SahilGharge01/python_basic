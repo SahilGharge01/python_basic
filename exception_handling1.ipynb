{
 "cells": [
  {
   "cell_type": "code",
   "execution_count": 5,
   "id": "0b3c1698-f4d6-443f-a5a1-6f0aff20f91b",
   "metadata": {},
   "outputs": [
    {
     "name": "stdout",
     "output_type": "stream",
     "text": [
      "division by zero\n"
     ]
    }
   ],
   "source": [
    "try:\n",
    "    print(10/0)\n",
    "except Exception as e:\n",
    "    print(e)"
   ]
  },
  {
   "cell_type": "code",
   "execution_count": 9,
   "id": "55c69305-2cb2-48f0-8a13-27f6b3f250cf",
   "metadata": {},
   "outputs": [
    {
     "name": "stdout",
     "output_type": "stream",
     "text": [
      "the variable has not been assigned\n"
     ]
    }
   ],
   "source": [
    "try:\n",
    "    a = u\n",
    "except:\n",
    "    print('the variable has not been assigned')\n",
    "    "
   ]
  },
  {
   "cell_type": "code",
   "execution_count": 13,
   "id": "d5da6332-3f7e-4ff1-8cb2-4a4e20ebf954",
   "metadata": {},
   "outputs": [
    {
     "name": "stdout",
     "output_type": "stream",
     "text": [
      "name 'u' is not defined\n",
      "error in assigning variable\n"
     ]
    }
   ],
   "source": [
    "try:\n",
    "    a = u\n",
    "except Exception as e:\n",
    "    print(e)\n",
    "    print('error in assigning variable')"
   ]
  },
  {
   "cell_type": "code",
   "execution_count": 21,
   "id": "ad7dae80-6d60-4cd8-bda3-cf6272340779",
   "metadata": {},
   "outputs": [
    {
     "name": "stdout",
     "output_type": "stream",
     "text": [
      "error as try blog\n"
     ]
    }
   ],
   "source": [
    "try:\n",
    "    result = 1/2\n",
    "    a = j\n",
    "except ZeroDivisionError as error:\n",
    "    print(error)\n",
    "except :\n",
    "    print('error as try blog')"
   ]
  },
  {
   "cell_type": "code",
   "execution_count": 23,
   "id": "1a1f47ac-2ae2-43c9-9811-ae461c29222a",
   "metadata": {},
   "outputs": [
    {
     "name": "stdout",
     "output_type": "stream",
     "text": [
      "division by zero\n"
     ]
    }
   ],
   "source": [
    "try:\n",
    "    result = 1/0\n",
    "    a = j\n",
    "except ZeroDivisionError as error:\n",
    "    print(error)\n",
    "except :\n",
    "    print('error as try blog')"
   ]
  },
  {
   "cell_type": "code",
   "execution_count": 29,
   "id": "5c950259-afd4-4659-a7f9-f91f716a1e5a",
   "metadata": {},
   "outputs": [
    {
     "name": "stdin",
     "output_type": "stream",
     "text": [
      "enter only int data 0\n"
     ]
    }
   ],
   "source": [
    "try:\n",
    "    num = int(input('enter only int data'))\n",
    "    result = 10 * num\n",
    "except ValueError :\n",
    "    print(f'this is not vaild number ')"
   ]
  },
  {
   "cell_type": "code",
   "execution_count": 33,
   "id": "331ef0e3-09d2-4126-a00e-5d3637539843",
   "metadata": {},
   "outputs": [
    {
     "name": "stdin",
     "output_type": "stream",
     "text": [
      "enter only int data 0\n"
     ]
    },
    {
     "name": "stdout",
     "output_type": "stream",
     "text": [
      "division by zero\n"
     ]
    }
   ],
   "source": [
    "try:\n",
    "    num = int(input('enter only int data'))\n",
    "    result = 10 / num\n",
    "except ValueError :\n",
    "    print(f'this is not vaild number ')\n",
    "except Exception as e:\n",
    "    print(e)"
   ]
  },
  {
   "cell_type": "code",
   "execution_count": 35,
   "id": "dee8d9f9-0b74-4de8-bef1-b53f4b66a934",
   "metadata": {},
   "outputs": [],
   "source": [
    "# file handlind topic\n"
   ]
  },
  {
   "cell_type": "code",
   "execution_count": 37,
   "id": "c7193672-eda6-4803-922f-ac37992bce71",
   "metadata": {},
   "outputs": [
    {
     "name": "stdout",
     "output_type": "stream",
     "text": [
      "[Errno 2] No such file or directory: 'text.txt'\n"
     ]
    }
   ],
   "source": [
    "try:\n",
    "    f = open('text.txt', 'r')\n",
    "    f.read()\n",
    "\n",
    "except Exception as e:\n",
    "    print(e)"
   ]
  },
  {
   "cell_type": "code",
   "execution_count": 39,
   "id": "5daee279-c358-43c9-a5af-ff8ac386daf4",
   "metadata": {},
   "outputs": [],
   "source": [
    "def test1():\n",
    "    try:\n",
    "        result = 10/0\n",
    "    except Exception as e:\n",
    "        print(e)"
   ]
  },
  {
   "cell_type": "code",
   "execution_count": 41,
   "id": "088cc91c-81fc-43b9-b2db-fa8866a36bc5",
   "metadata": {},
   "outputs": [
    {
     "name": "stdout",
     "output_type": "stream",
     "text": [
      "division by zero\n"
     ]
    }
   ],
   "source": [
    "test1()"
   ]
  },
  {
   "cell_type": "code",
   "execution_count": 45,
   "id": "3d2fdd44-4462-47e4-997b-68fc82dc1ff0",
   "metadata": {},
   "outputs": [],
   "source": [
    "def division(a,b):\n",
    "    return  a / b"
   ]
  },
  {
   "cell_type": "code",
   "execution_count": 47,
   "id": "fad3d51b-e1e6-4a22-87b3-04e1e37bbe9b",
   "metadata": {},
   "outputs": [
    {
     "ename": "ZeroDivisionError",
     "evalue": "division by zero",
     "output_type": "error",
     "traceback": [
      "\u001b[1;31m---------------------------------------------------------------------------\u001b[0m",
      "\u001b[1;31mZeroDivisionError\u001b[0m                         Traceback (most recent call last)",
      "Cell \u001b[1;32mIn[47], line 1\u001b[0m\n\u001b[1;32m----> 1\u001b[0m division(\u001b[38;5;241m10\u001b[39m,\u001b[38;5;241m0\u001b[39m)\n",
      "Cell \u001b[1;32mIn[45], line 2\u001b[0m, in \u001b[0;36mdivision\u001b[1;34m(a, b)\u001b[0m\n\u001b[0;32m      1\u001b[0m \u001b[38;5;28;01mdef\u001b[39;00m \u001b[38;5;21mdivision\u001b[39m(a,b):\n\u001b[1;32m----> 2\u001b[0m     \u001b[38;5;28;01mreturn\u001b[39;00m  a \u001b[38;5;241m/\u001b[39m b\n",
      "\u001b[1;31mZeroDivisionError\u001b[0m: division by zero"
     ]
    }
   ],
   "source": [
    "division(10,0)"
   ]
  },
  {
   "cell_type": "code",
   "execution_count": 49,
   "id": "635103bf-04a0-4c02-bdbe-4c57881e3e89",
   "metadata": {},
   "outputs": [],
   "source": [
    "def division(a,b):\n",
    "    try:\n",
    "         return  a / b\n",
    "    except Exception as e:\n",
    "        print(e)"
   ]
  },
  {
   "cell_type": "code",
   "execution_count": 51,
   "id": "5ed0324c-9601-45b2-8d56-dea713fb3ca9",
   "metadata": {},
   "outputs": [
    {
     "name": "stdout",
     "output_type": "stream",
     "text": [
      "division by zero\n"
     ]
    }
   ],
   "source": [
    "division(10,0)\n"
   ]
  },
  {
   "cell_type": "code",
   "execution_count": null,
   "id": "d49b090c-ab5f-44a3-9128-0e2de434a9c4",
   "metadata": {},
   "outputs": [],
   "source": []
  }
 ],
 "metadata": {
  "kernelspec": {
   "display_name": "Python 3 (ipykernel)",
   "language": "python",
   "name": "python3"
  },
  "language_info": {
   "codemirror_mode": {
    "name": "ipython",
    "version": 3
   },
   "file_extension": ".py",
   "mimetype": "text/x-python",
   "name": "python",
   "nbconvert_exporter": "python",
   "pygments_lexer": "ipython3",
   "version": "3.12.7"
  }
 },
 "nbformat": 4,
 "nbformat_minor": 5
}
